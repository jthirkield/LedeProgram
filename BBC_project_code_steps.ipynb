{
 "cells": [
  {
   "cell_type": "markdown",
   "metadata": {},
   "source": [
    "## BBC project: process, hints, and recipes\n",
    "\n",
    "The major challenge of the BBC project is to transform the list of critics and movies into searchable Python lists and/or dictionaries. The most difficult aspect of this project is the first: scraping the page on the BBC and, using beautiful soup and regular expressions, building a data set that will work.\n",
    "\n",
    "Once you have the data set, you will be in good shape going forward--the goal after that will be to search for interesting patterns (top movies by country/critic/director/year)--this is the conceptual work you need to be thinking about while you struggle through wrangling your data.\n",
    "\n",
    "So, how do I wrangle this data? That is the central challenge that you'll be dealing with through Wednesday of this week. The HTML page on the BBC site poses a number of challenges. While the layout is relatively simple and consistent--the simplicity actually makes it a little bit harder, because there's not that many HTML tags to help you isolate each unit of data--you can use beautiful soup to isolate the line that contains all the information for the critic, and you can isolate each group of top 10 movies as well. You need to, and this is a bit harder, use beautiful soup find the critic--as well as the list of movies then immediately follow her/him. (Using beautiful soup to do that is challenging--I have instructions on how to figure it out, but if you can't figure it out--just email me and I will send you the code.\n",
    "\n",
    "Yes, that is how this process will work--below I have step-by-step instructions so you can try to write the code yourself. Do your best--and if you can't get there, email me and I will send you working code so you can move on to the next step.\n"
   ]
  },
  {
   "cell_type": "markdown",
   "metadata": {},
   "source": [
    "### REMEMBER: secondary source\n",
    "Part of the steps this week, is to find a source you can use to get the country of origin for each director. This is something you need to search for on your own--it will be hard for you to find a single page that has a list of every single director. But see what you can find. In the end, you don't have to have a complete database of every single director, but do your best to get as many as you can.\n"
   ]
  },
  {
   "cell_type": "markdown",
   "metadata": {},
   "source": [
    "### Getting started: Data Architecture\n",
    "You can come up with your own data scheme for this, but the one I'm recommending is three separate lists:\n",
    "\n",
    "The most challenging one is the **critics_list**:\n",
    "\n",
    "`critics_list = [['critic name','critic organization','critic country','movie one name','movie two name','movie three name',etc],['critic name','critic organization','critic country','movie one','movie two','movie three',etc]]`\n",
    "\n",
    "So each list would contain 13 elements -- three entries about the critic, and then the 10 movies picked. critics_list[0][3] would be the first critic's #1 movie, critics_list[2][12] would be the third critic's  #10 movie.\n",
    "\n",
    "Next, you would make  **\"movie_list\"** which would look like this:\n",
    "\n",
    "`movie_list = [['movie name','director name','movie date'],['movie name','director name','movie date']]`\n",
    "\n",
    "Just go through the whole page and make a list of lists for every movie. Each list would contain three elements. movie_list[0][0] what give you the name of the first movie in the list, movie_list[3][1] would give you the director of the fourth movie in the list.\n",
    "\n",
    "Finally, you would need make a simple **directors_list**.\n",
    "\n",
    "director_list = ['Director name','Director name']\n",
    "\n",
    "director_list[0] would give you first director.\n"
   ]
  },
  {
   "cell_type": "markdown",
   "metadata": {},
   "source": [
    "### Time for code: \n",
    "\n",
    "The first thing you need to do is import beautiful soup & urllib like we did in the homework, and scrape the page. http://www.bbc.com/culture/story/20160819-the-21st-centurys-100-greatest-films-who-voted\n",
    "\n",
    "\n",
    "One thing I should note there are two inconsistencies (actual errors in the HTML) that will cause you to lose a couple entries (which is okay but may be frustrating). I have posted a version of the exact same page with those inconsistencies fixed, if you want to scrape from that page: \n",
    "\n",
    "http://floatingmedia.com/columbia/BBC.html\n",
    "\n",
    "It's up to you. Okay let's begin!\n",
    "\n",
    "STEP 1:\n"
   ]
  },
  {
   "cell_type": "code",
   "execution_count": null,
   "metadata": {
    "collapsed": true
   },
   "outputs": [],
   "source": [
    "##Import your libraries: Beautiful soup, urllib, and re (For regular expressions)\n",
    "\n"
   ]
  },
  {
   "cell_type": "code",
   "execution_count": null,
   "metadata": {
    "collapsed": true
   },
   "outputs": [],
   "source": [
    "# read the URL, and put the HTML page into beautiful soup\n",
    "\n"
   ]
  },
  {
   "cell_type": "code",
   "execution_count": null,
   "metadata": {
    "collapsed": true
   },
   "outputs": [],
   "source": [
    "#Using beautiful soup find the div tag that contains \n",
    "#the entire list of critics and movies\n",
    "#Make a variable (like all_info) that holds all that information \n",
    "\n"
   ]
  },
  {
   "cell_type": "markdown",
   "metadata": {},
   "source": [
    "**STEP 2** Here is where it begins to get tricky: obviously at this point everything we want is surrounded in `<p>` tags. Use a beautiful soup find_all to get a list of every thing in `<p>` tag. Make a variable that contains that list (you could call it all_p or something)\n"
   ]
  },
  {
   "cell_type": "code",
   "execution_count": null,
   "metadata": {
    "collapsed": true
   },
   "outputs": [],
   "source": [
    "#find_all"
   ]
  },
  {
   "cell_type": "markdown",
   "metadata": {},
   "source": [
    "**STEP THREE** This is where all the magic has to happen: you need to find a way to look through all of the <p> elements (loop through the list you just got from the find_all()) and pullout critics, and list of movies. \n",
    "\n",
    "Critics should not be too hard--every critic entry is embedded in `<strong>` tags. But in order to get the movies attached to that critic--you need to find the `<p>` tag immediately following each `<p><strong>` -- you can do this using next_sibling.\n",
    "\n",
    "So, you need to build a loop that searches to your `all_p` list--if it has a `<strong>` tag then \n",
    "critic_info = p_line.strong.string\n",
    "movie_info = p_line.next_sibling\n",
    "\n",
    "As you go through this loop print(critic_info, movie_info) and see what comes out. If you're getting the critic string followed by movie line's HTML--you've got it!\n",
    "\n",
    "I give you the beginning of the loop below, and then you can build it piece by piece. If you want to see the overall architecture of the final loop, I have a commented example at the end of the page--it may or may not be helpful to look at. See how you do step-by-step and if you get stuck at a step email me with your code!\n",
    "\n"
   ]
  },
  {
   "cell_type": "code",
   "execution_count": null,
   "metadata": {
    "collapsed": true
   },
   "outputs": [],
   "source": [
    "##Write your loop for STEP 3 here\n",
    "#I started this for you,\n",
    "#Because you only want it to search starting with each critic\n",
    "#   if line.strong is not None: does that for you\n",
    "for lines in all_p:\n",
    "    if line.strong is not None:\n",
    "        #critic_info = ???\n",
    "        #movie_info = ???\n",
    "        \n",
    "\n",
    "\n",
    "\n"
   ]
  },
  {
   "cell_type": "markdown",
   "metadata": {},
   "source": [
    "**STEP 4**\n",
    "If your loop is successfully isolating those two lines: now it's time to parse each line with regular expressions. This needs to happen inside the loop--for every critic, and then (in STEP 5) for every movie. Here just **focus on getting the critics name, organization, and country.**\n",
    "\n",
    "Inside the loop--once you have critic_info -- make a regular expression that pulls out the name of the critic--make a variable called critic_name\n",
    "\n",
    "`critic_name = findall(regex,critic_info)`\n",
    "\n",
    "Do the same thing for critic_org and critic_cn\n",
    "\n",
    "As you go print(critic_name) then print(critic_org), etc.--to make sure you're getting the results. It might help, before you do all these regular expressions in a loop, to just grab one critics line and test regular expressions on it--to make sure that you're getting the right thing. I provided to solve a low for you to practice your regular expressions before you put them into the loop."
   ]
  },
  {
   "cell_type": "code",
   "execution_count": null,
   "metadata": {},
   "outputs": [],
   "source": [
    "#Practice/Build your regular expressions here\n",
    "crit_sample = \"Arturo Aguilar – Rolling Stone Mexico (Mexico)\"\n",
    "regex_for_name = r\"\"\n",
    "regex_for_org = r\"\"\n",
    "regex_for_cn = r\"\"\n",
    "name = re.findall(regex_for_name,crit_sample)\n",
    "name[0]\n"
   ]
  },
  {
   "cell_type": "code",
   "execution_count": 4,
   "metadata": {
    "collapsed": true
   },
   "outputs": [],
   "source": [
    "#Take your working loop from step three\n",
    "#And put it here With the regular expression parsing inside it"
   ]
  },
  {
   "cell_type": "markdown",
   "metadata": {},
   "source": [
    "**STEP 5**\n",
    "Now you need to get your **movie names**--this is the trickiest part. You want to use the same loop you have been working on, and get the name of each movie along with the critic information.\n",
    "\n",
    "To do this you need to search the movie_info variable -- which is each movie followed by a `<BR>` tag. I showed you this in class, but I'll just tell you again how to do this. To get a list of everything that is not a `<BR>` tag, use this method:\n",
    "\n",
    "`each_movie = movie_info.find_all(string=True)`\n",
    "\n",
    "This will give you a list called `each_movie`. Which will contain a string for each movie. Like this:\n",
    "\n",
    "`1. Zero Dark Thirty (Kathryn Bigelow, 2012)`\n",
    "\n",
    "Build a loop inside the main loop, that goes to each movie and prints out each movie.\n"
   ]
  },
  {
   "cell_type": "code",
   "execution_count": null,
   "metadata": {
    "collapsed": true
   },
   "outputs": [],
   "source": [
    "##TakeYou're working loop And add the find_all\n",
    "#And the inner loop that loops through each_movie"
   ]
  },
  {
   "cell_type": "markdown",
   "metadata": {},
   "source": [
    "Now that you have that loop working, you need to use regular expressions to get out the name of the movie. First practice getting a regular expression that gets you the name of the movie.\n"
   ]
  },
  {
   "cell_type": "code",
   "execution_count": null,
   "metadata": {
    "collapsed": true
   },
   "outputs": [],
   "source": [
    "#Practice/Build your regular expressions here\n",
    "movie_sample = \"1. Zero Dark Thirty (Kathryn Bigelow, 2012)\"\n",
    "movie_harder = \"7. 4 Months, 3 Weeks & 2 Days (Cristian Mungiu, 2007)\"\n",
    "regex_for_mname = r\"\"\n",
    "movie_name = re.findall(regex_for_mname,movie_sample)\n",
    "movie_name[0]\n"
   ]
  },
  {
   "cell_type": "markdown",
   "metadata": {},
   "source": [
    "**STEP 6**\n",
    "You're almost there!!! Now that you have a working regular expression put that in your inner loop to get up and move name.\n",
    "\n",
    "So the entire loop should be getting you 13 elements:\n",
    "critic_name\n",
    "critic_org\n",
    "critic_cn\n",
    "\n",
    "And an inner loop that will run 10 times (for the 10 movies) and give you 10 instance of:\n",
    "movie_name\n"
   ]
  },
  {
   "cell_type": "code",
   "execution_count": null,
   "metadata": {
    "collapsed": true
   },
   "outputs": [],
   "source": [
    "#Get that loop working here\n",
    "\n",
    "\n",
    "\n",
    "\n",
    "\n"
   ]
  },
  {
   "cell_type": "markdown",
   "metadata": {},
   "source": [
    "**STEP 7**\n",
    "This is the final step of the hardest part! If you make it all the way to the end of this let me know and we can discuss what to do next. If you've made it just following instructions, you are in great shape for the rest of this project--if not don't worry I will get you through by midweek.\n",
    "\n",
    "The final step is building a list of lists that contains the 13 elements 3 things about the critic and the 10 movies she/he selected.\n",
    "\n",
    "In the cell below, I give you a final architecture you need to use to get this most challenging list of lists."
   ]
  },
  {
   "cell_type": "code",
   "execution_count": null,
   "metadata": {
    "collapsed": true
   },
   "outputs": [],
   "source": [
    "critics_list = []\n",
    "#for loop that goes throug all the <p> element\n",
    "    #if strong (begins with the critic)\n",
    "        this_critic = []\n",
    "        #critic_info= get the critic line\n",
    "        #critic_name = re.findall(regex,critic_info)\n",
    "        #critic_org = re.findall(regex,critic_info)\n",
    "        #critic_cn = re.findall(regex,critic_info)\n",
    "        this_critic.append(critic_name[0],critic_org[0],critic_cn[0])\n",
    "        #movie_info = get movie line using next_sibling\n",
    "        #get each movie string\n",
    "        #loop through each movie_line (#1 through #10)\n",
    "            #movie_name = re.findall(regex,movie_line)\n",
    "            this_critic.append(movie_name[0])\n",
    "            #this append will happen 10 times\n",
    "        #The list for the single criticIs finished\n",
    "        #Add it to the critics list\n",
    "        critics_list.append(this_critic)\n",
    "            \n",
    "\n",
    "    "
   ]
  },
  {
   "cell_type": "code",
   "execution_count": null,
   "metadata": {
    "collapsed": true
   },
   "outputs": [],
   "source": [
    "##Take a peek at your final lists of lists\n",
    "critics_list"
   ]
  },
  {
   "cell_type": "markdown",
   "metadata": {},
   "source": [
    "If you made it this far, congratulations!\n",
    "\n",
    "You can go ahead and try to build the list of movies and/or the list of directors on your own--they will use similar logic but not be nearly as complicated as this one."
   ]
  }
 ],
 "metadata": {
  "kernelspec": {
   "display_name": "Python 3",
   "language": "python",
   "name": "python3"
  },
  "language_info": {
   "codemirror_mode": {
    "name": "ipython",
    "version": 3
   },
   "file_extension": ".py",
   "mimetype": "text/x-python",
   "name": "python",
   "nbconvert_exporter": "python",
   "pygments_lexer": "ipython3",
   "version": "3.6.1"
  }
 },
 "nbformat": 4,
 "nbformat_minor": 2
}
