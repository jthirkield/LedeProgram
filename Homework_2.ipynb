{
 "cells": [
  {
   "cell_type": "markdown",
   "metadata": {},
   "source": [
    "# Homework 2: SQL in Python (Data and Databases 2017)\n",
    "\n",
    "The next four homework assignments will be in this iPython notebook format. Read the instructions as you go, and type in the necessary code--then run the cells to see if you got it right. Don't worry if you are new to python for this assignment--the only \"code\" you will be writing are SQL statements that you will paste into each myquery variable.\n",
    "\n",
    "First things first: download this notebook from Github--\n",
    "\n",
    "1. Make sure you are viewing this on Github\n",
    "2. Ctrl+click (or right click) on the \"Raw\" button in the Github interface, and select \"Save Link As...\" or your browser's equivalent. Save it to your computer (not a remote for cloud drive), and make sure it is in the folder you will be able to find.\n",
    "3. Also make sure that the file ends with \".ipynb\", and name it something like \"Homework2_Jon_Thirkield.ipynb\" (But with your name.)\n",
    "4. Open your Jupyter Notebook Application, and open up the file--you can begin your work.\n",
    "5. When you're finished, email the completed file to Georgia and/or Jager (as appropriate)\n",
    "\n",
    "\n",
    "## The Challenges\n",
    "\n",
    "For this homework we will be using the tables we imported from the [UN data site](http://data.un.org/Explorer.aspx). You should already have `wind` and `solar` installed, and they should be in the SAME DATABASE (953 rows for solar, and 1367 rows for wind). As you will see, this homework asks that you find one more table of your choice from the UN's Energy statistics an import it into the the same database. [I have posted the instructions here](http://floatingmedia.com/columbia/csv_to_sql.html)\n",
    "\n",
    "These are relatively simple CSV files--the only really important columns are `country`, `year` and `usage`. But the tricky part is that most countries have multiple entries: one for every year the UN has been gathering data on that country. So most of these queries are going to ask you to get electrical usage results based on country and year. (Major hint: JOINs are going to need to be based on country AND year.)\n",
    "\n",
    "In the questions below, we focus on exploratory queries--with an emphasis on aggregates and joins. Read the questions carefully, and then write SQL statements that will get you the correct results. (You might want to explore tables and test out queries directly in the shell before you paste them into Python--the error handling for SQL in Python can be confusing, and there should be no errors in the prewritten Python parts of this document. Also, sometimes an error in Python will break your connection with the database--see conn.rollback() below for that solution.\n"
   ]
  },
  {
   "cell_type": "markdown",
   "metadata": {},
   "source": [
    "First things first: Connect to database! \n",
    "(Make sure the cell is selected, then go to the cell menubar and choose \"Run Cells\")"
   ]
  },
  {
   "cell_type": "code",
   "execution_count": null,
   "metadata": {
    "collapsed": true
   },
   "outputs": [],
   "source": [
    "import pg8000\n",
    "conn = pg8000.connect(user=\"Jon\", database=\"unenengy\")\n",
    "#conn = pg8000.connect(database=\"undata\")\n",
    "print(type(conn))"
   ]
  },
  {
   "cell_type": "markdown",
   "metadata": {},
   "source": [
    "If the connection isn't working make sure that you have typed in the name of the database correctly, and your username as well. \n",
    "\n",
    "If you get an error when running one of the SQL cells below, run this conn.rollback() cell to restart your connection."
   ]
  },
  {
   "cell_type": "code",
   "execution_count": null,
   "metadata": {
    "collapsed": true
   },
   "outputs": [],
   "source": [
    "conn.rollback()"
   ]
  },
  {
   "cell_type": "markdown",
   "metadata": {},
   "source": [
    "## Question 1: Simple(ish) Query \n",
    "\n",
    "Create a statement that searches for the top 15 countries for solar energy usage in 2014. So figure out first what table you are searching and what columns you need (you can figure out the columns by looking at the sample results below). Then you need to test by year so you only get results from 2014, and order it correctly.\n",
    "\n",
    "```\n",
    "Germany 36056.0 mil\n",
    "United States 24603.0 mil\n",
    "Japan 24506.0 mil\n",
    "Italy 22306.0 mil\n",
    "China 15189.0 mil\n",
    "Spain 13673.0 mil\n",
    "France 5909.0 mil\n",
    "India 5020.0 mil\n",
    "Australia 4858.0 mil\n",
    "United Kingdom 4050.0 mil\n",
    "Greece 3792.0 mil\n",
    "Belgium 2883.0 mil\n",
    "Korea, Republic of 2557.0 mil\n",
    "Czechia 2123.0 mil\n",
    "Canada 1756.0 mil\n",
    "```"
   ]
  },
  {
   "cell_type": "code",
   "execution_count": null,
   "metadata": {
    "collapsed": true
   },
   "outputs": [],
   "source": [
    "cursor = conn.cursor()\n",
    "myquery = \"PUT YOUR QUERY HERE\"\n",
    "cursor.execute(myquery)\n",
    "for row in cursor:\n",
    "    print(row[0], row[1], \"mil\")"
   ]
  },
  {
   "cell_type": "markdown",
   "metadata": {},
   "source": [
    "## Question 2: aggregate query\n",
    "\n",
    "Using avg(), get the average solar energy usage for each country, and it display only the countries with an average that is above 500 (million). (Remember for aggregates you need to use HAVING to test values, instead of WHERE). Make sure it is properly ordered like the results below:\n",
    "\n",
    "```\n",
    "10376.5 China\n",
    "5987.75 Germany\n",
    "4226.5 India\n",
    "3266.6 United States\n",
    "3066.32 Italy\n",
    "2769.84 Japan\n",
    "2596.6 Spain\n",
    "1023.1111111111111 Czechia\n",
    "905.5454545454545 Greece\n",
    "874.7272727272727 Belgium\n",
    "841.6190476190476 France\n",
    "644.0454545454545 Australia\n",
    "591.0 Bulgaria\n",
    "```"
   ]
  },
  {
   "cell_type": "code",
   "execution_count": null,
   "metadata": {
    "collapsed": true
   },
   "outputs": [],
   "source": [
    "cursor = conn.cursor()\n",
    "myquery = \"PUT YOUR QUERY HERE\"\n",
    "cursor.execute(myquery)\n",
    "for row in cursor:\n",
    "    print(row[0],row[1])"
   ]
  },
  {
   "cell_type": "markdown",
   "metadata": {},
   "source": [
    "## Question 3: aggregate query 2\n",
    "\n",
    "Get a list of countries whose Solar Energy data first started being collected in 2012. This is tricky to figure out, but the query should be pretty simple. The main thing you need to figure out is which aggregate function will find the earliest date, and then you need to test if year is 2012.\n",
    "\n",
    "\n",
    "```\n",
    "2012 St. Kitts-Nevis\n",
    "2012 American Samoa\n",
    "2012 Lithuania\n",
    "2012 St. Helena and Depend.\n",
    "2012 Gabon\n",
    "2012 Marshall Islands\n",
    "2012 New Zealand\n",
    "2012 Botswana\n",
    "2012 South Sudan\n",
    "2012 Puerto Rico\n",
    "2012 Mauritius\n",
    "2012 Poland\n",
    "```\n"
   ]
  },
  {
   "cell_type": "code",
   "execution_count": null,
   "metadata": {
    "collapsed": true,
    "scrolled": true
   },
   "outputs": [],
   "source": [
    "cursor = conn.cursor()\n",
    "myquery = \"PUT YOUR QUERY HERE\"\n",
    "cursor.execute(myquery)\n",
    "for row in cursor:\n",
    "    print(row[0], row[1])"
   ]
  },
  {
   "cell_type": "markdown",
   "metadata": {},
   "source": [
    "## Question 4: JOIN\n",
    "\n",
    "Get the usage of solar AND wind power for Germany for each year in the tables. There should be four columns total, and you will be joining on two criteria.\n",
    "\n",
    "(Please note that in the results below I am using Python to add in the strings \"solar:\" and \"wind:\")\n",
    "\n",
    "\n",
    "\n",
    "```\n",
    "Germany 1991 \twind: 215.0 \tsolar 1.0\n",
    "Germany 1992 \twind: 291.0 \tsolar 4.0\n",
    "Germany 1993 \twind: 674.0 \tsolar 3.0\n",
    "Germany 1994 \twind: 1428.0 \tsolar 7.0\n",
    "Germany 1995 \twind: 1712.0 \tsolar 7.0\n",
    "Germany 1996 \twind: 2078.0 \tsolar 12.0\n",
    "Germany 1997 \twind: 3034.0 \tsolar 18.0\n",
    "Germany 1998 \twind: 4593.0 \tsolar 35.0\n",
    "Germany 1999 \twind: 5528.0 \tsolar 30.0\n",
    "Germany 2000 \twind: 9352.0 \tsolar 60.0\n",
    "Germany 2001 \twind: 10456.0 \tsolar 116.0\n",
    "Germany 2002 \twind: 15856.0 \tsolar 188.0\n",
    "Germany 2003 \twind: 18713.0 \tsolar 313.0\n",
    "Germany 2004 \twind: 25509.0 \tsolar 557.0\n",
    "Germany 2005 \twind: 27229.0 \tsolar 1282.0\n",
    "Germany 2006 \twind: 30710.0 \tsolar 2220.0\n",
    "Germany 2007 \twind: 39713.0 \tsolar 3075.0\n",
    "Germany 2008 \twind: 40574.0 \tsolar 4420.0\n",
    "Germany 2009 \twind: 38647.0 \tsolar 6584.0\n",
    "Germany 2010 \twind: 37793.0 \tsolar 11729.0\n",
    "Germany 2011 \twind: 48883.0 \tsolar 19599.0\n",
    "Germany 2012 \twind: 50670.0 \tsolar 26380.0\n",
    "Germany 2013 \twind: 51708.0 \tsolar 31010.0\n",
    "Germany 2014 \twind: 57357.0 \tsolar 36056.0\n",
    "```\n",
    "\n",
    "Hint: after the join you need to test that the country is Germany, then order by what?"
   ]
  },
  {
   "cell_type": "code",
   "execution_count": null,
   "metadata": {
    "collapsed": true
   },
   "outputs": [],
   "source": [
    "cursor = conn.cursor()\n",
    "myquery = '''\n",
    "PUT YOUR QUERY HERE\n",
    "'''\n",
    "cursor.execute(myquery)\n",
    "for row in cursor:\n",
    "    print(row[0],row[1],\"\\twind:\",row[2],\"\\tsolar\",row[3])"
   ]
  },
  {
   "cell_type": "markdown",
   "metadata": {},
   "source": [
    "## Question 5: join with aggregates\n",
    "\n",
    "Get the average wind usage and solar usage for each country. Order your results by average solar usage, and show only the top ten countries.\n",
    "\n",
    "```\n",
    "China 148637.50 10376.50\n",
    "Germany 21780.12 5987.75\n",
    "India 30320.00 4226.50\n",
    "United States 40094.68 3266.60\n",
    "Italy 3619.20 3066.32\n",
    "Japan 1547.36 2769.84\n",
    "Spain 17676.88 2596.60\n",
    "Czechia 312.56 1023.11\n",
    "Greece 2581.45 905.55\n",
    "Belgium 1592.27 874.73\n",
    "```"
   ]
  },
  {
   "cell_type": "code",
   "execution_count": null,
   "metadata": {
    "collapsed": true
   },
   "outputs": [],
   "source": [
    "cursor = conn.cursor()\n",
    "myquery = '''\n",
    "PUT YOUR QUERY HERE\n",
    "'''\n",
    "cursor.execute(myquery)\n",
    "for row in cursor:\n",
    "    print(row[0],\"%.2f\" % row[1],\"%.2f\" % row[2])"
   ]
  },
  {
   "cell_type": "markdown",
   "metadata": {},
   "source": [
    "## Question 5: join with aggregates\n",
    "\n",
    "Your final task: go back to the [UN data site](http://data.un.org/Explorer.aspx) and download another table of your choice from the energy statistics. [Full instructions here.](http://floatingmedia.com/columbia/csv_to_sql.html) Choose a table that has similar columns to the wind and energy tables, and input it into your database.  Make sure you test that everything is working in the shell before going back to Python.\n",
    "\n",
    "Now, write a query that joins the third table to the query you just made. Get the average use for each Energy type: Solar, Wind, and the table you chose. Order it by the energy type you chose (that column should come first after the country). And display the top 10 countries by average Energy type, along with the averages for solar and wind.\n"
   ]
  },
  {
   "cell_type": "code",
   "execution_count": null,
   "metadata": {
    "collapsed": true
   },
   "outputs": [],
   "source": [
    "cursor = conn.cursor()\n",
    "myquery = '''\n",
    "PUT YOUR QUERY HERE\n",
    "'''\n",
    "cursor.execute(myquery)\n",
    "for row in cursor:\n",
    "    print(row[0],\"%.2f\" % row[1],\"%.2f\" % row[2],\"%.2f\" % row[3])"
   ]
  },
  {
   "cell_type": "markdown",
   "metadata": {},
   "source": [
    "Awesome! Great work."
   ]
  }
 ],
 "metadata": {
  "kernelspec": {
   "display_name": "Python 3",
   "language": "python",
   "name": "python3"
  },
  "language_info": {
   "codemirror_mode": {
    "name": "ipython",
    "version": 3
   },
   "file_extension": ".py",
   "mimetype": "text/x-python",
   "name": "python",
   "nbconvert_exporter": "python",
   "pygments_lexer": "ipython3",
   "version": "3.6.1"
  }
 },
 "nbformat": 4,
 "nbformat_minor": 1
}
