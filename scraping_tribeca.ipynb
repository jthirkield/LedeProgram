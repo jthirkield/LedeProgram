{
 "cells": [
  {
   "cell_type": "code",
   "execution_count": 1,
   "metadata": {
    "collapsed": true
   },
   "outputs": [],
   "source": [
    "from urllib.request import urlopen\n",
    "from bs4 import BeautifulSoup"
   ]
  },
  {
   "cell_type": "code",
   "execution_count": 2,
   "metadata": {
    "collapsed": true
   },
   "outputs": [],
   "source": [
    "my_url = \"https://tribecafilm.com/filmguide?letter=a\"\n",
    "raw_html = urlopen(my_url).read()\n",
    "soup_doc = BeautifulSoup(raw_html, \"html.parser\")\n"
   ]
  },
  {
   "cell_type": "code",
   "execution_count": 4,
   "metadata": {},
   "outputs": [
    {
     "data": {
      "text/plain": [
       "<title>Film Guide | Tribeca</title>"
      ]
     },
     "execution_count": 4,
     "metadata": {},
     "output_type": "execute_result"
    }
   ],
   "source": [
    "#print(soup_doc.prettify())\n",
    "soup_doc.title"
   ]
  },
  {
   "cell_type": "code",
   "execution_count": 55,
   "metadata": {},
   "outputs": [],
   "source": [
    "all_movies = soup_doc.find_all('article')\n"
   ]
  },
  {
   "cell_type": "code",
   "execution_count": 34,
   "metadata": {},
   "outputs": [
    {
     "data": {
      "text/plain": [
       "'ALTERATION'"
      ]
     },
     "execution_count": 34,
     "metadata": {},
     "output_type": "execute_result"
    }
   ],
   "source": [
    "#all_movies[0].find(class_=\"left\")\n",
    "movie_info = all_movies[0].find('div', attrs={'class': 'left'})\n",
    "title = movie_info.find(class_=\"headerTitle\").find('a').string\n",
    "title"
   ]
  },
  {
   "cell_type": "code",
   "execution_count": 36,
   "metadata": {},
   "outputs": [],
   "source": [
    "all_movies = movie_info.find_all('li')\n"
   ]
  },
  {
   "cell_type": "code",
   "execution_count": 43,
   "metadata": {},
   "outputs": [
    {
     "name": "stdout",
     "output_type": "stream",
     "text": [
      "Section: Virtual Arcade\n",
      "Release Year: 2017\n",
      "Runtime: 18 minutes\n",
      "\n",
      "                        Created By:\n",
      "\n",
      "                    Jérome Blanquet\n",
      "\n",
      "                  \n"
     ]
    }
   ],
   "source": [
    "\n",
    "for this_movie in all_movies[:-1]:\n",
    "    print(this_movie.string)"
   ]
  },
  {
   "cell_type": "code",
   "execution_count": 47,
   "metadata": {},
   "outputs": [
    {
     "data": {
      "text/plain": [
       "'France'"
      ]
     },
     "execution_count": 47,
     "metadata": {},
     "output_type": "execute_result"
    }
   ],
   "source": [
    "all_movies[-1].find('a').string"
   ]
  },
  {
   "cell_type": "code",
   "execution_count": 63,
   "metadata": {},
   "outputs": [
    {
     "name": "stdout",
     "output_type": "stream",
     "text": [
      "AARDVARK\n",
      "Section: US Narrative Competition\n",
      "Release Year: 2017\n",
      "Runtime: 89 minutes\n",
      "\n",
      "                        Directed By:\n",
      "\n",
      "                    Brian Shoaf\n",
      "\n",
      "                  \n",
      "USA\n",
      "ABUNDANT ACREAGE AVAILABLE\n",
      "Section: US Narrative Competition\n",
      "Release Year: 2017\n",
      "Runtime: 80 minutes\n",
      "\n",
      "                        Directed By:\n",
      "\n",
      "                    Angus MacLachlan\n",
      "\n",
      "                  \n",
      "USA\n",
      "ACORN AND THE FIRESTORM\n",
      "Section: Spotlight Documentary\n",
      "Release Year: 2017\n",
      "Runtime: 84 minutes\n",
      "\n",
      "                        Directed By:\n",
      "\n",
      "                    Reuben Atlas and Sam Pollard\n",
      "\n",
      "                  \n",
      "USA\n",
      "AGAIN\n",
      "Section: Shorts\n",
      "Release Year: 2017\n",
      "Runtime: 11 minutes\n",
      "\n",
      "                        Directed By:\n",
      "\n",
      "                    Alexis Jacknow\n",
      "\n",
      "                  \n",
      "USA\n",
      "ALADDIN\n",
      "Section: Retrospective Special Screenings\n",
      "Release Year: 1992\n",
      "Runtime: 90 minutes\n",
      "\n",
      "                        Directed By:\n",
      "\n",
      "                    Ron Clements and John Musker\n",
      "\n",
      "                  \n",
      "USA\n",
      "ALIVE\n",
      "Section: Shorts\n",
      "Release Year: 2016\n",
      "Runtime: 15 minutes\n",
      "\n",
      "                        Directed By:\n",
      "\n",
      "                    Sung Hwan Kim\n",
      "\n",
      "                  \n",
      "South Korea\n",
      "ALPHAGO\n",
      "Section: Spotlight Documentary\n",
      "Release Year: 2017\n",
      "Runtime: 90 minutes\n",
      "\n",
      "                        Directed By:\n",
      "\n",
      "                    Greg Kohs\n",
      "\n",
      "                  \n",
      "USA\n",
      "ALTERATION\n",
      "Section: Virtual Arcade\n",
      "Release Year: 2017\n",
      "Runtime: 18 minutes\n",
      "\n",
      "                        Created By:\n",
      "\n",
      "                    Jérome Blanquet\n",
      "\n",
      "                  \n",
      "France\n",
      "THE AMAZING ADVENTURES OF WALLY AND THE WORM\n",
      "Section: Shorts\n",
      "Release Year: 2016\n",
      "Runtime: 16 minutes\n",
      "\n",
      "                        Directed By:\n",
      "\n",
      "                    Colin Hanks\n",
      "\n",
      "                  \n",
      "USA\n",
      "ANGEL\n",
      "Section: Shorts\n",
      "Release Year: 2016\n",
      "Runtime: 8 minutes\n",
      "\n",
      "                        Directed By:\n",
      "\n",
      "                    Gregory Casares\n",
      "\n",
      "                  \n",
      "Switzerland\n"
     ]
    }
   ],
   "source": [
    "for this_movie in all_movies:\n",
    "    movies_info = this_movie.find('div', attrs={'class': 'left'})\n",
    "    title = movies_info.find(class_=\"headerTitle\").find('a').string\n",
    "    print(title)\n",
    "    details = movies_info.find_all('li')\n",
    "    for dets in details[:-1]:\n",
    "        print(dets.string)\n",
    "    country = details[-1].find('a').string\n",
    "    print(country)\n",
    "        \n"
   ]
  },
  {
   "cell_type": "code",
   "execution_count": null,
   "metadata": {
    "collapsed": true
   },
   "outputs": [],
   "source": []
  }
 ],
 "metadata": {
  "kernelspec": {
   "display_name": "Python 3",
   "language": "python",
   "name": "python3"
  },
  "language_info": {
   "codemirror_mode": {
    "name": "ipython",
    "version": 3
   },
   "file_extension": ".py",
   "mimetype": "text/x-python",
   "name": "python",
   "nbconvert_exporter": "python",
   "pygments_lexer": "ipython3",
   "version": "3.6.1"
  }
 },
 "nbformat": 4,
 "nbformat_minor": 2
}
