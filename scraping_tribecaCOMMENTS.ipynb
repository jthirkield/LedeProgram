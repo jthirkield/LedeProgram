{
 "cells": [
  {
   "cell_type": "code",
   "execution_count": null,
   "metadata": {
    "collapsed": true
   },
   "outputs": [],
   "source": [
    "from urllib.request import urlopen\n",
    "from bs4 import BeautifulSoup"
   ]
  },
  {
   "cell_type": "code",
   "execution_count": null,
   "metadata": {
    "collapsed": true
   },
   "outputs": [],
   "source": [
    "my_url = \"https://tribecafilm.com/filmguide?letter=a\"\n",
    "raw_html = urlopen(my_url).read()\n",
    "soup_doc = BeautifulSoup(raw_html, \"html.parser\")\n"
   ]
  },
  {
   "cell_type": "code",
   "execution_count": null,
   "metadata": {
    "collapsed": true
   },
   "outputs": [],
   "source": [
    "print(soup_doc.prettify())\n",
    "#soup_doc.title"
   ]
  },
  {
   "cell_type": "code",
   "execution_count": null,
   "metadata": {
    "collapsed": true
   },
   "outputs": [],
   "source": [
    "all_movies = soup_doc.find_all('article')\n"
   ]
  },
  {
   "cell_type": "code",
   "execution_count": null,
   "metadata": {
    "collapsed": true
   },
   "outputs": [],
   "source": [
    "#all_movies[0].find(class_=\"left\")\n",
    "movie_info = all_movies[9].find('div', attrs={'class': 'left'})\n",
    "title = movie_info.find(class_=\"headerTitle\").find('a').string\n",
    "title\n",
    "len(all_movies)"
   ]
  },
  {
   "cell_type": "code",
   "execution_count": null,
   "metadata": {
    "collapsed": true
   },
   "outputs": [],
   "source": [
    "movies_details = movie_info.find_all('li')\n"
   ]
  },
  {
   "cell_type": "code",
   "execution_count": null,
   "metadata": {
    "collapsed": true
   },
   "outputs": [],
   "source": [
    "\n",
    "for this_movie in movies_details[:-1]:\n",
    "    print(this_movie.string)"
   ]
  },
  {
   "cell_type": "code",
   "execution_count": null,
   "metadata": {
    "collapsed": true
   },
   "outputs": [],
   "source": [
    "movies_details[-1].find('a').string"
   ]
  },
  {
   "cell_type": "code",
   "execution_count": null,
   "metadata": {
    "collapsed": true
   },
   "outputs": [],
   "source": [
    "for this_movie in all_movies:\n",
    "    movies_info = this_movie.find('div', attrs={'class': 'left'})\n",
    "    title = movies_info.find(class_=\"headerTitle\").find('a').string\n",
    "    print(title)\n",
    "    details = movies_info.find_all('li')\n",
    "    for dets in details[:-1]:\n",
    "        print(dets.string.strip())\n",
    "        print(\"####INNER LOOP HAPPENING#####\")\n",
    "    country = details[-1].find('a').string\n",
    "    print(country)\n",
    "    print(\"####ONE LOOP DONE\")\n",
    "        \n"
   ]
  },
  {
   "cell_type": "code",
   "execution_count": null,
   "metadata": {
    "collapsed": true
   },
   "outputs": [],
   "source": [
    "movies = []\n",
    "for this_movie in all_movies:\n",
    "    movie_dict = {}\n",
    "    movies_info = this_movie.find('div', attrs={'class': 'left'})\n",
    "    movie_dict['title'] = movies_info.find(class_=\"headerTitle\").find('a').string\n",
    "    #print(title)\n",
    "    details = movies_info.find_all('li')\n",
    "    for dets in details[:-1]:\n",
    "        this_detail = dets.string.split(':')\n",
    "        key = this_detail[0].strip()\n",
    "        val = this_detail[1].strip()\n",
    "        movie_dict[key] = val\n",
    "        #print(this_detail[1].strip())\n",
    "    country = details[-1].find('a').string\n",
    "    movie_dict['country'] = country\n",
    "    #print(country)\n",
    "    movies.append(movie_dict)\n",
    "movies"
   ]
  },
  {
   "cell_type": "code",
   "execution_count": 12,
   "metadata": {},
   "outputs": [
    {
     "data": {
      "text/plain": [
       "[{'Directed By': 'Brian Shoaf',\n",
       "  'Release Year': '2017',\n",
       "  'Runtime': '89 minutes',\n",
       "  'Section': 'US Narrative Competition',\n",
       "  'country': 'USA',\n",
       "  'title': 'AARDVARK'},\n",
       " {'Directed By': 'Angus MacLachlan',\n",
       "  'Release Year': '2017',\n",
       "  'Runtime': '80 minutes',\n",
       "  'Section': 'US Narrative Competition',\n",
       "  'country': 'USA',\n",
       "  'title': 'ABUNDANT ACREAGE AVAILABLE'},\n",
       " {'Directed By': 'Reuben Atlas and Sam Pollard',\n",
       "  'Release Year': '2017',\n",
       "  'Runtime': '84 minutes',\n",
       "  'Section': 'Spotlight Documentary',\n",
       "  'country': 'USA',\n",
       "  'title': 'ACORN AND THE FIRESTORM'},\n",
       " {'Directed By': 'Alexis Jacknow',\n",
       "  'Release Year': '2017',\n",
       "  'Runtime': '11 minutes',\n",
       "  'Section': 'Shorts',\n",
       "  'country': 'USA',\n",
       "  'title': 'AGAIN'},\n",
       " {'Directed By': 'Ron Clements and John Musker',\n",
       "  'Release Year': '1992',\n",
       "  'Runtime': '90 minutes',\n",
       "  'Section': 'Retrospective Special Screenings',\n",
       "  'country': 'USA',\n",
       "  'title': 'ALADDIN'},\n",
       " {'Directed By': 'Sung Hwan Kim',\n",
       "  'Release Year': '2016',\n",
       "  'Runtime': '15 minutes',\n",
       "  'Section': 'Shorts',\n",
       "  'country': 'South Korea',\n",
       "  'title': 'ALIVE'},\n",
       " {'Directed By': 'Greg Kohs',\n",
       "  'Release Year': '2017',\n",
       "  'Runtime': '90 minutes',\n",
       "  'Section': 'Spotlight Documentary',\n",
       "  'country': 'USA',\n",
       "  'title': 'ALPHAGO'},\n",
       " {'Created By': 'Jérome Blanquet',\n",
       "  'Release Year': '2017',\n",
       "  'Runtime': '18 minutes',\n",
       "  'Section': 'Virtual Arcade',\n",
       "  'country': 'France',\n",
       "  'title': 'ALTERATION'},\n",
       " {'Directed By': 'Colin Hanks',\n",
       "  'Release Year': '2016',\n",
       "  'Runtime': '16 minutes',\n",
       "  'Section': 'Shorts',\n",
       "  'country': 'USA',\n",
       "  'title': 'THE AMAZING ADVENTURES OF WALLY AND THE WORM'},\n",
       " {'Directed By': 'Gregory Casares',\n",
       "  'Release Year': '2016',\n",
       "  'Runtime': '8 minutes',\n",
       "  'Section': 'Shorts',\n",
       "  'country': 'Switzerland',\n",
       "  'title': 'ANGEL'}]"
      ]
     },
     "execution_count": 12,
     "metadata": {},
     "output_type": "execute_result"
    }
   ],
   "source": [
    "# I created an empty list (movies) that I will fill inside the loop. \n",
    "#It has to be declared before the loop starts so can be appended to\n",
    "movies = []\n",
    "#This loops through the HTML with information for each movie\n",
    "for this_movie in all_movies:\n",
    "    #I declare an empty dictionary that I will fill for each movie\n",
    "    #Each time this loop runs, the dictionary is newly empty\n",
    "    #The movies list remembers each dictionary -- \n",
    "    #Because I append them at the end of the loop\n",
    "    movie_dict = {}\n",
    "    #Here I am honing in on the information sbout the movie\n",
    "    movies_info = this_movie.find('div', attrs={'class': 'left'})\n",
    "    #I put the title into the dictionary\n",
    "    movie_dict['title'] = movies_info.find(class_=\"headerTitle\").find('a').string\n",
    "    #I get the details that are inside the <ul> unordered-list\n",
    "    details = movies_info.find_all('li')\n",
    "    #I loop through the resulting list called (details)\n",
    "    #This inner loop goes through all but the last element of the list \n",
    "    #because I know the last element is different\n",
    "    for dets in details[:-1]:\n",
    "        #Inside this loop I split each string by the \":\" \n",
    "        #Making a list called this_detail\n",
    "        this_detail = dets.string.split(':')\n",
    "        #I use the 0 Element of that list for the key\n",
    "        #And the 1 element the list for the values\n",
    "        key = this_detail[0].strip() ## I strip away all whitespace\n",
    "        val = this_detail[1].strip()\n",
    "        #I add each key and value to my dictionary\n",
    "        movie_dict[key] = val\n",
    "    #The inner loop is done /4 key-value pairs were added\n",
    "    #Finally I get the country out, It Is the last element details list\n",
    "    country = details[-1].find('a').string #It was inside an <a> tag\n",
    "    #I add the country to the dictionary\n",
    "    movie_dict['country'] = country\n",
    "    #My dictionary is full, \n",
    "    #I append the dictionary for this movie to the movies list\n",
    "    #Then the loop will go back and make another dictionary for each movie\n",
    "    movies.append(movie_dict)\n",
    "#the loop is done\n",
    "    \n",
    "#print out my list of dictionaries called \"movies\"\n",
    "movies"
   ]
  },
  {
   "cell_type": "code",
   "execution_count": null,
   "metadata": {
    "collapsed": true
   },
   "outputs": [],
   "source": []
  }
 ],
 "metadata": {
  "kernelspec": {
   "display_name": "Python 3",
   "language": "python",
   "name": "python3"
  },
  "language_info": {
   "codemirror_mode": {
    "name": "ipython",
    "version": 3
   },
   "file_extension": ".py",
   "mimetype": "text/x-python",
   "name": "python",
   "nbconvert_exporter": "python",
   "pygments_lexer": "ipython3",
   "version": "3.6.1"
  }
 },
 "nbformat": 4,
 "nbformat_minor": 2
}
