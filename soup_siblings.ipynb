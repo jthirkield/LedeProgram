{
 "cells": [
  {
   "cell_type": "markdown",
   "metadata": {},
   "source": [
    "**next_siblings/previous_siblings** vs **find_next_sibling()/find_previous_sibling()**\n",
    "\n",
    "Using find_next_sibling() allows you to set parameters, so you can search through siblings more intelligently and specifically. For example, the solution I had in homework for pulling out Miranda's speech using next_siblings, and then looping through the object to get the strings is not the most efficient way to do it. The most efficient way to pull out all the strings that are siblings would be:\n",
    "\n",
    "find_next_siblings(string=True) -- this returns a list of all the strings.\n",
    "\n",
    "In general I would use `find_next_sibling()`/ `find_previous_sibling()` with parameters first and see if you get what you want. Only after that would I just get everything using\n",
    "`next_siblings` / `previous_siblings`"
   ]
  },
  {
   "cell_type": "code",
   "execution_count": null,
   "metadata": {
    "collapsed": true
   },
   "outputs": [],
   "source": [
    "from urllib.request import urlopen\n",
    "from bs4 import BeautifulSoup"
   ]
  },
  {
   "cell_type": "code",
   "execution_count": null,
   "metadata": {
    "collapsed": true
   },
   "outputs": [],
   "source": [
    "raw_html = urlopen(\"http://floatingmedia.com/columbia/tempest.html\").read()\n",
    "soup_doc = BeautifulSoup(raw_html, \"html.parser\")"
   ]
  },
  {
   "cell_type": "code",
   "execution_count": null,
   "metadata": {},
   "outputs": [],
   "source": [
    "\n",
    "lines = soup_doc.find_all('div')[3].ul.li.strong.find_next_siblings(string=True)\n",
    "print(lines)\n"
   ]
  },
  {
   "cell_type": "code",
   "execution_count": null,
   "metadata": {},
   "outputs": [],
   "source": [
    "lines = soup_doc.find_all('div')[3].ul.li.strong.next_siblings\n",
    "for line in lines:\n",
    "    if line.name is None:\n",
    "        print(line.string)"
   ]
  },
  {
   "cell_type": "code",
   "execution_count": null,
   "metadata": {
    "collapsed": true
   },
   "outputs": [],
   "source": []
  }
 ],
 "metadata": {
  "kernelspec": {
   "display_name": "Python 3",
   "language": "python",
   "name": "python3"
  },
  "language_info": {
   "codemirror_mode": {
    "name": "ipython",
    "version": 3
   },
   "file_extension": ".py",
   "mimetype": "text/x-python",
   "name": "python",
   "nbconvert_exporter": "python",
   "pygments_lexer": "ipython3",
   "version": "3.6.1"
  }
 },
 "nbformat": 4,
 "nbformat_minor": 2
}
