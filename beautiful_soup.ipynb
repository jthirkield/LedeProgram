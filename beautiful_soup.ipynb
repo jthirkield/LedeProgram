{
 "cells": [
  {
   "cell_type": "markdown",
   "metadata": {},
   "source": [
    "## SCRAPING HTML\n",
    "HTML (\"Hypertext Mark-up Language\") is the language of the Internet, more specifically the World Wide Web. It is a very simple language that uses containers (like <HTML></HTML>) to tell a browser what up to display and how to display it.\n",
    "\n",
    "A note on browsers: from now on you should be using Chrome. If you do not have chrome installed on your computer, do that now before you go any further. Chrome's developers tools are by far the best and most reliable.\n",
    "\n",
    "This is how the Internet works (in a simplified way): you go to a page by typing a URL into the browser. The URL is and HTTP request for a file on a server. The file that arrives at your browser is an HTML file--the browser reads the HTML and displays what is supposed to be displayed, and also runs some scripts in the background. Most often, the page you see on your browser is an HTML page. (There are many exceptions, like direct PDF files, as well as data accessed via APIs.)\n",
    "\n",
    "HTML is the raw text source code of what you see in a browser. In Chrome you can view the raw HTML by either going to the menu bar and choosing--View: Developer: View Source -- or right-clicking (control-clicking) the mouse on a page and choosing View Source. Like so:\n",
    "\n",
    "<img src=\"http://floatingmedia.com/columbia/viewsource.png\">\n",
    "\n",
    "Don't panic! While HTML can be very disorienting at first look, there are more targeted and helpful ways to investigate it. The best one is through Chrome's \"inspect\" function. Right-click (or control-click) on the part the page that interests you, and select \"Inspect\" or \"Inspect Element\"--and you get the much more friendly developers tools way of navigating through the DOM tree:\n",
    "\n",
    "<img src=\"http://floatingmedia.com/columbia/inspect.png\">\n",
    "\n",
    "Did I say DOM tree? Yes, the DOM [document object model](https://www.w3schools.com/js/js_htmldom.asp) is a term for the hierarchical structure of HTML elements on a page. It is a tree, because each of the elements on a page is nested within groups of HTML tags. \n",
    "\n",
    "<img src=\"http://floatingmedia.com/columbia/treeStructure.png\">\n",
    "\n",
    "Here are the most common tags, and often the most helpful tags to use when navigating through an HTML page.\n",
    "\n",
    "`<h1>`, `<h2>`, `<h3>` headers\n",
    "`<p>` paragraph\n",
    "`<b>`, `<i>`, `<strong>` styles, like bold, italics...\n",
    "`<table><tr><td>` table elements including rows and cells\n",
    "`<a href=\"url\">` links\n",
    "`<div>`, `<span>` larger Element containers, these often have an id=\"name\" and/or class=\"name\" attached to them.\n",
    "`<ol>`,`<ul>`,`<li>` ordered and unordered lists\n",
    "\n",
    "For example: `<p>This would be a paragraph</p>`\n",
    "`<p>This would be a <b>paragraph</b></p>` Same thing but the word paragraph is bold\n",
    "\n",
    "Sometimes important information is hidden inside these tags:\n",
    "\n",
    "\n",
    "`<span class=\"year\">`2010`</span>`\n",
    "\n",
    "or \n",
    "\n",
    "`<a href=\"http://www.boxofficemojo.com/movies/?id=avengers11.htm\">`more info`</a>`\n",
    "\n",
    "In this case the \"class\" tag is likely adding styling information (see CSS), whereas the \"href\" tag holds a hyperlinked url. [For a more complete list of HTML tags click here](https://www.w3schools.com/tags/ref_byfunc.asp)\n",
    "\n",
    "\n",
    "**Why does this matter to us?**\n",
    "\n",
    "Note that each tag begins with `<tagname>` and ends with `</tagname>`. So these HTML tags are structuring the text. The reason for the structure just to tell the browser how everything should look, but we can also use the structure of HTML to programmatically traverse the data on a webpage and scrape out the information we need. This is what scraping is. HTML is not a reliable data structure, but it often it is consistent from page to page on a particular website. If you can learn how to navigate the dom tree, you can turn information on a messy webpage into reliable and searchable data.\n"
   ]
  },
  {
   "cell_type": "markdown",
   "metadata": {},
   "source": [
    "## This brings us to Beautiful Soup\n",
    "Beautiful Soup is a Python library that parses HTML, allowing us to navigate through the elements of a webpage using the HTML tags embedded in it. [Here is the link to the documentation,](https://www.crummy.com/software/BeautifulSoup/bs4/doc/) there are examples and Extensions Beyond what is demonstrated below.\n",
    "\n",
    "Now it's time to install Beautiful soup. Go to your terminal/shell/bash and type:\n",
    "\n",
    "`pip3 install bs4`\n",
    "\n",
    "We will begin by navigating a very simple HTML page I have posted on my website. [Please follow this link](http://floatingmedia.com/columbia/topfivelists.html) and try inspecting the HTML using Chrome. (p.s. The information on this page comes from [http://www.boxofficemojo.com/genres/chart/?id=comicbookadaptation.htm]"
   ]
  },
  {
   "cell_type": "code",
   "execution_count": null,
   "metadata": {
    "collapsed": true
   },
   "outputs": [],
   "source": [
    "from urllib.request import urlopen\n",
    "raw_html = urlopen(\"http://floatingmedia.com/columbia/topfivelists.html\").read()"
   ]
  },
  {
   "cell_type": "code",
   "execution_count": null,
   "metadata": {},
   "outputs": [],
   "source": [
    "print(raw_html)"
   ]
  },
  {
   "cell_type": "code",
   "execution_count": null,
   "metadata": {
    "collapsed": true
   },
   "outputs": [],
   "source": [
    "from bs4 import BeautifulSoup"
   ]
  },
  {
   "cell_type": "code",
   "execution_count": null,
   "metadata": {},
   "outputs": [],
   "source": [
    "soup_doc = BeautifulSoup(raw_html, \"html.parser\")\n",
    "print(type(soup_doc))"
   ]
  },
  {
   "cell_type": "code",
   "execution_count": null,
   "metadata": {},
   "outputs": [],
   "source": [
    "print(soup_doc.prettify())\n",
    "#print(soup_doc)"
   ]
  },
  {
   "cell_type": "code",
   "execution_count": null,
   "metadata": {},
   "outputs": [],
   "source": [
    "soup_doc.title"
   ]
  },
  {
   "cell_type": "code",
   "execution_count": null,
   "metadata": {},
   "outputs": [],
   "source": [
    "soup_doc.title.string"
   ]
  },
  {
   "cell_type": "code",
   "execution_count": null,
   "metadata": {},
   "outputs": [],
   "source": [
    "soup_doc.find('p')"
   ]
  },
  {
   "cell_type": "code",
   "execution_count": null,
   "metadata": {
    "collapsed": true
   },
   "outputs": [],
   "source": [
    "#a blank cell!!!"
   ]
  },
  {
   "cell_type": "code",
   "execution_count": null,
   "metadata": {},
   "outputs": [],
   "source": [
    "soup_doc.div"
   ]
  },
  {
   "cell_type": "code",
   "execution_count": null,
   "metadata": {},
   "outputs": [],
   "source": [
    "soup_doc.find_all('p')"
   ]
  },
  {
   "cell_type": "code",
   "execution_count": null,
   "metadata": {},
   "outputs": [],
   "source": [
    "soup_doc.find_all('p')[2]"
   ]
  },
  {
   "cell_type": "code",
   "execution_count": null,
   "metadata": {},
   "outputs": [],
   "source": [
    "soup_doc.find('div')"
   ]
  },
  {
   "cell_type": "code",
   "execution_count": null,
   "metadata": {},
   "outputs": [],
   "source": [
    "soup_doc.find('div').find_all('p')"
   ]
  },
  {
   "cell_type": "code",
   "execution_count": null,
   "metadata": {},
   "outputs": [],
   "source": [
    "soup_doc.find('div').find_all('p')[2]"
   ]
  },
  {
   "cell_type": "code",
   "execution_count": null,
   "metadata": {},
   "outputs": [],
   "source": [
    "that_movie = soup_doc.find('div').find_all('p')[2]\n",
    "movie_name = that_movie.b\n",
    "movie_year = that_movie.find('span')\n",
    "print(movie_name, movie_year)"
   ]
  },
  {
   "cell_type": "code",
   "execution_count": null,
   "metadata": {},
   "outputs": [],
   "source": [
    "that_movie = soup_doc.find('div').find_all('p')[2]\n",
    "movie_name = that_movie.b\n",
    "movie_year = that_movie.find('span')\n",
    "print(movie_name.string, \"||\", movie_year.string)"
   ]
  },
  {
   "cell_type": "code",
   "execution_count": null,
   "metadata": {},
   "outputs": [],
   "source": [
    "next_list = soup_doc.find_all('div')[1]\n",
    "print(next_list)\n",
    "next_movies = next_list.find_all('p')\n",
    "print(next_movies)"
   ]
  },
  {
   "cell_type": "code",
   "execution_count": null,
   "metadata": {},
   "outputs": [],
   "source": [
    "for movie in next_movies:\n",
    "    movie_name = movie.b\n",
    "    movie_year = movie.find('span')\n",
    "    print(movie_name.string, \"||\", movie_year.string)"
   ]
  },
  {
   "cell_type": "code",
   "execution_count": null,
   "metadata": {},
   "outputs": [],
   "source": [
    "third_list = ???? ##this will break...\n",
    "print(last_list)"
   ]
  },
  {
   "cell_type": "code",
   "execution_count": null,
   "metadata": {},
   "outputs": [],
   "source": [
    "last_head = soup_doc.find('h2')\n",
    "last_list = last_head.find_next_siblings()\n",
    "last_list\n"
   ]
  },
  {
   "cell_type": "code",
   "execution_count": null,
   "metadata": {},
   "outputs": [],
   "source": [
    "all_years = soup_doc.find_all(class_=\"year\")\n",
    "print(all_years)"
   ]
  },
  {
   "cell_type": "code",
   "execution_count": null,
   "metadata": {},
   "outputs": [],
   "source": [
    "fav = soup_doc.find_all('id')\n",
    "print(fav)"
   ]
  },
  {
   "cell_type": "code",
   "execution_count": null,
   "metadata": {},
   "outputs": [],
   "source": [
    "fav = soup_doc.find_all(id='favorite')\n",
    "print(fav)"
   ]
  },
  {
   "cell_type": "code",
   "execution_count": null,
   "metadata": {},
   "outputs": [],
   "source": [
    "fav = soup_doc.find_all('p', attrs={'id': 'favorite'})\n",
    "print(fav)"
   ]
  },
  {
   "cell_type": "code",
   "execution_count": null,
   "metadata": {},
   "outputs": [],
   "source": [
    "for year in all_years:\n",
    "    print(year.string)"
   ]
  },
  {
   "cell_type": "code",
   "execution_count": null,
   "metadata": {},
   "outputs": [],
   "source": [
    "first_link = soup_doc.find('a')\n",
    "get_url = first_link['href']\n",
    "print(get_url)"
   ]
  },
  {
   "cell_type": "code",
   "execution_count": null,
   "metadata": {},
   "outputs": [],
   "source": [
    "raw_html2 = urlopen(get_url).read()\n",
    "soup_doc2 = BeautifulSoup(raw_html2, \"html.parser\")\n",
    "print(soup_doc2.prettify())"
   ]
  },
  {
   "cell_type": "code",
   "execution_count": null,
   "metadata": {},
   "outputs": [],
   "source": [
    "my_table = soup_doc2.find(\"table\", attrs={\"bgcolor\": \"#dcdcdc\"})\n",
    "print(my_table)"
   ]
  },
  {
   "cell_type": "code",
   "execution_count": null,
   "metadata": {},
   "outputs": [],
   "source": [
    "each_entry = my_table.find_all('td')\n",
    "each_entry"
   ]
  },
  {
   "cell_type": "code",
   "execution_count": null,
   "metadata": {},
   "outputs": [],
   "source": [
    "print(each_entry[0])"
   ]
  },
  {
   "cell_type": "code",
   "execution_count": null,
   "metadata": {},
   "outputs": [],
   "source": [
    "for entry in each_entry:\n",
    "    the_data = entry.find('b')\n",
    "    the_category = the_data.previous_sibling\n",
    "    print(the_data.string)\n",
    "    print(the_category)"
   ]
  },
  {
   "cell_type": "code",
   "execution_count": null,
   "metadata": {},
   "outputs": [],
   "source": [
    "avengers_dict = {}\n",
    "for entry in each_entry:\n",
    "    the_data = entry.find('b')\n",
    "    the_category = the_data.previous_sibling\n",
    "    data_string = the_data.string\n",
    "    the_category = the_category[:-2].replace(' ','')\n",
    "    avengers_dict[the_category] = data_string\n",
    "avengers_dict"
   ]
  },
  {
   "cell_type": "code",
   "execution_count": null,
   "metadata": {},
   "outputs": [],
   "source": [
    "avengers_dict['Genre']"
   ]
  },
  {
   "cell_type": "code",
   "execution_count": null,
   "metadata": {
    "collapsed": true
   },
   "outputs": [],
   "source": []
  }
 ],
 "metadata": {
  "kernelspec": {
   "display_name": "Python 3",
   "language": "python",
   "name": "python3"
  },
  "language_info": {
   "codemirror_mode": {
    "name": "ipython",
    "version": 3
   },
   "file_extension": ".py",
   "mimetype": "text/x-python",
   "name": "python",
   "nbconvert_exporter": "python",
   "pygments_lexer": "ipython3",
   "version": "3.6.1"
  }
 },
 "nbformat": 4,
 "nbformat_minor": 2
}
