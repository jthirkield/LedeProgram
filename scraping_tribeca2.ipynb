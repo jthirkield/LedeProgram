{
 "cells": [
  {
   "cell_type": "code",
   "execution_count": null,
   "metadata": {
    "collapsed": true
   },
   "outputs": [],
   "source": [
    "from urllib.request import urlopen\n",
    "from bs4 import BeautifulSoup"
   ]
  },
  {
   "cell_type": "code",
   "execution_count": null,
   "metadata": {
    "collapsed": true
   },
   "outputs": [],
   "source": [
    "my_url = \"https://tribecafilm.com/filmguide?letter=a\"\n",
    "raw_html = urlopen(my_url).read()\n",
    "soup_doc = BeautifulSoup(raw_html, \"html.parser\")\n"
   ]
  },
  {
   "cell_type": "code",
   "execution_count": null,
   "metadata": {},
   "outputs": [],
   "source": [
    "print(soup_doc.prettify())\n",
    "#soup_doc.title"
   ]
  },
  {
   "cell_type": "code",
   "execution_count": null,
   "metadata": {
    "collapsed": true
   },
   "outputs": [],
   "source": [
    "all_movies = soup_doc.find_all('article')\n"
   ]
  },
  {
   "cell_type": "code",
   "execution_count": null,
   "metadata": {},
   "outputs": [],
   "source": [
    "#all_movies[0].find(class_=\"left\")\n",
    "movie_info = all_movies[9].find('div', attrs={'class': 'left'})\n",
    "title = movie_info.find(class_=\"headerTitle\").find('a').string\n",
    "title\n",
    "len(all_movies)"
   ]
  },
  {
   "cell_type": "code",
   "execution_count": null,
   "metadata": {
    "collapsed": true
   },
   "outputs": [],
   "source": [
    "movies_details = movie_info.find_all('li')\n"
   ]
  },
  {
   "cell_type": "code",
   "execution_count": null,
   "metadata": {},
   "outputs": [],
   "source": [
    "\n",
    "for this_movie in movies_details[:-1]:\n",
    "    print(this_movie.string)"
   ]
  },
  {
   "cell_type": "code",
   "execution_count": null,
   "metadata": {},
   "outputs": [],
   "source": [
    "movies_details[-1].find('a').string"
   ]
  },
  {
   "cell_type": "code",
   "execution_count": null,
   "metadata": {},
   "outputs": [],
   "source": [
    "for this_movie in all_movies:\n",
    "    movies_info = this_movie.find('div', attrs={'class': 'left'})\n",
    "    title = movies_info.find(class_=\"headerTitle\").find('a').string\n",
    "    print(title)\n",
    "    details = movies_info.find_all('li')\n",
    "    for dets in details[:-1]:\n",
    "        print(dets.string.strip())\n",
    "    country = details[-1].find('a').string\n",
    "    print(country)\n",
    "        \n"
   ]
  },
  {
   "cell_type": "code",
   "execution_count": null,
   "metadata": {},
   "outputs": [],
   "source": [
    "movies = []\n",
    "for this_movie in all_movies:\n",
    "    movie_dict = {}\n",
    "    movies_info = this_movie.find('div', attrs={'class': 'left'})\n",
    "    movie_dict['title'] = movies_info.find(class_=\"headerTitle\").find('a').string\n",
    "    #print(title)\n",
    "    details = movies_info.find_all('li')\n",
    "    for dets in details[:-1]:\n",
    "        this_detail = dets.string.split(':')\n",
    "        key = this_detail[0].strip()\n",
    "        val = this_detail[1].strip()\n",
    "        movie_dict[key] = val\n",
    "        #print(this_detail[1].strip())\n",
    "    country = details[-1].find('a').string\n",
    "    movie_dict['country'] = country\n",
    "    #print(country)\n",
    "    movies.append(movie_dict)\n",
    "movies"
   ]
  },
  {
   "cell_type": "code",
   "execution_count": null,
   "metadata": {},
   "outputs": [],
   "source": [
    "movies"
   ]
  },
  {
   "cell_type": "code",
   "execution_count": null,
   "metadata": {
    "collapsed": true
   },
   "outputs": [],
   "source": []
  }
 ],
 "metadata": {
  "kernelspec": {
   "display_name": "Python 3",
   "language": "python",
   "name": "python3"
  },
  "language_info": {
   "codemirror_mode": {
    "name": "ipython",
    "version": 3
   },
   "file_extension": ".py",
   "mimetype": "text/x-python",
   "name": "python",
   "nbconvert_exporter": "python",
   "pygments_lexer": "ipython3",
   "version": "3.6.1"
  }
 },
 "nbformat": 4,
 "nbformat_minor": 2
}
