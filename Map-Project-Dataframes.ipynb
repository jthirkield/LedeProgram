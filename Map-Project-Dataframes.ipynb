{
 "cells": [
  {
   "cell_type": "markdown",
   "metadata": {},
   "source": [
    "### The final steps ahead:\n",
    "\n",
    "1. Completing your data structure (+ secondary source)\n",
    "2. Aggregating your data\n",
    "3. Refining your data for output\n",
    "4. Geometry files\n",
    "5. Exporting to your map\n",
    "6. Styling your map\n",
    "7. Presentations on Thursday and Friday"
   ]
  },
  {
   "cell_type": "markdown",
   "metadata": {},
   "source": [
    "### The curse of dimensionality: BBC\n",
    "Here is pathway toward aggregating, grouping and narrowing down your dataframe. (There is no right way--there are just ways that work better than others.)"
   ]
  },
  {
   "cell_type": "code",
   "execution_count": null,
   "metadata": {
    "collapsed": true
   },
   "outputs": [],
   "source": [
    "sample_BBC = [\n",
    "[' Mulholland Drive ',  'David Lynch',  '2001',  '1',  'Simon Abrams',  'Freelance film critic',  'US'], \n",
    "[' In the Mood for Love ',  'Wong Kar-wai',  '2000',  '2',  'Simon Abrams',  'Freelance film critic',  'US'], \n",
    "[' The Tree of Life ',  'Terrence Malick',  '2011',  '3',  'Simon Abrams',  'Freelance film critic',  'US'], \n",
    "[' Yi Yi: A One and a Two ',  'Edward Yang',  '2000',  '4',  'Simon Abrams',  'Freelance film critic',  'US'], \n",
    "[' Goodbye to Language ',  'Jean-Luc Godard',  '2014',  '5',  'Simon Abrams',  'Freelance film critic',  'US'], \n",
    "[' The White Meadows ',  'Mohammad Rasoulof',  '2009',  '6',  'Simon Abrams',  'Freelance film critic',  'US'], \n",
    "[' Night Across the Street ',  'Raoul Ruiz',  '2012',  '7',  'Simon Abrams',  'Freelance film critic',  'US'], \n",
    "[' Certified Copy ',  'Abbas Kiarostami',  '2010',  '8',  'Simon Abrams',  'Freelance film critic',  'US'], \n",
    "[' Sparrow ',  'Johnnie To',  '2008',  '9',  'Simon Abrams',  'Freelance film critic',  'US'], \n",
    "[' Fados ',  'Carlos Saura',  '2007',  '10',  'Simon Abrams',  'Freelance film critic',  'US'], \n",
    "[' In the Mood for Love ',  'Wong Kar-wai',  '2000',  '1',  'Sam Adams',  'Freelance film critic',  'US'], \n",
    "[' Eternal Sunshine of the Spotless Mind ',  'Michel Gondry',  '2004',  '2',  'Sam Adams',  'Freelance film critic',  'US'], \n",
    "[' Syndromes and a Century ',  'Apichatpong Weerasethakul',  '2006',  '3',  'Sam Adams',  'Freelance film critic',  'US'], \n",
    "[' Spirited Away ',  'Hayao Miyazaki',  '2001',  '4',  'Sam Adams',  'Freelance film critic',  'US'], \n",
    "[' The Act of Killing ',  'Joshua Oppenheimer',  '2012',  '5',  'Sam Adams',  'Freelance film critic',  'US'], \n",
    "[' The Grand Budapest Hotel ',  'Wes Anderson',  '2014',  '6',  'Sam Adams',  'Freelance film critic',  'US'], \n",
    "[' The New World ',  'Terrence Malick',  '2004',  '7',  'Sam Adams',  'Freelance film critic',  'US'], \n",
    "[' Certified Copy ',  'Abbas Kiarostami',  '2010',  '8',  'Sam Adams',  'Freelance film critic',  'US'], \n",
    "[' The World ',  'Jia Zhangke',  '2004',  '9',  'Sam Adams',  'Freelance film critic',  'US'], \n",
    "[' Elephant ',  'Gus Van Sant',  '2003',  '10',  'Sam Adams',  'Freelance film critic',  'US'], \n",
    "[' Zero Dark Thirty ',  'Kathryn Bigelow',  '2012',  '1',  'Thelma Adams',  'Freelance film critic',  'US'], \n",
    "[' A History of Violence ',  'David Cronenberg',  '2005',  '2',  'Thelma Adams',  'Freelance film critic',  'US'], \n",
    "[' The Grand Budapest Hotel ',  'Wes Anderson',  '2014',  '3',  'Thelma Adams',  'Freelance film critic',  'US'], \n",
    "[' Stories We Tell ',  'Sarah Polley',  '2012',  '4',  'Thelma Adams',  'Freelance film critic',  'US'], \n",
    "[' Casino Royale ',  'Martin Campbell',  '2006',  '5',  'Thelma Adams',  'Freelance film critic',  'US'], \n",
    "[' Eternal Sunshine of the Spotless Mind ',  'Michel Gondry',  '2004',  '6',  'Thelma Adams',  'Freelance film critic',  'US'], \n",
    "[' Tabu ',  'Miguel Gomes',  '2012',  '7',  'Thelma Adams',  'Freelance film critic',  'US'], \n",
    "[' Snow White ',  'Pablo Berger',  '2012',  '8',  'Thelma Adams',  'Freelance film critic',  'US'], \n",
    "[' Frozen River ',  'Courtney Hunt',  '2008',  '9',  'Thelma Adams',  'Freelance film critic',  'US'], \n",
    "[' Gosford Park ',  'Robert Altman',  '2001',  '10',  'Thelma Adams',  'Freelance film critic',  'US'], \n",
    "[' In the Mood for Love ',  'Wong Kar-wai',  '2000',  '1',  'Arturo Aguilar',  'Rolling Stone Mexico',  'Mexico'], \n",
    "[' Mulholland Drive ',  'David Lynch',  '2001',  '2',  'Arturo Aguilar',  'Rolling Stone Mexico',  'Mexico'], \n",
    "[' Inception ',  'Christopher Nolan',  '2010',  '3',  'Arturo Aguilar',  'Rolling Stone Mexico',  'Mexico'], \n",
    "[\" Pan's Labyrinth \",  'Guillermo Del Toro',  '2006',  '4',  'Arturo Aguilar',  'Rolling Stone Mexico',  'Mexico'], \n",
    "[' Caché ',  'Michael Haneke',  '2005',  '5',  'Arturo Aguilar',  'Rolling Stone Mexico',  'Mexico'], \n",
    "[' Grizzly Man ',  'Werner Herzog',  '2005',  '6',  'Arturo Aguilar',  'Rolling Stone Mexico',  'Mexico'], \n",
    "[' 4 Months, 3 Weeks & 2 Days ',  'Cristian Mungiu',  '2007',  '7',  'Arturo Aguilar',  'Rolling Stone Mexico',  'Mexico'], \n",
    "[' Holy Motors ',  'Leos Carax',  '2012',  '8',  'Arturo Aguilar',  'Rolling Stone Mexico',  'Mexico'], \n",
    "[' The Last of the Unjust ',  'Claude Lanzmann',  '2013',  '9',  'Arturo Aguilar',  'Rolling Stone Mexico',  'Mexico'], \n",
    "[' There Will Be Blood ',  'Paul Thomas Anderson',  '2007',  '10',  'Arturo Aguilar',  'Rolling Stone Mexico',  'Mexico'], \n",
    "[' The Piano Teacher ',  'Michael Haneke',  '2001',  '1',  'Matthew Anderson',  'BBC Culture',  'UK'], \n",
    "[' Margaret ',  'Kenneth Lonergan',  '2011',  '2',  'Matthew Anderson',  'BBC Culture',  'UK'], \n",
    "[' American Psycho ',  'Mary Harron',  '2000',  '3',  'Matthew Anderson',  'BBC Culture',  'UK'], \n",
    "[' 4 Months, 3 Weeks & 2 Days ',  'Cristian Mungiu',  '2007',  '4',  'Matthew Anderson',  'BBC Culture',  'UK'], \n",
    "[' Caché ',  'Michael Haneke',  '2005',  '5',  'Matthew Anderson',  'BBC Culture',  'UK'], \n",
    "[' Mulholland Drive ',  'David Lynch',  '2001',  '6',  'Matthew Anderson',  'BBC Culture',  'UK'], \n",
    "[' Lourdes ',  'Jessica Hausner',  '2009',  '7',  'Matthew Anderson',  'BBC Culture',  'UK'], \n",
    "[' Red Road ',  'Andrea Arnold',  '2006',  '8',  'Matthew Anderson',  'BBC Culture',  'UK'], \n",
    "[' Boyhood ',  'Richard Linklater',  '2014',  '9',  'Matthew Anderson',  'BBC Culture',  'UK'], \n",
    "[' Tony Manero ',  'Pablo Larraín',  '2008',  '10',  'Matthew Anderson',  'BBC Culture',  'UK'], \n",
    "[' No Country For Old Men ',  'Joel and Ethan Coen',  '2007',  '1',  'Tim Appelo',  'The Wrap',  'US'], \n",
    "[' Spirited Away ',  'Hayao Miyazaki',  '2001',  '2',  'Tim Appelo',  'The Wrap',  'US'], \n",
    "[' A Separation ',  'Asghar Farhadi',  '2011',  '3',  'Tim Appelo',  'The Wrap',  'US'], \n",
    "[\" Pan's Labyrinth \",  'Guillermo Del Toro',  '2006',  '4',  'Tim Appelo',  'The Wrap',  'US'], \n",
    "[' Finding Nemo ',  'Andrew Stanton and Lee Unkrich',  '2003',  '5',  'Tim Appelo',  'The Wrap',  'US'], \n",
    "[' Hero ', 'Zhang Yimou', '2002', '6', 'Tim Appelo', 'The Wrap', 'US'], \n",
    "[' The Wolf of Wall Street ',  'Martin Scorsese',  '2013',  '7',  'Tim Appelo',  'The Wrap',  'US'], \n",
    "[' Mother ', 'Bong Joon-ho', '2009', '8', 'Tim Appelo', 'The Wrap', 'US'], \n",
    "[' The Bourne Ultimatum ',  'Paul Greengrass',  '2007',  '9',  'Tim Appelo',  'The Wrap',  'US'], \n",
    "[' Traffic ',  'Steven Soderbergh',  '2000',  '10',  'Tim Appelo',  'The Wrap',  'US'], \n",
    "[' These Encounters of Theirs ',  'Danièle Huillet and Jean-Marie Straub',  '2006',  '1',  'Adriano Aprà',  'Film historian',  'Italy'], \n",
    "[' Vincere ',  'Marco Bellocchio',  '2009',  '2',  'Adriano Aprà',  'Film historian',  'Italy'], \n",
    "[' Le quattro volte ',  'Michelangelo Frammartino',  '2010',  '3',  'Adriano Aprà',  'Film historian',  'Italy'], \n",
    "[' The Profession of Arms ',  'Ermanno Olmi',  '2001',  '4',  'Adriano Aprà',  'Film historian',  'Italy'], \n",
    "[' Gostanza da Libbiano ',  'Paolo Benvenuti',  '2000',  '5',  'Adriano Aprà',  'Film historian',  'Italy'], \n",
    "[' Storia di una donna amata e di un assassino gentile ',  'Luigi M. Faccini',  '2009',  '6',  'Adriano Aprà',  'Film historian',  'Italy'], \n",
    "[' At the First Breath of Wind ',  'Franco Piavoli',  '2003',  '7',  'Adriano Aprà',  'Film historian',  'Italy'], \n",
    "[' Sangue ',  'Pippo Delbono',  '2013',  '8',  'Adriano Aprà',  'Film historian',  'Italy'], \n",
    "[' Terra ',  'Marco De Angelis and Antonio Di Trapani',  '2015',  '9',  'Adriano Aprà',  'Film historian',  'Italy'], \n",
    "[' Oh! Man ',  'Yervant Gianikian and Angela Ricci Lucchi',  '2004',  '10',  'Adriano Aprà',  'Film historian',  'Italy']\n",
    "]"
   ]
  },
  {
   "cell_type": "markdown",
   "metadata": {
    "collapsed": true
   },
   "source": [
    "Bring that into pandas"
   ]
  },
  {
   "cell_type": "code",
   "execution_count": null,
   "metadata": {},
   "outputs": [],
   "source": [
    "import numpy as np\n",
    "import pandas as pd\n",
    "col_names = ['movie', 'director', 'm_year', 'crit_rank','critic','crit_org','crit_cn']\n",
    "df = pd.DataFrame.from_records(sample_BBC, columns=col_names)\n",
    "df.loc[53]"
   ]
  },
  {
   "cell_type": "markdown",
   "metadata": {},
   "source": [
    "Right now there's only one Field with the country--the critics country. Let's group by that."
   ]
  },
  {
   "cell_type": "code",
   "execution_count": null,
   "metadata": {},
   "outputs": [],
   "source": [
    "df.groupby('crit_cn')['critic'].nunique()"
   ]
  },
  {
   "cell_type": "code",
   "execution_count": null,
   "metadata": {
    "collapsed": true
   },
   "outputs": [],
   "source": [
    "#Narrowing down my data into a smaller frame"
   ]
  },
  {
   "cell_type": "code",
   "execution_count": null,
   "metadata": {},
   "outputs": [],
   "source": [
    "df1 = df.groupby('crit_cn')['movie'].value_counts().reset_index(name='count')\n",
    "df1.head()"
   ]
  },
  {
   "cell_type": "markdown",
   "metadata": {},
   "source": [
    "The cell above has the output I want,  but I need it to look nice and be combined in a single column.  This is how we build the **\"article:\"** field of our geojson doc. You need to combine columns of data into readable text."
   ]
  },
  {
   "cell_type": "code",
   "execution_count": null,
   "metadata": {},
   "outputs": [],
   "source": [
    "#Moving the values from the two right columns into a new column\n",
    "#One that human readers can understand\n",
    "df1[\"string\"] = df1[\"movie\"] + \": \" + df1[\"count\"].map(str) + np.where(df1[\"count\"]>1, ' votes', ' vote')\n",
    "df1.head()"
   ]
  },
  {
   "cell_type": "markdown",
   "metadata": {},
   "source": [
    "This is nice but I need to I have only **one row per country**. I do another group, and combine everything together. And when I do that I throw some HTML into there."
   ]
  },
  {
   "cell_type": "code",
   "execution_count": null,
   "metadata": {
    "scrolled": true
   },
   "outputs": [],
   "source": [
    "output = df1.groupby('crit_cn')['string'].apply(lambda x: \"<p>%s</p>\" % '</p><p> '.join(x)).reset_index(name='article')\n",
    "output\n",
    "output.iloc[0]['article']"
   ]
  },
  {
   "cell_type": "markdown",
   "metadata": {},
   "source": [
    "Now we need our **headline**:  I'm going to have it be the number of critics in the country. I make a mini dataframe That counts the number of critics, and I merge it with my output dataframe."
   ]
  },
  {
   "cell_type": "code",
   "execution_count": null,
   "metadata": {
    "collapsed": true
   },
   "outputs": [],
   "source": [
    "crits = df.groupby('crit_cn')['critic'].nunique().reset_index(name='headline')\n",
    "output = output.merge(crits, how='left', on='crit_cn')"
   ]
  },
  {
   "cell_type": "code",
   "execution_count": null,
   "metadata": {},
   "outputs": [],
   "source": [
    "output\n"
   ]
  },
  {
   "cell_type": "code",
   "execution_count": null,
   "metadata": {
    "collapsed": true
   },
   "outputs": [],
   "source": [
    "#Turn that number and into something readable.\n",
    "#Though here I don't pay any attention to the English language\n",
    "output['headline'] = output['headline'].map(str) + \" critic\""
   ]
  },
  {
   "cell_type": "code",
   "execution_count": null,
   "metadata": {},
   "outputs": [],
   "source": [
    "output"
   ]
  },
  {
   "cell_type": "code",
   "execution_count": null,
   "metadata": {},
   "outputs": [],
   "source": [
    "#Add some color\n",
    "output['color'] = \"#000066\"\n",
    "output"
   ]
  },
  {
   "cell_type": "markdown",
   "metadata": {},
   "source": [
    "**Getting shape files**\n",
    "The shape file I am using it was downloaded from:\n",
    "\n",
    "https://geojson-maps.ash.ms/\n",
    "\n",
    "This allows you to select continents and export a geojson document with geometry. Depending on what you are mapping you may need to give some thought has to where to locate shape files. There also shape file formats like the ones available here:\n",
    "\n",
    "https://www.census.gov/geo/maps-data/data/tiger-cart-boundary.html\n",
    "\n",
    "They tend to be very high density, but you can use them, geopandas we'll open them up for you. \n",
    "\n",
    "For more information on geojson formats go to this page:\n",
    "\n",
    "http://leafletjs.com/examples/geojson/\n",
    "\n"
   ]
  },
  {
   "cell_type": "code",
   "execution_count": null,
   "metadata": {
    "collapsed": true
   },
   "outputs": [],
   "source": [
    "import geopandas as gpd\n",
    "geo_file = \"/Users/Jon/Documents/columbia_syllabus/map_final_project/custom.geo.json\"\n",
    "countries = gpd.read_file(geo_file)\n",
    "countries.head()\n"
   ]
  },
  {
   "cell_type": "code",
   "execution_count": null,
   "metadata": {
    "collapsed": true
   },
   "outputs": [],
   "source": [
    "## this file is a bit annoying,\n",
    "##Had to do some cleaning so my fields matched\n",
    "countries = countries.drop_duplicates(subset=['adm0_a3'], keep='first')\n",
    "output.iloc[3,0] = 'United States of America'\n",
    "output.iloc[2,0] = 'United Kingdom'\n"
   ]
  },
  {
   "cell_type": "code",
   "execution_count": null,
   "metadata": {
    "collapsed": true
   },
   "outputs": [],
   "source": [
    "##Doing the merge!"
   ]
  },
  {
   "cell_type": "code",
   "execution_count": null,
   "metadata": {
    "collapsed": true
   },
   "outputs": [],
   "source": [
    "output = pd.merge(output,countries[['admin','geometry']],left_on='crit_cn', right_on='admin', how='left')"
   ]
  },
  {
   "cell_type": "code",
   "execution_count": null,
   "metadata": {},
   "outputs": [],
   "source": [
    "output"
   ]
  },
  {
   "cell_type": "code",
   "execution_count": null,
   "metadata": {
    "collapsed": true
   },
   "outputs": [],
   "source": [
    "output = output.rename(columns={'crit_cn': 'name'})"
   ]
  },
  {
   "cell_type": "code",
   "execution_count": null,
   "metadata": {
    "collapsed": true
   },
   "outputs": [],
   "source": [
    "# converting my pandas file to geopandas\n",
    "from geopandas import GeoDataFrame\n",
    "geo_output = GeoDataFrame(output)"
   ]
  },
  {
   "cell_type": "code",
   "execution_count": null,
   "metadata": {},
   "outputs": [],
   "source": [
    "geo_output"
   ]
  },
  {
   "cell_type": "code",
   "execution_count": null,
   "metadata": {
    "collapsed": true
   },
   "outputs": [],
   "source": [
    "#Exporting: This gives you a nice-looking file\n",
    "#You need to change the file's name when you exported each time \n",
    "#Or it will break\n",
    "geo_output.to_file(\"bbc_test.geojson\", driver='GeoJSON')"
   ]
  },
  {
   "cell_type": "markdown",
   "metadata": {},
   "source": [
    "Now we can go put that into our map!\n",
    "\n"
   ]
  },
  {
   "cell_type": "markdown",
   "metadata": {},
   "source": [
    "For the BBC: Here's how you get out the directors from your data frame."
   ]
  },
  {
   "cell_type": "code",
   "execution_count": null,
   "metadata": {},
   "outputs": [],
   "source": [
    "#df.sort_values(by=('director'))\n",
    "array = df['director'].unique()\n",
    "array.sort()\n",
    "array"
   ]
  },
  {
   "cell_type": "markdown",
   "metadata": {},
   "source": [
    "\n",
    "\n"
   ]
  },
  {
   "cell_type": "code",
   "execution_count": null,
   "metadata": {
    "collapsed": true
   },
   "outputs": [],
   "source": []
  },
  {
   "cell_type": "markdown",
   "metadata": {
    "collapsed": true
   },
   "source": [
    "### Supreme Court project dataframe\n",
    "\n",
    "This is just a transcript from one case: You will of course need to merge many cases."
   ]
  },
  {
   "cell_type": "code",
   "execution_count": null,
   "metadata": {
    "collapsed": true
   },
   "outputs": [],
   "source": [
    "transcript = [('CHIEF JUSTICE ROBERTS',\n",
    "  \"We'll hear argument next in case 15-1406 Goodyear v. Haeger. Mr. Bergeron?\"),\n",
    " ('MR. BERGERON',\n",
    "  \"Thank you, Mr. Chief Justice, and may it please the Court: A direct causation standard is necessary in light of the historic restrictions on a court's inherent authority, and it provides courts with a workable framework that they customarily apply in the sanctions context. Respondents, in fact, acknowledge that a direct causation standard applies, sometimes, but not always. Their two-teared suggestion, however, does not provide concrete guidance to the district courts and it would inevitably lead to the expansion of the inherent authority. One of the reasons this Court has been reticent about any sort of broadening of the scope of the inherent authority is because the due-process issues and separation of powers issues combined with a court determining the violation acting essentially as prosecutor and fact finder and then imposing the  penalty. And --\"),\n",
    " ('JUSTICE SOTOMAYOR',\n",
    "  \"How do you -- am I to take that your -- I think what I read from your brief is that we should draw the line that we drew in Bagli between compensatory damages under the contempt inherent power and punishment damages that require criminal civil procedures. Is that the same thing you're asking us to --\"),\n",
    " ('MR. BERGERON', \"Yes. That's essentially the same thing\"),\n",
    " ('JUSTICE SOTOMAYOR', 'So how do you deal with Chambers?'),\n",
    " ('MR. BERGERON',\n",
    "  'So we deal with Chambers a couple of different ways. First of all, Chambers factually distinguishably different from our case because Chambers was based purely on pervasive misconduct that was so bad that it tainted the entire case because there was no -- there was no good faith defense at the end of the day. We have the good faith defense here. But secondly --'),\n",
    " ('JUSTICE GINSBURG',\n",
    "  \"Wasn't, that wasn't that what was found here was that it was pervasive from the very first effort to get discovery continuing through the settlement?  1\"),\n",
    " ('MR. BERGERON',\n",
    "  'No, Justice Ginsburg. In fact, what the Court found ultimately was it recognized it did not resolve the question whether the Heat Rise test was dispositive. And it said plaintiffs believe it would be helpful, but it did not make a determination of that. And in light of that, we had good-faith defenses as to even if the tests were produced, that there was still a design defect. And beyond that, there were also causation defenses as to the ultimate cause of the accident, whether that was driver error or whether there was impact damage'),\n",
    " ('JUSTICE GINSBURG',\n",
    "  \"But weren't you given the opportunity -- maybe you can clarify this -- the -- the Court said, well, if we're wrong about giving all of the counsel fees, then we will deduct -- what? -- some $700,000 based on Goodyear's filing of the amount that should not be recovered because it was unrelated to Goodyear's bad conduct\"),\n",
    " ('MR. BERGERON',\n",
    "  \"Correct. So there's two points on that. First of all, that was -- how that evolved was the Court had already ruled against us on the causation point; so we had lost that battle. And then when we -- when the plaintiffs finally submitted their fee application, we took a fallback position and said,  1 at a bare minimum, this needs to be carved out. So we haven't waived that, but I think the second\"),\n",
    " ('JUSTICE GINSBURG',\n",
    "  \"And you represented that that was the cost that was not attributable to Goodyear's misconduct\"),\n",
    " ('MR. BERGERON',\n",
    "  \"What we represented was that it was related to the medical costs, the medical damages -- proven up the medical damages, as well as pursuit of the other defendants. So that would be one subset of the -- of the costs that were not caused by the misconduct, but it wasn't the total one. And what's significant about that as well is that the court said it's impossible to make this calculation. But then the court did, at least to a certain extent, make a calculation based on the evidence that was submitted\"),\n",
    " ('CHIEF JUSTICE ROBERTS',\n",
    "  \"Well, your test is the direct directness of the causation. And I -- I guess I'm curious as to how you would apply that in practice. I mean, if you take a case, for example, they don't get the Heat Rise test, they get something else that isn't as, in their view\"),\n",
    " ('MR. BERGERON', 'Right'),\n",
    " ('CHIEF JUSTICE ROBERTS', 'dramatic or compelling'),\n",
    " ('MR. BERGERON', 'Right'),\n",
    " ('CHIEF JUSTICE ROBERTS',\n",
    "  \"And they have to go through all sorts of -- they're preparing somebody to testify about this other test, and they incur $100,000 in expenses to do that. Is that something that would be directly caused by the failure to disclose the Heat Rise test?\"),\n",
    " ('MR. BERGERON',\n",
    "  \"I think there's a couple of different ways you can look at it. I think we -- we -- we gravitate towards the Fox test, which is the incremental harm. So if you're going to engage in that litigation anyway, and you're going to engage in prepping that witness anyway --\"),\n",
    " ('CHIEF JUSTICE ROBERTS',\n",
    "  \"Well, let's say they're not. They say, you know, if we get the Heat Rise test, that's -- that's much more dramatic. We don't need to worry about, you know, this less compelling test\"),\n",
    " ('MR. BERGERON',\n",
    "  \"I think there certainly could be situations where -- where the proponent of fees would say, we would not have taken this deposition if we had had this document, for instance, and then that would -- that could be something that they would then recover for. I think generally what you're looking at  1 is -- is the incremental costs going above a baseline. And that's\"),\n",
    " ('JUSTICE SOTOMAYOR',\n",
    "  \"That's always a guess-estimate to start with. Guess-estimate, I use it in its colloquial sense of you're -- you're looking at what happened and you're cutting broadly at the lines because you can never set the line precisely. But as Justice -- as the Chief Justice said on the Heat Rise test, there was one expert that was questioned, but would have been questioned in a totally different way if the proper tests had been disclosed. Why was that causal decision by the district court wrong?\"),\n",
    " ('MR. BERGERON',\n",
    "  'Well, we think that they could recover for that expert. And, in fact, you know, the district court never got into the actual analysis of causation'),\n",
    " ('JUSTICE SOTOMAYOR',\n",
    "  \"No, but they -- they the district court asked you to tell them what you thought wasn't caused, assuming that you accepted the district court's findings\"),\n",
    " ('MR. BERGERON',\n",
    "  \"Well, in fairness, the district court told us we -- we were not going to be able to do that. And we -- that's -- that's how the 700,000 came up, because we took a fallback position and  1 tried to say, well, at a bare minimum, these things are so far attenuated, so far removed from any misconduct, that has to be removed. But you need to\"),\n",
    " ('JUSTICE GINSBURG',\n",
    "  'Well, to be precise about that, what were you asked by the district judge to submit?'),\n",
    " ('MR. BERGERON',\n",
    "  \"So what happened was before the district court issued its November 2012 order, we had raised -- they -- they had requested all sorts of remedies for sanctions, and we had raised the causation point, the causation limitation. The district court rejected that in the November 2012 order and said, no, you get everything. And so in response, the plaintiffs filed a three-page fee application that said give us everything, along with all of their time records. So then in response to that, that's where we filed our opposition and said, you know, that's where we raised the issue of -- of the 700,000 as being too far removed. But we\"),\n",
    " ('JUSTICE GINSBURG',\n",
    "  \"So why isn't it appropriate, given that the plaintiff was put to a great expense and probably got less in the settlement than they would have gotten if Goodyear had lived up to its discovery responsibilities, why isn't it appropriate to  1 say instead of making the plaintiff prove every single item that's attributable to the discovery fault, it should be the defendant's expert to point out what what items were not attributable?\"),\n",
    " ('MR. BERGERON',\n",
    "  \"I think there's both a practical and a legal answer to that. The practical answer is because they are the ones that incurred the fees, they are in the best position to say these fees were incurred as a result of the misconduct. And I think if you look at all the sanction regimes, the burden is on the proponent to establish the propriety of the award. The legal answer is that Bagwell, although it doesn't squarely address this point, does seem to indicate that it is the proponent that needs to establish the causation link. And I believe, Justice Ginsburg, your concurrence seemed to -- to echo that as well. And then when you look at Alyeska, that case said, look, we want to be apprehensive about shifting the litigation burdens, admittedly in a slightly different context, without legislative guidance. And, of course, that's part of the problem here is there is no legislative guidance, which is the reason that there needs to be a causation check on the inherent authority\"),\n",
    " ('JUSTICE KAGAN',\n",
    "  'Mr. Bergeron, could I go  1 back to the question that the Chief Justice asked you. You said that you favored the approach of Fox v. Vice, which is a but-for test'),\n",
    " ('MR. BERGERON', 'Right'),\n",
    " ('JUSTICE KAGAN', \"It's would you have incurred this cost anyway even\"),\n",
    " ('MR. BERGERON', 'Right'),\n",
    " ('JUSTICE KAGAN',\n",
    "  'without the misconduct. But Fox v. Vice never uses this language of directness, which seems to me actually much more in line with proximate cause inquiries. Now, Fox v. Vice, you know, never addressed proximate cause either way. It wasn\\'t a proximate cause fact pattern. This actually seems not really a proximate cause fact pattern either; it just seems as though it\\'s a -- you know, should there be a but-for test. So I guess I\\'m wondering, where does this language of -- you say \"but for,\" but you also say \"direct.\" What do you mean when you use those two terms?'),\n",
    " ('MR. BERGERON',\n",
    "  'We borrowed \"direct\" from Cooter & Gell and from the other sanction regimes that all have various iterations of what I call direct causation. Now, they may refer to it as direct effect;  1 they may refer to it as direct result. But at the end of the day. That\\'s what they\\'re applying. Now, we looked at Fox v. Vice and saw essentially the same analysis, because what those cases are trying to determine in -- in the other sanction regimes is, what is the excess cost? And Fox approached that slightly differently, looking at it -- calling it incremental costs, calling it but-for. So, essentially, we think the tests are synonymous. And the reason that it\\'s a little bit different than, say, proximate cause is because we\\'re dealing with the American rule and and coming up with an exception to the American rule. But, obviously, the exception is not -- it\\'s not an all-or-nothing claim, and obviously Fox made that'),\n",
    " ('JUSTICE KAGAN',\n",
    "  'Well, suppose we say that the Fox v. Vice but-for test is something along the lines of what we should be applying here. So how does -- in your reply brief, you basically say that a court can \"never.\" You don\\'t -- you don\\'t just say in this case it was wrong. In your reply brief, you say a court can never say, look, the case would have settled right away, and all costs ought to go to the victimized party. Why is that? If it\\'s a but-for test, why couldn\\'t a court on a proper set of facts say, look, if  1 this -- if this abuse hadn\\'t occurred, this case would just never have gone on?'),\n",
    " ('MR. BERGERON',\n",
    "  \"We think that that is just far too speculative to satisfy a direct causation test. And, obviously, in this case, it really illustrates the point, because the district court said, I'm pointing to Goodyear's experience in other cases. But in those cases, it went all the way to or through trial. But -- but the other problem with this is\"),\n",
    " ('JUSTICE KAGAN',\n",
    "  \"Well, I don't know what what -- too speculative. I mean, the Court says, look, I understand that I have to find this; you know, that it's more likely than not. That's how we make findings about what costs would have been incurred anyway. Would -- you know, there's never any certainty. We're always saying more likely than not, would this cost have been incurred? I think none of the costs of this suit would have been incurred if this abuse hadn't taken place\"),\n",
    " ('MR. BERGERON',\n",
    "  'But we think the problem with that is it ends up being a shortcut for causation. And -- and the Court, then, is excused from the performance of the task of actually looking at what the misconduct was and how that impacted the fees incurred'),\n",
    " ('JUSTICE ALITO',\n",
    "  \"I think it's pretty easy to  think of hypotheticals and how they might be  unrealistic, in which the eventual disclosure of some piece of information that should have been disclosed a lot earlier is so fatal to the defense that the case would be settled as soon as that came to light. You think it's impossible to imagine something like that? Suppose there were some internal Goodyear document here that said, you know, we are going to sell this. We are going to market this to RVs, but we know it's really not suitable for RVs. And so if people put it on an RV and they are driving around in a hot climate, the tire is going to explode. I mean, if you had an internal document like that, it wouldn't be very hard to say, wow, once this comes out, we are going to have no option but to settle the issue of liability\"),\n",
    " ('MR. BERGERON',\n",
    "  \"And I can certainly imagine such a document. But the problem with that is if the document shows that the entire litigation is not in good faith, I think that's a different issue. That's getting closer to Chambers. But if it doesn't do that, the problem with using a potential settlement date as the barometer for causation here is -- I can't tell you how many mediations I've walked into when knowing my client's   risk tolerance and what I thought the other side was  going to say, I said, this case is going to settle. Absolutely it's going to settle today and it doesn't happen. It just ends up being too speculative because you can't -- you would have to really pierce the privilege on both sides to get any sort of determination as to whether they would actually settle\"),\n",
    " ('JUSTICE KAGAN',\n",
    "  'Yes, but if a lack of certainty like that is going to prevent a judge from actually making an award, then people on the other side, people who are victimized, are going to be undercompensated in case after case after case'),\n",
    " ('MR. BERGERON',\n",
    "  \"But I don't think that that's the case here because, obviously, if a direct causation test is applied and they get the incremental cost that they would have received in the absence of the misconduct, then they received the appropriate compensatory award and it satisfies the due process concerns\"),\n",
    " ('JUSTICE KENNEDY',\n",
    "  \"Justice Sotomayor asked you at the outset about the Chambers cases. I just can't find really strong language in this Chambers case from which to imply a causation or draw a causation conclusion. And Bagwell doesn't even cite Chambers\"),\n",
    " ('MR. BERGERON',\n",
    "  'Right. Chambers was not   engaging in the same causation analysis that we are  talking about today'),\n",
    " ('JUSTICE KENNEDY',\n",
    "  \"No, it wasn't. I know. Clearly it was not. But why shouldn't it have?\"),\n",
    " ('MR. BERGERON',\n",
    "  \"Well, because what Chambers was recognizing was it did acknowledge that all of the fees were caused by the misconduct, and it did point out that the entirety of the case was built on a fraud, and there was no good faith defense to the litigation. So in that circumstance -- and, of course, the district court in Chambers says, this is unique. And it probably is a unique situation. But then when we move to Bagwell, the other point about Chambers is it was built on the foundation of contempt. And so it was built on the contempt cases in distilling a rule from those. But then that changed with Bagwell because we have the clarification on the distinction between criminal and civil, and Bagwell was drawing that line at causation. And that's why, to the extent there is any tension between Chambers and Bagwell, Bagwell should prevail on that point\"),\n",
    " ('JUSTICE SOTOMAYOR',\n",
    "  \"Am I to understand the question presented -- as presented was whether there is a direct causation standard applicable to an award under a court's inherent powers. And you're now saying we   wanted a but-for incremental cost analysis to define  direct cause. Then ask your adversary how he would define it if it was going to be applied. But you're also asking us to actually apply it in your case. And to review the district court's findings de novo or on abuse of discretion?\"),\n",
    " ('MR. BERGERON',\n",
    "  'The district court would be reviewed under abuse of discretion. And our point is the Court applied the wrong legal test which constitutes an abuse of discretion. We think ultimately that the Court should remand to the district court to allow the Court to apply the direct causation test that the court declined to apply the first time around'),\n",
    " ('JUSTICE KAGAN',\n",
    "  \"When the district court gave these two awards, the 2.7 and the million, do you understand that to have been 2.7 if I'm not bound by a cause requirement; million if I am?\"),\n",
    " ('MR. BERGERON',\n",
    "  \"I think that's how the court envisioned it, yes, Justice Kagan\"),\n",
    " ('JUSTICE KAGAN',\n",
    "  \"So then why hasn't that been done already in the district court? In other words, if you're right, that there is a causation requirement here, we send it back to the district court, hasn't the district court already performed that calculation?\"),\n",
    " ('MR. BERGERON',\n",
    "  'I think that would be what  1 the Respondents would say. And their whole argument on that is that we waive anything beyond the 700,000. My point is that we preserve that and, therefore, the Court would need to go through and -- go through the exercise of actually applying a direct causation test on these facts as they are here. And I think what -- if you look at what the district court did, it found very specific dates of misconduct. So you could look at those dates of misconduct, what those episodes were, and then compare them to the time records'),\n",
    " ('JUSTICE KAGAN',\n",
    "  \"What's the difference between the million and the 2.7? What is the $700,000 in there; costs for what?\"),\n",
    " ('MR. BERGERON',\n",
    "  \"The $700,000 represented the fees incurred in pursuit of the other defendants, because there were two other defendants in the underlying litigation besides Goodyear. So saying, look, if you're pursuing those other defendants, it's clearly not being impacted by the misconduct of Goodyear. And then the second was proving up medical damages because you're going to have to prove up\"),\n",
    " ('JUSTICE SOTOMAYOR',\n",
    "  'When you gave this figure to the district court you said, in your  submission, \"Goodyear reviewed plaintiffs\\' billing  entries and created a category of cost.\" I\\'m quoting you. \"Unrelated to the alleged harm and outside the scope of the court\\'s order.\" So if that was your definition of what was unrelated to the harm, what\\'s left for the district court to do?'),\n",
    " ('MR. BERGERON',\n",
    "  \"And I understand that. I understand the point we made. We did preserve in the first footnote of that filing that we were preserving our Miller argument which had been raised previously. Miller was a Ninth Circuit decision, they didn't impose direct causation in our view. And so our point is we understand if you disagree with us and say, we waive that; then that would be the remedy. My point, though, is that because the direct causation analysis was never done in the first place, there would need to be a remand for that exercise to take place. And I think it's important as you look at what the district court found, and this gets back to, you know, why is this not like Chambers. The district court found that the discovery costs were inflated by the misconduct and that the case would have been more complicated -- was rendered more complicated by the  1 misconduct. But that assumes that there was a baseline for how litigation should have proceeded. And then there is a difference, and that difference there is capable of determination. And that's the point that we are raising in terms of that this is something that can be quantifiable\"),\n",
    " ('JUSTICE KAGAN', \"What costs do you concede you're responsible for?\"),\n",
    " ('MR. BERGERON',\n",
    "  'We would concede we are responsible for the direct harm flowing from the misconduct that the district court found. And that would include the expert discovery, the deposition of Mr. Osborn and any related preparation or follow-up to that deposition, the efforts to get the tests, if there was discovery requests or negotiations or discovery, perhaps a status conference, the Olsen deposition where the district court found misconduct in the preparing for and following up on that deposition, and then the hearings where the misconduct occurred and any preparation for those'),\n",
    " ('JUSTICE KAGAN', 'So how much is that?'),\n",
    " ('MR. BERGERON', \"I don't have a number for you, Justice Kagan\"),\n",
    " ('JUSTICE KAGAN', \"But that's not anything like the full million?  1\"),\n",
    " ('MR. BERGERON',\n",
    "  \"It's not. It would not be. And ultimately, I don't want to be exclusive here because the challenge is we never had an actual fee application that says, these are the categories of fees that were incurred as a result of your misconduct and then we could respond to that. We never had that, because the district court said, you get everything. So they said, we want everything. And so they may have other categories that they would say and then we would debate that before the district court\"),\n",
    " ('JUSTICE KAGAN',\n",
    "  \"You said you wanted to use the Fox v. Vice standard, and part of that is the but-for causation inquiry. And part of that is a pretty clear statement that we don't expect district court judges to be, you know, green eye-shade accountants, is I think what we called them\"),\n",
    " ('MR. BERGERON', 'Right'),\n",
    " ('JUSTICE KAGAN',\n",
    "  \"To go over each, you know, hour of an attorney's work. We understand the district courts are going to have to make some broad categories and some guesstimates. Do you agree with that too?\"),\n",
    " ('MR. BERGERON',\n",
    "  \"We do. I mean, there is certainly going to be discretion by the district court. We actually think that this test is going to be easier to apply at the end of the day, because if it's  1 incumbent upon the proponent to say -- to internalize a direct causation but-for test, and then make the arguments and say, these are the categories of fees that were incurred as a result of misconduct and then here is the concomitant fee -- time entries, that would be\"),\n",
    " ('JUSTICE GINSBURG',\n",
    "  \"What do you -- what do you do then with the plaintiff's position that this case would have settled much earlier, which the district judge accepted?\"),\n",
    " ('MR. BERGERON',\n",
    "  \"And we would say that that's an inappropriate basis for the reasons I said earlier, an inappropriate basis as a substitute for causation. Allowing the court to use a cutoff date and just sweep everything going forward would be inappropriate. But even if you disagreed with me on that, as Judge Watford noted in dissent, there was no record support for that conclusion by the district judge\"),\n",
    " ('JUSTICE KENNEDY',\n",
    "  'Suppose there was a finding made in another case that the case would have settled much earlier. Then what?'),\n",
    " ('MR. BERGERON',\n",
    "  \"Then I would go back to my first point which is that's an inappropriate basis upon which to obviate the need for causation, that the Court should not be getting into a temporal line drawing in terms of how we determine what fees may or may not have  been caused by misconduct.  Instead, it would be looking at, you know, what are the categories that were caused by the misconduct and making those calculations going forward. But -- but once you start -- once you sanction the ability to just draw a temporal line in the sand, then I think that makes it too easy for courts to avoid, actually, the -- the hard work sometimes -- some cases can be easy -- but the harder work of going through and looking at the -- the ultimate time entries\"),\n",
    " ('JUSTICE ALITO',\n",
    "  \"Well, if you're not -- and I -- I thought you admitted earlier that it wouldn't be appropriate for us to say that could never happen, or maybe I misunderstood your answer. But suppose we think that there could be circumstances in which a court could say this would have settled based on the fatal nature of the disclosure. This would have settled sooner, had it been properly disclosed. You would have to fall back on a rule that says this is never -- it -- although a court is sometimes permitted to do this, legal rule has to be it has to be done only in the clearest of cases or something like that\"),\n",
    " ('MR. BERGERON',\n",
    "  \"Well, and that's why I go kind of with my -- with my first point, which is we  1 shouldn't be -- once you start going down -- once you open the door to that, I think there is a problem on the application. And what we are trying to do is provide a rule that is workable and can be internalized by the district court\"),\n",
    " ('JUSTICE KAGAN', 'Is it odd that the'),\n",
    " ('JUSTICE KENNEDY',\n",
    "  'In other words, the more egregious the -- the -- the violation the harder it is to show causation. That seems odd'),\n",
    " ('MR. BERGERON',\n",
    "  'Well, no, Justice Kennedy, I disagree. Because the -- the point is if you -- if you engage in more misconduct, you are going to necessarily generate more fees in response to that, and there is obviously a deterrent effect of this award. The -- the lead counsel no longer practices law, Your Honors, and this order is going to follow Goodyear for years. And -- and this is -- whether the award is $2.7 million or a million dollars, it has significant deterrent effect, and obviously, we are dealing with follow-on litigation going beyond this. But that this is something that, at -- at the end of the day, if there is an appropriate causation test applied, then the proponent of sanction gets made whole by that, and it satisfies any due process concerns'),\n",
    " ('JUSTICE KAGAN',\n",
    "  \"But -- but, Mr. Bergeron,  1 you're saying well, you should use a causation test, but you can't ever consider the likelihood of settlement. But the likelihood of settlement might be -- might not be here, but might be in another case, quite relevant to the question of what fees have been caused by the misconduct\"),\n",
    " ('MR. BERGERON',\n",
    "  \"It -- and I -- so what I would say to that is yes, you could envision a case where that might happen. At -- at -- on the facts of this case, it couldn't. But if -- and obviously, my preference is a rule of law that would said you can't, but if you left the door open for that, that would be one possibility. If I could reserve the balance of my time\"),\n",
    " ('CHIEF JUSTICE ROBERTS', 'Thank you, counsel. Mr. Egbert'),\n",
    " ('MR. EGBERT',\n",
    "  'Thank you, Mr. Chief Justice, and may it please the Court: The district court and the Ninth Circuit in this case both acknowledge that there needs to be a causal link between the sanction misconduct and the fees and costs awarded as sanctions. So to the extent there has been argument that there was a rejection completely  1 of a causation link, completely, that simply is not the case here'),\n",
    " ('CHIEF JUSTICE ROBERTS',\n",
    "  'How does it -- what is the causation link between their misconduct and the fees incurred with respect to other defendants?'),\n",
    " ('MR. EGBERT',\n",
    "  \"Well, one thing is -- well, there's -- there is two answers to that, Your Honor. One is that, on a very simple level, if we had the very strong evidence of the -- that was concealed here that showed that the tire was defective, and -- because of the -- the Heat Rise test and that evidence, that it may have been that we would not have needed to go against any of the -- the other defendants at all\"),\n",
    " ('CHIEF JUSTICE ROBERTS',\n",
    "  \"Well, but I mean the -- as I understand it, the allegations with respect to the other defendants did not have relationship to the Heat Rise test, and if -- if -- or -- if that's the case, you're saying well, we would have gotten enough money from Goodyear; we wouldn't have cared about the money from the others?\"),\n",
    " ('MR. EGBERT',\n",
    "  \"No, Your Honor. This was a situation where there -- there was an accident and the -- there was -- the other defendants were the builders of the chassis of the motor home and the  1 other -- the builder of the motor home, and then the the tire manufacturer. So we knew somebody was at fault there. If we knew that it was clearly Goodyear because of the concealed evidence that was so devastating to their case, it's possible that the there would be no need to go after the other chassis maker who had nothing to do with the\"),\n",
    " ('CHIEF JUSTICE ROBERTS',\n",
    "  'Well, is that the standard? It could be possible?'),\n",
    " ('MR. EGBERT',\n",
    "  \"Well, Your Honor, it -- it's the -- the standard is that we are asking district court judges to make factual determinations. And in this case, we've got a district court judge who has sat through five years of litigation. She knows what the issues -- what the critical issues are in the case. She knows whether or not that evidence that was withheld and ultimately disclosed was crucial to that, and that's what she characterized it as. She said it was crucial evidence on a central issue\"),\n",
    " ('JUSTICE SOTOMAYOR',\n",
    "  'Did the other defendants contribute to the settlement that was ultimately reached?'),\n",
    " ('MR. EGBERT',\n",
    "  'Your Honor, I do not believe that to be the case. They -- they were out of the case  earlier on than Goodyear was'),\n",
    " ('JUSTICE ALITO',\n",
    "  'You -- you just said, I thought, that the Ninth Circuit accepted a causation requirement. Did you just say that?'),\n",
    " ('MR. EGBERT', 'Yes, Your Honor'),\n",
    " ('JUSTICE ALITO',\n",
    "  \"I didn't read the -- the Ninth Circuit opinion that way. I'm looking at page 32A of the appendix of the petition. The Ninth Circuit reads Chambers to mean that all attorneys' fees may be awarded once the sanctionees begin to flout their clear discovery obligations and engage in frequent and severe abuses of the judicial system, and then it goes on to say that -- that the district court -- that there wasn't -- that the Supreme Court expressly rejected the linkage argument made by the sanctionees. So that doesn't seem to me to be accepting any kind of causation requirement; rather, to say where you've got very frequent and -- and pervasive abuse, you get everything\"),\n",
    " ('MR. EGBERT',\n",
    "  \"No, no, Your Honor. There are other sections in the opinion, and I'll talk about the portions that you just read. But they -- the Ninth Circuit says the district court did all it was required to do in this case in determining the appropriate amount of fees to  1 award as sanctions to compensate the plaintiffs for the damages they suffered as a result of sanctionee's bad faith. And then they went on, they expressly said in this -- we next consider how close a link is required between the harm caused and the compensatory sanctions. Part of the confusion that exists here is that Goodyear argued -- when they argued direct causation initially, and even in the Ninth Circuit, they were arguing a different concept than they do today. What they were advocating for was that the trial court judge needed to go through the billing statements, and with respect to each line item, directly link it to a specific instance of misconduct. The trial court judge says, I don't have to do that. When she rejected that direct causation, it was that that was sanctionee's argument of that concept that she was rejecting. She didn't reject the concept that there had to be a causation, some compensatory aspect of this\"),\n",
    " ('JUSTICE KAGAN', 'Well, why did she say'),\n",
    " ('CHIEF JUSTICE ROBERTS',\n",
    "  'Judge Watford Judge Watford disagrees with your reading of the majority, right?'),\n",
    " ('MR. EGBERT', 'I think he does, Your Honor. But here --  30'),\n",
    " ('JUSTICE KAGAN',\n",
    "  \"Why -- why did the district court set two standards, the 2.7 and the 2.0, if she thought that she was bound by causation? I thought that the -- that the whole idea of those two was, one was, if I'm bound by a causation requirement and one was if I'm not\"),\n",
    " ('MR. EGBERT',\n",
    "  \"No, Your Honor. It -- it's close to that, but what it was, was that, if I'm bound by what they are saying that I'm bound by, that I have to go through each of the billing record -- each billing line item and link it to an individual instance of misconduct, if I'm wrong on that, then I'm going to give you -- I'm going to do an alternative award. And -- and let me address for a moment what was asked earlier about whether or not that's been waived. Because they did, in fact, make the argument that the 700,000 were all that was causally linked. They didn't argue anything else was -- was suffered from the causal link deficiency. What they argued was just the 700,000. And they -- they now claim that they preserved it in a footnote in their -- in their papers. But what's significant is if you look at their Ninth Circuit brief, they didn't argue anything beyond the 700,000 there, either.  31 So it's really in this Court for the first time that they seek to expand beyond the 700,000. We we say that's too late, that they -- they had a chance to argue the causal link deficiency and they did, but it was only to 700,000, and that they should be held to that\"),\n",
    " ('JUSTICE ALITO',\n",
    "  'The Ninth Circuit did not hold that there was a waiver, did it?'),\n",
    " ('MR. EGBERT',\n",
    "  \"It did not. It didn't address the -- the contingent award at all. It didn't even mention it, Your Honor\"),\n",
    " ('JUSTICE KAGAN',\n",
    "  \"You said you were going to respond to Justice Alito's statements from the Ninth Circuit. I have another one to give you. I mean, this is the closest, it seems to me, as to a standard that comes from the Ninth Circuit, that the district court awarded the amount that the Court reasonably believed it cost the Haegers to litigate against a party during the time when that party was acting in bad faith. So it seems to me that the Ninth Circuit was viewing this chronologically. When the party was acting in bad faith, all of those costs are and fees are appropriate\"),\n",
    " ('MR. EGBERT',\n",
    "  \"Well, I -- I disagree respectfully, Your Honor. I think what the Ninth  32 Circuit concluded based on the totality of the district court's extensive findings was that this evidence that was concealed and all the related deceits were so important to the plaintiff's claims and so devastating to Goodyear's defense that it -- that it caused the entire litigation as a whole to be a sham. And that's the language that the Ninth Circuit said, we're -- we're going to -- we believe that the whole thing was a sham. And so to use a train analogy, most sanction cases involved misconduct that merely delays the train or perhaps ultimately -- you know, causes a detour. But ultimately, that train arrives at the intended station. In this case, the -- what the district court found, and which the Ninth Circuit agreed, was that the train jumped track and it went in an entirely wrong direction. It didn't even try the case that the claims that -- that my clients had. It -- it tried the case based on a false set of facts and never, ever -- it was never because the misconduct was never discovered during the course of this litigation, it was a completely empty charade. It didn't try the real facts of this case. It tried what Goodyear allowed us to have only. And so because the whole thing was a sham, the district court appropriately said, you know, the whole thing was wasted. It was a wasted effort and,  33 therefore, I'm exercising my discretion in -- in holding that the whole thing should be reimbursed. I've got to put you back in the position you were before you started down, jumped track, and went in the wrong direction completely. And that's what she awarded. And -- and who gets to make that kind of a decision? That's a factual determination. The judge in this case was entitled to make a determination of what was the central issue in the case? How crucial was this evidence to that central issue? What was the impact of not having that? I think all of those are the types of factual determinations that we want district court judges to make. And to Justice -- and to Justice Alito's hypothetical, there can be situations where the -- it can be so devastating that it really could be -- a court could appropriately find that it would have settled at this point and that -- this is such a case. This is a case where the judge, in the exercise of her discretion, made that determination and that we should be -- the the appellate court should be upholding that\"),\n",
    " ('JUSTICE GINSBURG',\n",
    "  'What do you do with Judge Watford who said that that finding that it would have settled much earlier is not supported by the record?'),\n",
    " ('MR. EGBERT',\n",
    "  \"Well, the -- his main  34 criticism, Your Honor, was that there were other cases in which the tests were disclosed and they didn't settle. But here's the important point, and this is undisputed: Judge Silver specifically found -- the district court judge specifically found that unlike in our case where we had an expert that said -- admitted Goodyear's own internal expert admitted that anything above 200 degrees would cause problems for the tire, cause separation, they didn't have that evidence in those other cases. All they had was the test results that showed it was above 200 degrees, significantly above 200 degrees. It's the combination of both that is so damning. It's the\"),\n",
    " ('JUSTICE SOTOMAYOR',\n",
    "  'Could you describe for me your definition of direct causation or causation?'),\n",
    " ('MR. EGBERT', 'Causation, Your Honor. I prefer causation'),\n",
    " ('JUSTICE SOTOMAYOR', 'Give me a definition'),\n",
    " ('MR. EGBERT',\n",
    "  'The causation is that it has to be the result of or caused by. It\\'s just the \"but for,\" it\\'s what we\\'ve been -- what the case law has been operating under. There is no use of the word \"direct\" in prior case law, and there needs'),\n",
    " ('JUSTICE SOTOMAYOR',\n",
    "  'How is it different than  Fox, than the definition and the words Fox used? 35'),\n",
    " ('MR. EGBERT', \"Well, I think it's -- I think it's a very similar concept\"),\n",
    " ('JUSTICE BREYER',\n",
    "  'But why? Why get into different meanings of \"cause\" in the law? I mean, proximate cause is normally defined as a but-for condition and foreseeable'),\n",
    " ('MR. EGBERT', 'And -- and, Your Honor --'),\n",
    " ('JUSTICE BREYER',\n",
    "  'And if we start having -- why should we have some other definition here?'),\n",
    " ('MR. EGBERT',\n",
    "  'I -- I agree. I do not -- we have not advocated for adding additional language or modifying --'),\n",
    " ('JUSTICE BREYER',\n",
    "  \"Why don't we just say, look, there's an argument here and you look at what the district court said. She didn't say really that I'm going to look and see if there's but for and foreseeability. And, moreover, she said cause and then she said, well, maybe it's not. So it's sort of ambiguous what she did. Send it back to the Ninth Circuit, say it's proximate cause, that's the test, you apply it. Did she do it? If not, send it back to her. Good-bye\"),\n",
    " ('MR. EGBERT',\n",
    "  \"Your Honor, to begin with, whether or not we -- we need to make a clarification   with respect to cause generally is a separate issue. 36 But in this case, we submit there's no basis for remanding to the trial court for any further consideration because she already took their causation argument at full face value and adopted 100 percent of their argument and entered the contingent award\"),\n",
    " ('JUSTICE BREYER', 'Can we go back to the Ninth Circuit, too?'),\n",
    " ('MR. EGBERT',\n",
    "  \"Well, there's no -- there's nothing to be left. There's been a waiver of their argument. And -- and her -- this Court could simply say that the contingent award should be in effect\"),\n",
    " ('CHIEF JUSTICE ROBERTS',\n",
    "  \"Well, but I'm not sure that she, in calculating the $700,000, applied an appropriate proximate cause analysis. I mean, those are things like the other defendants and all of that. I mean, I'm not sure that unless you accept the idea -- I understand your argument, well, it would have settled and, therefore, every -- every expense was caused. It seems to me that saying the only ones that were proximately caused -- that were not proximately caused were the $700,000 is a bit of a stretch\"),\n",
    " ('MR. EGBERT',\n",
    "  \"Well, she -- she didn't have to make that determination, Your Honor, because they made the argument. They came forward and said that of this   $2.7 million -- 37\"),\n",
    " ('CHIEF JUSTICE ROBERTS', 'Oh. So your waiver argument'),\n",
    " ('MR. EGBERT', 'The waiver argument. Exactly'),\n",
    " ('CHIEF JUSTICE ROBERTS',\n",
    "  'Which was not -- not -- the Ninth Circuit did not rely on the waiver argument'),\n",
    " ('MR. EGBERT',\n",
    "  \"The -- the Ninth Circuit did not address the contingent award at all and so didn't need to get into whether or not there was a waiver. The Ninth Circuit affirmed on the basis of the larger award. So here what we have is, if -- if we're going to say that the trial court used the wrong standard, then we have to say, well, do we need to send it back to -- to use the right standard? They're -- they're arguing that the right standard was that they should -- she should have used a different causation standard. But they've already made that argument to her and they've told her that if you accept our argument, it adds up to $700,000. She accepted their argument 100 percent\"),\n",
    " ('CHIEF JUSTICE ROBERTS',\n",
    "  \"Well, I -- I suppose the idea would be that in an opinion, we would provide greater guidance on exactly what type of analysis is to be applied. And if the district court wants to go ahead   and say, well, that's exactly what I did, well, then 38 they -- they can take the case from there. But I mean, simply because -- and -- and as I look at the calculation, I understand why the 700,000 would be carved out, but I don't think it can be regarded as the application of proximate cause across the board\"),\n",
    " ('MR. EGBERT',\n",
    "  \"Well, I think it certainly was the application of whatever it was the party was arguing. And -- and my concern is that we're going to give the party a second bite at the apple\"),\n",
    " ('JUSTICE BREYER',\n",
    "  \"Maybe we don't have to. I mean, you -- but I have, she said -- the key words here, the district court said is, she said the case is more likely -- more likely than not would have settled much earlier. When? Then she says, but, of course, the evidence might have made plaintiffs realize they had a winning trial and they would have refused to settle\"),\n",
    " ('MR. EGBERT', 'And then she said --'),\n",
    " ('JUSTICE BREYER', 'What?'),\n",
    " ('MR. EGBERT',\n",
    "  \"ultimately, I conclude that the most appropriate award given these circumstances is to award all of the fees and costs incurred. And the reason for that, Your Honor, was because the entire litigation became a sham, because we were litigating a false set of facts and it -- and she  39 said that it permeated every aspect of the litigation. Those facts aren't -- those findings are subject to great deference and we -- we ought to be deferring to that -- those findings. And she sat through five years of this litigation and then had two years' worth of a sanction proceeding\"),\n",
    " ('CHIEF JUSTICE ROBERTS',\n",
    "  'Well, but you say it was a sham, but I -- and maybe you disagree, but Goodyear in its -- in its reply brief, details the good-faith defenses it had that were unrelated to the Heat Rise test; in other words, about the cause of the accident, whether other parties were involved, that the tire was already damaged, the -- you know, all sorts of other things, including ones that went to the question of damages, which surely would have been pertinent in whether the case would have settled'),\n",
    " ('MR. EGBERT',\n",
    "  \"And that's Goodyear's version of the facts. That's Goodyear's argument about here's the findings that she could have. There's evidence to support these concepts. But those were arguments and facts that were presented. Their version was presented to the trial court. The trial court looked at that version, looked at the contrary version, and made a determination of what she found to be the facts\"),\n",
    " ('CHIEF JUSTICE ROBERTS',\n",
    "  \"Well, and -- and  40 it's hard for me to see how the district court would be in a position, except perhaps in an extraordinary case to -- to make the calculation, oh, the parties would have settled this. I mean, you're involved in this; your friend on the other side is. You know, discussions about whether to settle the case and a lot of different things go into that calculation, and sometimes they they line up and sometimes they don't. But for the district court to -- to make that determination, it seems to me that that would be a very hard calculation. I mean, things like the extent to which your clients need the money, the extent to which your clients -- what their expectations were, what their stomach for going on with more years of litigation is, I don't know how a district court factors in all those considerations\"),\n",
    " ('MR. EGBERT',\n",
    "  \"Well, Your Honor, even if we accepted that -- that factual finding by the district court as merely an indication of how critical and crucial this evidence was to the case, then we can apply that to her other findings unrelated to, well, it would have settled immediately. She also found that this misconduct was so pervasive and -- that it permeated every aspect of the litigation. That's -- that's the basis on which the  41 Ninth Circuit ultimately said that she found that it was a sham. That the entirety of\"),\n",
    " ('JUSTICE GINSBURG',\n",
    "  \"What about -- what about Goodrich's argument that the defect in the tire, all of that was beside the point because the cause of the accident was road debris? Road debris forced this car to swerve off the road\"),\n",
    " ('MR. EGBERT', 'Yes'),\n",
    " ('JUSTICE GINSBURG',\n",
    "  'That would have happened even if you had a 100 percent fit tire'),\n",
    " ('MR. EGBERT',\n",
    "  \"Your Honor, you're -- you're right that they're -- that they make arguments that the district court could have and indeed should have found otherwise. What they're in effect doing is they're saying, hey, there's other facts out here that if viewed in our favor would help us and would contradict what the district court judge found. But just because there are two possible, reasonable findings of fact from the evidence doesn't mean that the trial court judge was clearly erroneous in making her determination. It's her determination. as long as it's not clearly erroneous, her determination should stand, not what Goodyear says was also a possible interpretation of all the facts. And I think that's what that goes to, Your  42 Honor. Here, there are other arguments that they could make. Indeed they did make other arguments. And at the end of a very long, excruciating process, the judge stuck her neck out and made findings of fact. And those findings of fact are not clearly erroneous. And because they're not, they should be the basis on which we make the determination here in this case\"),\n",
    " ('CHIEF JUSTICE ROBERTS',\n",
    "  \"Well, I'm not sure you would call it -- it's not a typical finding of fact to say that based on all of the, you know, issues in terms -- I think the parties would have settled. I find it more likely than not. I mean, it has factual elements, but it's much more of a judgment determination than simply this is what happened or this is what would happen\"),\n",
    " ('MR. EGBERT',\n",
    "  \"Your Honor, I -- I agree that it is an unusual finding, but I do think that it is nevertheless a factual finding. And I -- and I think that if we're going to put the burden on trial court judges to grapple with cases in which the -- we're not talking -- again, we're not talking about something that slowed the train down. We're talking about something that the district court judge found was pretty monumental, went to the very heart of this case. And if we're --  43\"),\n",
    " ('JUSTICE BREYER',\n",
    "  \"And the one key thing, all of that, we know there has been sham litigation in the world. And she says maybe the plaintiffs wouldn't have settled. Who knows? You probably know. But who knows? And the key word she leaves out, and there is some evidence she thought she was doing something different -- namely, the 700,000 -- is that she applied a proximate cause standard. She doesn't say she's doing that. There is some indication to the contrary. So to be -- I'd just repeat myself that we don't have to decide all those things but for the standard. And you go back to the Ninth Circuit, one extra proceeding, and then you make your -- your argument right there exactly what you're saying and say, well, she did apply the right standard. And even if she didn't, we lose the 700,000\"),\n",
    " ('MR. EGBERT',\n",
    "  \"Well, Your Honor, that is certainly a possible procedure, but we see no need to even send it back to the Ninth Circuit to further embroil the plaintiffs in what has already been an extraordinary long process. Here, I think that the easiest part of this case is that the -- Goodyear had an opportunity to make its causation argument. It did. And it argued to the tune of only 700,000. What can possibly be served by  44 not saying that they're bound by at least that part of it? Even if we're not going to stand behind the -- the broader finding, the more, the more -- the more aggressive finding by the district court judge\"),\n",
    " ('JUSTICE SOTOMAYOR',\n",
    "  \"Assuming the bad faith that the district court found -- not making a judgment, because that hasn't been proffered before us. But if, in fact, you were subjected to the bad faith the Court found, then sending it back just costs you more money; right?\"),\n",
    " ('MR. EGBERT',\n",
    "  \"That's -- that's all that it accomplishes from my perspective, Your Honor. It just further delays and costs more money for my clients, who, I believe, have already been adequately victimized through this process\"),\n",
    " ('JUSTICE GINSBURG',\n",
    "  'But the money -- and this is an award of counsel fees, so the money would go to counsel, not the plaintiff?'),\n",
    " ('MR. EGBERT',\n",
    "  \"Your Honor, that's -- that's outside the record, but I can tell you that it's that's not how it works under the agreement with -- with the client. We would ask the Court to make -- to take very careful look at not only the aspect of the settlement piece of it that Justice Breyer has -- has  45 focused on, but it's also an alternative finding. That was one of her two findings that allowed her to -- to award the entirety of the fees and costs incurred. The other one is that the misconduct was so severe and pervasive that it permeated every aspect of the litigation. Now, that's not a -- a speculation as to who would settle or not. That's a distinct finding\"),\n",
    " ('JUSTICE ALITO',\n",
    "  'What does that mean? Is that different from saying that it caused everything? To say that it permeated everything, is that the same thing as saying that it -- it caused everything?'),\n",
    " ('MR. EGBERT',\n",
    "  \"I -- Your Honor, I -- I think it is. I think that's what the district court judge meant. If you look at the entirety of her 66-page decision, I think that's what she was getting to, that this was so significant in the context of these specific facts that it -- it changed everything. We -- in -- you know, they talk about, well, what -- what would you put on your list of what we can recover? Well, every deposition, we asked the wrong questions. Every motion, we made the wrong argument. Everything -- every effort that was done was affected by\"),\n",
    " ('JUSTICE BREYER',\n",
    "  \"That's the question, then. That's the legal question. It's very suitable for us. If, in fact, it is the case that a district court would  46 not have awarded $15 or million, whatever it is, this amount, it would have found no causation or would not have found causation and would not have awarded the fee but for the fact it was absolutely egregious, does that permit the district court to award the fee? Now, that is a pure legal question. And where -- where do you stand on that? I mean, that, it seems, on the basis of the precedent -- Rule 11, the mineworkers, and so forth -- the answer to that question is no, unless you're going to criminal proceedings. Now, where do you stand on that?\"),\n",
    " ('MR. EGBERT', 'I agree 100 percent, Your Honor, that'),\n",
    " ('JUSTICE BREYER',\n",
    "  \"No, but I've asked the question. I haven't -- I mean, which side?\"),\n",
    " ('MR. EGBERT',\n",
    "  'I stand on the -- the side that says that it does have to be compensatory. Simply cannot say, well, this was very bad'),\n",
    " ('JUSTICE BREYER', 'Okay'),\n",
    " ('MR. EGBERT',\n",
    "  \"There has to be causation. And our position had -- I think we read both the district court decision and the Ninth Circuit decision as a whole. Admittedly, there -- there are lines that one can pull out that create confusion, particularly in the district court decision, because she was looking at some  47 Ninth Circuit decisions that created confusion for her. But at the end, both of them acknowledged that there's a causation requirement, and we do not shy from that. We -- because you would then be in the realm of having to use criminal -- the heightened criminal due process protections. But that -- that is not our situation. We believe that the two alternative findings of fact are sufficient for the award of all of the fees and costs that were incurred. And, again, when I say all of them, I'm talking about from a -- a point early on in the litigation, not from the very beginning, but early on throughout the end because the Court and the Ninth Circuit agreed that the entirety of the litigation was a sham. Yes, there -- there were other things that were done in terms of medical depositions, but they were all done in the context of an empty charade. And when you do things in the context of an empty charade, they're still empty. And so we would -- we believe that the district court did not abuse her discretion in making those findings and that they should be affirmed. Thank you\"),\n",
    " ('CHIEF JUSTICE ROBERTS',\n",
    "  'Thank you, counsel. Mr. Bergeron, you have four minutes  remaining. 48'),\n",
    " ('MR. BERGERON',\n",
    "  \"Thank you. The district court did not apply the result of or cause by test that Mr. Egbert just articulated. It never went down that path, and the -- what they seem to be arguing in their brief was that there is a distinction between, as Justice Breyer was noting, the truly egregious from the less egregious, which was how the district court tried to draw the line. As we pointed out, that's not an effective way of drawing the line. You could never have a test where you would say, well, this is truly egregious; so we obviate the need for causation. This is less egregious, so we have to have more tailoring. And they don't provide a satisfactory response to that. On the point about what we argued at the Ninth Circuit, we did make the point -- we argued that the district court's entire determination was not based on the correct legal standards, so we asked the whole thing to be remanded to the district court\"),\n",
    " ('JUSTICE SOTOMAYOR',\n",
    "  \"There is something -- I -- I do understand that. But one argument they have made that -- that I had not thought of the case in,   Justice Breyer said, we don't know what would have 49 happened. That's what the district court said. Could have settled right away. It could have gone to trial for more money. His argument that -- which he was really saying was this was a sham litigation, because with the proper information, everything related to your client, at least, would not have happened the way it did. Things would have been a very different litigation. From that moment on, whether through settlement or not, you wasted their time and the court's time, because everything was infected by the failure to give the Heat Rise test. Why isn't that put forth, if you --\"),\n",
    " ('MR. BERGERON', 'Well --'),\n",
    " ('JUSTICE SOTOMAYOR',\n",
    "  \"He used the analogy of you derailed the train to take another route it didn't have to travel\"),\n",
    " ('MR. BERGERON', 'Right. Well, the --'),\n",
    " ('JUSTICE SOTOMAYOR', \"So why isn't the travel on that route compensable?\"),\n",
    " ('MR. BERGERON',\n",
    "  \"Well, the problem with that, Your Honor, is that was the Ninth Circuit's gloss on what the district court did. The district court never made any finding that there was sham litigation here.   In fact, the district court expressly declined to 50 resolve, you know, how significant this test was at the end of the day. And if you look at the district court's findings about this misconduct, they are all related to this test. And this test is one component of the design defect claim. There were other claims that did not survive summary judgment, failure to warn, manufacturing defect. Those were all unrelated to this test. So there is a lot of stuff in the litigation. Choice of law debates. I mean, pursuit of other defendants. There are so many things that happened independent of this Heat Rise test that were not a waste and would not need to be redone if you presumed that the case -- you know, the test came out on the day before trial and you had to figure out well, what would you need to redo at that point. And I think this gets back to --\"),\n",
    " ('JUSTICE BREYER',\n",
    "  \"She did say more than not. She did say more -- this case, more likely than not, would have settled much earlier. And you'll be arguing about she used the wrong word earlier. They are not arguing about that apparently. So more likely than not, it would have settled. Therefore costs that do, in fact, flow from the fact that it didn't settle are costs that you have   to pay. It sounds like a causation standard. 51\"),\n",
    " ('MR. BERGERON',\n",
    "  \"But, Justice Breyer, we disagree that it is a causation standard. In fact, for a lot of the reasons the Chief Justice raised earlier. I mean, there is so many issues that go into whether or not you have a settlement and just because there was -- the district court believed that they may have settled earlier, but, again, the court didn't say when we would have settled earlier and --\"),\n",
    " ('JUSTICE BREYER', 'You make that an issue below?'),\n",
    " ('MR. BERGERON',\n",
    "  'Yes, we did. I mean -- and obviously Judge Watford agreed with us in the Ninth Circuit because we made that point -- made that point there, as well. One of the other things I want to emphasize is that the -- part of the reason we need a meaningful causation test is to bring this in line with -- the inherent authority in line with the other sanction regimes so that courts cannot basically avoid the requirements of the other statutory and rule-based sanction regimes by a liberalization of the causation requirement under inherent authority. A good example of this is Rule 37. Rule 37 governs production of documents and the failure to  52 produce documents. That could have been something the district court relied on here, and there is a causation requirement. So the district court should not be able to avoid Rule 37, go to inherent authority and get a broader sanctioning power. So for all those reasons, Your Honors, we respectfully request reversal'),\n",
    " ('CHIEF JUSTICE ROBERTS', 'Thank you, counsel. The case is submitted')]"
   ]
  },
  {
   "cell_type": "code",
   "execution_count": null,
   "metadata": {},
   "outputs": [],
   "source": [
    "transcript"
   ]
  },
  {
   "cell_type": "code",
   "execution_count": null,
   "metadata": {},
   "outputs": [],
   "source": [
    "\n",
    "import pandas as pd\n",
    "col_names = ['speaker','words']\n",
    "df = pd.DataFrame.from_records(transcript, columns=col_names)\n",
    "df.head()"
   ]
  },
  {
   "cell_type": "code",
   "execution_count": null,
   "metadata": {
    "collapsed": true
   },
   "outputs": [],
   "source": [
    "df['docket'] = \"15-1406\""
   ]
  },
  {
   "cell_type": "code",
   "execution_count": null,
   "metadata": {},
   "outputs": [],
   "source": [
    "df.head()"
   ]
  },
  {
   "cell_type": "code",
   "execution_count": null,
   "metadata": {},
   "outputs": [],
   "source": [
    "df.groupby('speaker')['words'].nunique()\n"
   ]
  },
  {
   "cell_type": "markdown",
   "metadata": {},
   "source": [
    "Doing word frequency search using Counter"
   ]
  },
  {
   "cell_type": "code",
   "execution_count": null,
   "metadata": {
    "collapsed": true
   },
   "outputs": [],
   "source": [
    "from collections import Counter\n",
    "import re\n",
    "#https://docs.python.org/2/library/collections.html\n",
    "wordcount = df.groupby([\"speaker\"]).sum().applymap(lambda words: Counter(re.findall(r\"\\b\\w{6,}\\b\",words.lower())).most_common())\n"
   ]
  },
  {
   "cell_type": "code",
   "execution_count": null,
   "metadata": {
    "collapsed": true
   },
   "outputs": [],
   "source": []
  },
  {
   "cell_type": "code",
   "execution_count": null,
   "metadata": {},
   "outputs": [],
   "source": [
    "wordcount"
   ]
  },
  {
   "cell_type": "code",
   "execution_count": null,
   "metadata": {
    "collapsed": true
   },
   "outputs": [],
   "source": []
  },
  {
   "cell_type": "markdown",
   "metadata": {},
   "source": [
    "Looping through filenames: local, and up in the cloud\n",
    "\n",
    "See: Group_Project_Options.ipynb\n",
    "\n",
    "Doing a word search the old-fashioned way (and the easy Python way):\n",
    "\n",
    "See: Regex-Data-Map\n",
    "\n",
    "Also see that notebook for phrase searching, and doing joins using dictionaries--which I really think everyone should understand.\n",
    "\n",
    "Regexs: Beware of `.*`  it is dangerous and humbling\n",
    "\n",
    "HTML output\n",
    "\n",
    "What else do you not understand?\n"
   ]
  }
 ],
 "metadata": {
  "kernelspec": {
   "display_name": "Python 3",
   "language": "python",
   "name": "python3"
  },
  "language_info": {
   "codemirror_mode": {
    "name": "ipython",
    "version": 3
   },
   "file_extension": ".py",
   "mimetype": "text/x-python",
   "name": "python",
   "nbconvert_exporter": "python",
   "pygments_lexer": "ipython3",
   "version": "3.6.1"
  }
 },
 "nbformat": 4,
 "nbformat_minor": 2
}
