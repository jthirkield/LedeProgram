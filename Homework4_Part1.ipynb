{
 "cells": [
  {
   "cell_type": "markdown",
   "metadata": {},
   "source": [
    "## homework 4: part one: regular expressions\n",
    "\n",
    "Here we are just going to do to basic regular expressions and see if you can get the right results. We'll be searching two texts, the first is a list of United States Senators, and the second is \"The Waste Land\" by T. S. Elliot. All you need to do throughout is modify the regular expression that is defined in the my_regex variable.\n"
   ]
  },
  {
   "cell_type": "code",
   "execution_count": 3,
   "metadata": {
    "collapsed": true
   },
   "outputs": [],
   "source": [
    "senators = '''\n",
    "Alexander, Lamar - (R - TN) Class II 455 Dirksen Senate Office Building Washington DC 20510(202) 224-4944 Contact: www.alexander.senate.gov/public/index.cfm?p=Email\n",
    "Baldwin, Tammy - (D - WI) Class I 709 Hart Senate Office Building Washington DC 20510(202) 224-5653 Contact: www.baldwin.senate.gov/feedback\n",
    "Barrasso, John - (R - WY) Class I 307 Dirksen Senate Office Building Washington DC 20510(202) 224-6441 Contact: www.barrasso.senate.gov/public/index.cfm/contact-form\n",
    "Bennet, Michael F. - (D - CO) Class III 261 Russell Senate Office Building Washington DC 20510(202) 224-5852 Contact: www.bennet.senate.gov/?p=contact\n",
    "Blumenthal, Richard - (D - CT) Class III 706 Hart Senate Office Building Washington DC 20510(202) 224-2823 Contact: www.blumenthal.senate.gov/contact/\n",
    "Blunt, Roy - (R - MO) Class III 260 Russell Senate Office Building Washington DC 20510(202) 224-5721 Contact: www.blunt.senate.gov/public/index.cfm/contact-roy\n",
    "Booker, Cory A. - (D - NJ) Class II 359 Dirksen Senate Office Building Washington DC 20510(202) 224-3224 Contact: www.booker.senate.gov/?p=contact\n",
    "Boozman, John - (R - AR) Class III 141 Hart Senate Office Building Washington DC 20510(202) 224-4843 Contact: www.boozman.senate.gov/public/index.cfm/contact\n",
    "Brown, Sherrod - (D - OH) Class I 713 Hart Senate Office Building Washington DC 20510(202) 224-2315 Contact: www.brown.senate.gov/contact/\n",
    "Burr, Richard - (R - NC) Class III 217 Russell Senate Office Building Washington DC 20510(202) 224-3154 Contact: www.burr.senate.gov/contact/email\n",
    "Cantwell, Maria - (D - WA) Class I 511 Hart Senate Office Building Washington DC 20510(202) 224-3441 Contact: www.cantwell.senate.gov/public/index.cfm/email-maria\n",
    "Capito, Shelley Moore - (R - WV) Class II 172 Russell Senate Office Building Washington DC 20510(202) 224-6472 Contact: www.capito.senate.gov/contact/contact-shelley\n",
    "Cardin, Benjamin L. - (D - MD) Class I 509 Hart Senate Office Building Washington DC 20510(202) 224-4524 Contact: www.cardin.senate.gov/contact/\n",
    "Carper, Thomas R. - (D - DE) Class I 513 Hart Senate Office Building Washington DC 20510(202) 224-2441 Contact: www.carper.senate.gov/public/index.cfm/email-senator-carper\n",
    "Casey, Robert P., Jr. - (D - PA) Class I 393 Russell Senate Office Building Washington DC 20510(202) 224-6324 Contact: www.casey.senate.gov/contact/\n",
    "Cassidy, Bill - (R - LA) Class II 520 Hart Senate Office Building Washington DC 20510(202) 224-5824 Contact: www.cassidy.senate.gov/contact\n",
    "Cochran, Thad - (R - MS) Class II 113 Dirksen Senate Office Building Washington DC 20510(202) 224-5054 Contact: www.cochran.senate.gov/public/index.cfm/email-me\n",
    "Collins, Susan M. - (R - ME) Class II 413 Dirksen Senate Office Building Washington DC 20510(202) 224-2523 Contact: www.collins.senate.gov/contact\n",
    "Coons, Christopher A. - (D - DE) Class II 127A Russell Senate Office Building Washington DC 20510(202) 224-5042 Contact: www.coons.senate.gov/contact\n",
    "Corker, Bob - (R - TN) Class I 425 Dirksen Senate Office Building Washington DC 20510(202) 224-3344 Contact: www.corker.senate.gov/public/index.cfm/emailme\n",
    "Cornyn, John - (R - TX) Class II 517 Hart Senate Office Building Washington DC 20510(202) 224-2934 Contact: www.cornyn.senate.gov/contact\n",
    "Cortez Masto, Catherine - (D - NV) Class III 204 Russell Senate Office Building Washington DC 20510(202) 224-3542 Contact: www.cortezmasto.senate.gov/content/contact-senator\n",
    "Cotton, Tom - (R - AR) Class II 124 Russell Senate Office Building Washington DC 20510(202) 224-2353 Contact: www.cotton.senate.gov/?p=contact\n",
    "Crapo, Mike - (R - ID) Class III 239 Dirksen Senate Office Building Washington DC 20510(202) 224-6142 Contact: www.crapo.senate.gov/contact\n",
    "Cruz, Ted - (R - TX) Class I 404 Russell Senate Office Building Washington DC 20510(202) 224-5922 Contact: www.cruz.senate.gov/?p=email_senator\n",
    "Daines, Steve - (R - MT) Class II 320 Hart Senate Office Building Washington DC 20510(202) 224-2651 Contact: www.daines.senate.gov/connect/email-steve\n",
    "Donnelly, Joe - (D - IN) Class I 720 Hart Senate Office Building Washington DC 20510(202) 224-4814 Contact: www.donnelly.senate.gov/contact/email-joe\n",
    "Duckworth, Tammy - (D - IL) Class III 524 Hart Senate Office Building Washington DC 20510(202) 224-2854 Contact: www.duckworth.senate.gov/content/contact-senator\n",
    "Durbin, Richard J. - (D - IL) Class II 711 Hart Senate Office Building Washington DC 20510(202) 224-2152 Contact: www.durbin.senate.gov/contact/\n",
    "Enzi, Michael B. - (R - WY) Class II 379A Russell Senate Office Building Washington DC 20510(202) 224-3424 Contact: www.enzi.senate.gov/public/index.cfm/contact?p=e-mail-sen...\n",
    "Ernst, Joni - (R - IA) Class II 111 Russell Senate Office Building Washington DC 20510(202) 224-3254 Contact: www.ernst.senate.gov/public/index.cfm/contact\n",
    "Feinstein, Dianne - (D - CA) Class I 331 Hart Senate Office Building Washington DC 20510(202) 224-3841 Contact: www.feinstein.senate.gov/public/index.cfm/e-mail-me\n",
    "Fischer, Deb - (R - NE) Class I 454 Russell Senate Office Building Washington DC 20510(202) 224-6551 Contact: www.fischer.senate.gov/public/index.cfm/contact\n",
    "Flake, Jeff - (R - AZ) Class I 413 Russell Senate Office Building Washington DC 20510(202) 224-4521 Contact: www.flake.senate.gov/public/index.cfm/contact-jeff\n",
    "Franken, Al - (D - MN) Class II 309 Hart Senate Office Building Washington DC 20510(202) 224-5641 Contact: www.franken.senate.gov/?p=contact\n",
    "Gardner, Cory - (R - CO) Class II 354 Russell Senate Office Building Washington DC 20510(202) 224-5941 Contact: www.gardner.senate.gov/contact-cory/email-cory\n",
    "Gillibrand, Kirsten E. - (D - NY) Class I 478 Russell Senate Office Building Washington DC 20510(202) 224-4451 Contact: www.gillibrand.senate.gov/contact/\n",
    "Graham, Lindsey - (R - SC) Class II 290 Russell Senate Office Building Washington DC 20510(202) 224-5972 Contact: www.lgraham.senate.gov/public/index.cfm/e-mail-senator-gr...\n",
    "Grassley, Chuck - (R - IA) Class III 135 Hart Senate Office Building Washington DC 20510(202) 224-3744 Contact: www.grassley.senate.gov/contact\n",
    "Harris, Kamala D. - (D - CA) Class III 112 Hart Senate Office Building Washington DC 20510(202) 224-3553 Contact: www.harris.senate.gov/content/contact-senator\n",
    "Hassan, Margaret Wood - (D - NH) Class III 330 Hart Senate Office Building Washington DC 20510(202) 224-3324 Contact: www.hassan.senate.gov/content/contact-senator\n",
    "Hatch, Orrin G. - (R - UT) Class I 104 Hart Senate Office Building Washington DC 20510(202) 224-5251 Contact: www.hatch.senate.gov/public/index.cfm/contact?p=Email-Orrin\n",
    "Heinrich, Martin - (D - NM) Class I 303 Hart Senate Office Building Washington DC 20510(202) 224-5521 Contact: www.heinrich.senate.gov/contact\n",
    "Heitkamp, Heidi - (D - ND) Class I 516 Hart Senate Office Building Washington DC 20510(202) 224-2043 Contact: www.heitkamp.senate.gov/public/index.cfm/contact\n",
    "Heller, Dean - (R - NV) Class I 324 Hart Senate Office Building Washington DC 20510(202) 224-6244 Contact: www.heller.senate.gov/public/index.cfm/contact-form\n",
    "Hirono, Mazie K. - (D - HI) Class I 730 Hart Senate Office Building Washington DC 20510(202) 224-6361 Contact: www.hirono.senate.gov/contact\n",
    "Hoeven, John - (R - ND) Class III 338 Russell Senate Office Building Washington DC 20510(202) 224-2551 Contact: www.hoeven.senate.gov/public/index.cfm/email-the-senator\n",
    "Inhofe, James M. - (R - OK) Class II 205 Russell Senate Office Building Washington DC 20510(202) 224-4721 Contact: www.inhofe.senate.gov/contact\n",
    "Isakson, Johnny - (R - GA) Class III 131 Russell Senate Office Building Washington DC 20510(202) 224-3643 Contact: www.isakson.senate.gov/public/index.cfm/email-me\n",
    "Johnson, Ron - (R - WI) Class III 328 Hart Senate Office Building Washington DC 20510(202) 224-5323 Contact: www.ronjohnson.senate.gov/public/index.cfm/email-the-sena...\n",
    "Kaine, Tim - (D - VA) Class I 231 Russell Senate Office Building Washington DC 20510(202) 224-4024 Contact: www.kaine.senate.gov/contact\n",
    "Kennedy, John - (R - LA) Class III 383 Russell Senate Office Building Washington DC 20510(202) 224-4623 Contact: www.kennedy.senate.gov/content/contact-senator\n",
    "King, Angus S., Jr. - (I - ME) Class I 133 Hart Senate Office Building Washington DC 20510(202) 224-5344 Contact: www.king.senate.gov/contact\n",
    "Klobuchar, Amy - (D - MN) Class I 302 Hart Senate Office Building Washington DC 20510(202) 224-3244 Contact: www.klobuchar.senate.gov/public/index.cfm/contact\n",
    "Lankford, James - (R - OK) Class III 316 Hart Senate Office Building Washington DC 20510(202) 224-5754 Contact: www.lankford.senate.gov/contact/email\n",
    "Leahy, Patrick J. - (D - VT) Class III 437 Russell Senate Office Building Washington DC 20510(202) 224-4242 Contact: www.leahy.senate.gov/contact/\n",
    "Lee, Mike - (R - UT) Class III 361A Russell Senate Office Building Washington DC 20510(202) 224-5444 Contact: www.lee.senate.gov/public/index.cfm/contact\n",
    "Manchin, Joe, III - (D - WV) Class I 306 Hart Senate Office Building Washington DC 20510(202) 224-3954 Contact: www.manchin.senate.gov/public/index.cfm/contact-form\n",
    "Markey, Edward J. - (D - MA) Class II 255 Dirksen Senate Office Building Washington DC 20510(202) 224-2742 Contact: www.markey.senate.gov/contact\n",
    "McCain, John - (R - AZ) Class III 218 Russell Senate Office Building Washington DC 20510(202) 224-2235 Contact: www.mccain.senate.gov/public/index.cfm/contact-form\n",
    "McCaskill, Claire - (D - MO) Class I 503 Hart Senate Office Building Washington DC 20510(202) 224-6154 Contact: www.mccaskill.senate.gov/contact\n",
    "McConnell, Mitch - (R - KY) Class II 317 Russell Senate Office Building Washington DC 20510(202) 224-2541 Contact: www.mcconnell.senate.gov/public/index.cfm?p=contact\n",
    "Menendez, Robert - (D - NJ) Class I 528 Hart Senate Office Building Washington DC 20510(202) 224-4744 Contact: www.menendez.senate.gov/contact\n",
    "Merkley, Jeff - (D - OR) Class II 313 Hart Senate Office Building Washington DC 20510(202) 224-3753 Contact: www.merkley.senate.gov/contact/\n",
    "Moran, Jerry - (R - KS) Class III 521 Dirksen Senate Office Building Washington DC 20510(202) 224-6521 Contact: www.moran.senate.gov/public/index.cfm/e-mail-jerry\n",
    "Murkowski, Lisa - (R - AK) Class III 522 Hart Senate Office Building Washington DC 20510(202) 224-6665 Contact: www.murkowski.senate.gov/public/index.cfm/contact\n",
    "Murphy, Christopher - (D - CT) Class I 136 Hart Senate Office Building Washington DC 20510(202) 224-4041 Contact: www.murphy.senate.gov/contact\n",
    "Murray, Patty - (D - WA) Class III 154 Russell Senate Office Building Washington DC 20510(202) 224-2621 Contact: www.murray.senate.gov/public/index.cfm/contactme\n",
    "Nelson, Bill - (D - FL) Class I 716 Hart Senate Office Building Washington DC 20510(202) 224-5274 Contact: www.billnelson.senate.gov/contact-bill\n",
    "Paul, Rand - (R - KY) Class III 167 Russell Senate Office Building Washington DC 20510(202) 224-4343 Contact: www.paul.senate.gov/connect/email-rand\n",
    "Perdue, David - (R - GA) Class II 455 Russell Senate Office Building Washington DC 20510(202) 224-3521 Contact: www.perdue.senate.gov/connect/email\n",
    "Peters, Gary C. - (D - MI) Class II 724 Hart Senate Office Building Washington DC 20510(202) 224-6221 Contact: www.peters.senate.gov/contact/email-gary\n",
    "Portman, Rob - (R - OH) Class III 448 Russell Senate Office Building Washington DC 20510(202) 224-3353 Contact: www.portman.senate.gov/public/index.cfm/contact?p=contact...\n",
    "Reed, Jack - (D - RI) Class II 728 Hart Senate Office Building Washington DC 20510(202) 224-4642 Contact: www.reed.senate.gov/contact/\n",
    "Risch, James E. - (R - ID) Class II 483 Russell Senate Office Building Washington DC 20510(202) 224-2752 Contact: www.risch.senate.gov/public/index.cfm?p=Email\n",
    "Roberts, Pat - (R - KS) Class II 109 Hart Senate Office Building Washington DC 20510(202) 224-4774 Contact: www.roberts.senate.gov/public/?p=EmailPat\n",
    "Rounds, Mike - (R - SD) Class II 502 Hart Senate Office Building Washington DC 20510(202) 224-5842 Contact: www.rounds.senate.gov/contact/email-mike\n",
    "Rubio, Marco - (R - FL) Class III 284 Russell Senate Office Building Washington DC 20510(202) 224-3041 Contact: www.rubio.senate.gov/public/index.cfm/contact\n",
    "Sanders, Bernard - (I - VT) Class I 332 Dirksen Senate Office Building Washington DC 20510(202) 224-5141 Contact: www.sanders.senate.gov/contact/\n",
    "Sasse, Ben - (R - NE) Class II 136 Russell Senate Office Building Washington DC 20510(202) 224-4224 Contact: www.sasse.senate.gov/public/index.cfm/email-ben\n",
    "Schatz, Brian - (D - HI) Class III 722 Hart Senate Office Building Washington DC 20510(202) 224-3934 Contact: www.schatz.senate.gov/contact\n",
    "Schumer, Charles E. - (D - NY) Class III 322 Hart Senate Office Building Washington DC 20510(202) 224-6542 Contact: www.schumer.senate.gov/contact/email-chuck\n",
    "Scott, Tim - (R - SC) Class III 717 Hart Senate Office Building Washington DC 20510(202) 224-6121 Contact: www.scott.senate.gov/contact/email-me\n",
    "Shaheen, Jeanne - (D - NH) Class II 506 Hart Senate Office Building Washington DC 20510(202) 224-2841 Contact: www.shaheen.senate.gov/contact/contact-jeanne\n",
    "Shelby, Richard C. - (R - AL) Class III 304 Russell Senate Office Building Washington DC 20510(202) 224-5744 Contact: www.shelby.senate.gov/public/index.cfm/emailsenatorshelby\n",
    "Stabenow, Debbie - (D - MI) Class I 731 Hart Senate Office Building Washington DC 20510(202) 224-4822 Contact: www.stabenow.senate.gov/contact\n",
    "Strange, Luther - (R - AL) Class II 326 Russell Senate Office Building Washington DC 20510(202) 224-4124 Contact: www.strange.senate.gov/content/contact-senator\n",
    "Sullivan, Dan - (R - AK) Class II 702 Hart Senate Office Building Washington DC 20510(202) 224-3004 Contact: www.sullivan.senate.gov/contact/email\n",
    "Tester, Jon - (D - MT) Class I 311 Hart Senate Office Building Washington DC 20510(202) 224-2644 Contact: www.tester.senate.gov/?p=email_senator\n",
    "Thune, John - (R - SD) Class III 511 Dirksen Senate Office Building Washington DC 20510(202) 224-2321 Contact: www.thune.senate.gov/public/index.cfm/contact\n",
    "Tillis, Thom - (R - NC) Class II 185 Dirksen Senate Office Building Washington DC 20510(202) 224-6342 Contact: www.tillis.senate.gov/public/index.cfm/email-me\n",
    "Toomey, Patrick J. - (R - PA) Class III 248 Russell Senate Office Building Washington DC 20510(202) 224-4254 Contact: www.toomey.senate.gov/?p=contact\n",
    "Udall, Tom - (D - NM) Class II 531 Hart Senate Office Building Washington DC 20510(202) 224-6621 Contact: www.tomudall.senate.gov/?p=contact\n",
    "Van Hollen, Chris - (D - MD) Class III 110 Hart Senate Office Building Washington DC 20510(202) 224-4654 Contact: www.vanhollen.senate.gov/content/contact-senator\n",
    "Warner, Mark R. - (D - VA) Class II 703 Hart Senate Office Building Washington DC 20510(202) 224-2023 Contact: www.warner.senate.gov/public/index.cfm?p=Contact\n",
    "Warren, Elizabeth - (D - MA) Class I 317 Hart Senate Office Building Washington DC 20510(202) 224-4543 Contact: www.warren.senate.gov/?p=email_senator\n",
    "Whitehouse, Sheldon - (D - RI) Class I 530 Hart Senate Office Building Washington DC 20510(202) 224-2921 Contact: www.whitehouse.senate.gov/contact/email-sheldon\n",
    "Wicker, Roger F. - (R - MS) Class I 555 Dirksen Senate Office Building Washington DC 20510(202) 224-6253 Contact: www.wicker.senate.gov/public/index.cfm/contact\n",
    "Wyden, Ron - (D - OR) Class III 221 Dirksen Senate Office Building Washington DC 20510(202) 224-5244 Contact: www.wyden.senate.gov/contact/\n",
    "Young, Todd - (R - IN) Class III 400 Russell Senate Office Building Washington DC 20510(202) 224-5623 Contact: www.young.senate.gov/content/contact-senator\n",
    "'''"
   ]
  },
  {
   "cell_type": "code",
   "execution_count": 4,
   "metadata": {
    "collapsed": true
   },
   "outputs": [],
   "source": [
    "#run this and the cell below!\n",
    "import re"
   ]
  },
  {
   "cell_type": "code",
   "execution_count": 5,
   "metadata": {},
   "outputs": [
    {
     "data": {
      "text/plain": [
       "['',\n",
       " 'Alexander, Lamar - (R - TN) Class II 455 Dirksen Senate Office Building Washington DC 20510(202) 224-4944 Contact: www.alexander.senate.gov/public/index.cfm?p=Email',\n",
       " 'Baldwin, Tammy - (D - WI) Class I 709 Hart Senate Office Building Washington DC 20510(202) 224-5653 Contact: www.baldwin.senate.gov/feedback',\n",
       " 'Barrasso, John - (R - WY) Class I 307 Dirksen Senate Office Building Washington DC 20510(202) 224-6441 Contact: www.barrasso.senate.gov/public/index.cfm/contact-form',\n",
       " 'Bennet, Michael F. - (D - CO) Class III 261 Russell Senate Office Building Washington DC 20510(202) 224-5852 Contact: www.bennet.senate.gov/?p=contact',\n",
       " 'Blumenthal, Richard - (D - CT) Class III 706 Hart Senate Office Building Washington DC 20510(202) 224-2823 Contact: www.blumenthal.senate.gov/contact/',\n",
       " 'Blunt, Roy - (R - MO) Class III 260 Russell Senate Office Building Washington DC 20510(202) 224-5721 Contact: www.blunt.senate.gov/public/index.cfm/contact-roy',\n",
       " 'Booker, Cory A. - (D - NJ) Class II 359 Dirksen Senate Office Building Washington DC 20510(202) 224-3224 Contact: www.booker.senate.gov/?p=contact',\n",
       " 'Boozman, John - (R - AR) Class III 141 Hart Senate Office Building Washington DC 20510(202) 224-4843 Contact: www.boozman.senate.gov/public/index.cfm/contact',\n",
       " 'Brown, Sherrod - (D - OH) Class I 713 Hart Senate Office Building Washington DC 20510(202) 224-2315 Contact: www.brown.senate.gov/contact/',\n",
       " 'Burr, Richard - (R - NC) Class III 217 Russell Senate Office Building Washington DC 20510(202) 224-3154 Contact: www.burr.senate.gov/contact/email',\n",
       " 'Cantwell, Maria - (D - WA) Class I 511 Hart Senate Office Building Washington DC 20510(202) 224-3441 Contact: www.cantwell.senate.gov/public/index.cfm/email-maria',\n",
       " 'Capito, Shelley Moore - (R - WV) Class II 172 Russell Senate Office Building Washington DC 20510(202) 224-6472 Contact: www.capito.senate.gov/contact/contact-shelley',\n",
       " 'Cardin, Benjamin L. - (D - MD) Class I 509 Hart Senate Office Building Washington DC 20510(202) 224-4524 Contact: www.cardin.senate.gov/contact/',\n",
       " 'Carper, Thomas R. - (D - DE) Class I 513 Hart Senate Office Building Washington DC 20510(202) 224-2441 Contact: www.carper.senate.gov/public/index.cfm/email-senator-carper',\n",
       " 'Casey, Robert P., Jr. - (D - PA) Class I 393 Russell Senate Office Building Washington DC 20510(202) 224-6324 Contact: www.casey.senate.gov/contact/',\n",
       " 'Cassidy, Bill - (R - LA) Class II 520 Hart Senate Office Building Washington DC 20510(202) 224-5824 Contact: www.cassidy.senate.gov/contact',\n",
       " 'Cochran, Thad - (R - MS) Class II 113 Dirksen Senate Office Building Washington DC 20510(202) 224-5054 Contact: www.cochran.senate.gov/public/index.cfm/email-me',\n",
       " 'Collins, Susan M. - (R - ME) Class II 413 Dirksen Senate Office Building Washington DC 20510(202) 224-2523 Contact: www.collins.senate.gov/contact',\n",
       " 'Coons, Christopher A. - (D - DE) Class II 127A Russell Senate Office Building Washington DC 20510(202) 224-5042 Contact: www.coons.senate.gov/contact',\n",
       " 'Corker, Bob - (R - TN) Class I 425 Dirksen Senate Office Building Washington DC 20510(202) 224-3344 Contact: www.corker.senate.gov/public/index.cfm/emailme',\n",
       " 'Cornyn, John - (R - TX) Class II 517 Hart Senate Office Building Washington DC 20510(202) 224-2934 Contact: www.cornyn.senate.gov/contact',\n",
       " 'Cortez Masto, Catherine - (D - NV) Class III 204 Russell Senate Office Building Washington DC 20510(202) 224-3542 Contact: www.cortezmasto.senate.gov/content/contact-senator',\n",
       " 'Cotton, Tom - (R - AR) Class II 124 Russell Senate Office Building Washington DC 20510(202) 224-2353 Contact: www.cotton.senate.gov/?p=contact',\n",
       " 'Crapo, Mike - (R - ID) Class III 239 Dirksen Senate Office Building Washington DC 20510(202) 224-6142 Contact: www.crapo.senate.gov/contact',\n",
       " 'Cruz, Ted - (R - TX) Class I 404 Russell Senate Office Building Washington DC 20510(202) 224-5922 Contact: www.cruz.senate.gov/?p=email_senator',\n",
       " 'Daines, Steve - (R - MT) Class II 320 Hart Senate Office Building Washington DC 20510(202) 224-2651 Contact: www.daines.senate.gov/connect/email-steve',\n",
       " 'Donnelly, Joe - (D - IN) Class I 720 Hart Senate Office Building Washington DC 20510(202) 224-4814 Contact: www.donnelly.senate.gov/contact/email-joe',\n",
       " 'Duckworth, Tammy - (D - IL) Class III 524 Hart Senate Office Building Washington DC 20510(202) 224-2854 Contact: www.duckworth.senate.gov/content/contact-senator',\n",
       " 'Durbin, Richard J. - (D - IL) Class II 711 Hart Senate Office Building Washington DC 20510(202) 224-2152 Contact: www.durbin.senate.gov/contact/',\n",
       " 'Enzi, Michael B. - (R - WY) Class II 379A Russell Senate Office Building Washington DC 20510(202) 224-3424 Contact: www.enzi.senate.gov/public/index.cfm/contact?p=e-mail-sen...',\n",
       " 'Ernst, Joni - (R - IA) Class II 111 Russell Senate Office Building Washington DC 20510(202) 224-3254 Contact: www.ernst.senate.gov/public/index.cfm/contact',\n",
       " 'Feinstein, Dianne - (D - CA) Class I 331 Hart Senate Office Building Washington DC 20510(202) 224-3841 Contact: www.feinstein.senate.gov/public/index.cfm/e-mail-me',\n",
       " 'Fischer, Deb - (R - NE) Class I 454 Russell Senate Office Building Washington DC 20510(202) 224-6551 Contact: www.fischer.senate.gov/public/index.cfm/contact',\n",
       " 'Flake, Jeff - (R - AZ) Class I 413 Russell Senate Office Building Washington DC 20510(202) 224-4521 Contact: www.flake.senate.gov/public/index.cfm/contact-jeff',\n",
       " 'Franken, Al - (D - MN) Class II 309 Hart Senate Office Building Washington DC 20510(202) 224-5641 Contact: www.franken.senate.gov/?p=contact',\n",
       " 'Gardner, Cory - (R - CO) Class II 354 Russell Senate Office Building Washington DC 20510(202) 224-5941 Contact: www.gardner.senate.gov/contact-cory/email-cory',\n",
       " 'Gillibrand, Kirsten E. - (D - NY) Class I 478 Russell Senate Office Building Washington DC 20510(202) 224-4451 Contact: www.gillibrand.senate.gov/contact/',\n",
       " 'Graham, Lindsey - (R - SC) Class II 290 Russell Senate Office Building Washington DC 20510(202) 224-5972 Contact: www.lgraham.senate.gov/public/index.cfm/e-mail-senator-gr...',\n",
       " 'Grassley, Chuck - (R - IA) Class III 135 Hart Senate Office Building Washington DC 20510(202) 224-3744 Contact: www.grassley.senate.gov/contact',\n",
       " 'Harris, Kamala D. - (D - CA) Class III 112 Hart Senate Office Building Washington DC 20510(202) 224-3553 Contact: www.harris.senate.gov/content/contact-senator',\n",
       " 'Hassan, Margaret Wood - (D - NH) Class III 330 Hart Senate Office Building Washington DC 20510(202) 224-3324 Contact: www.hassan.senate.gov/content/contact-senator',\n",
       " 'Hatch, Orrin G. - (R - UT) Class I 104 Hart Senate Office Building Washington DC 20510(202) 224-5251 Contact: www.hatch.senate.gov/public/index.cfm/contact?p=Email-Orrin',\n",
       " 'Heinrich, Martin - (D - NM) Class I 303 Hart Senate Office Building Washington DC 20510(202) 224-5521 Contact: www.heinrich.senate.gov/contact',\n",
       " 'Heitkamp, Heidi - (D - ND) Class I 516 Hart Senate Office Building Washington DC 20510(202) 224-2043 Contact: www.heitkamp.senate.gov/public/index.cfm/contact',\n",
       " 'Heller, Dean - (R - NV) Class I 324 Hart Senate Office Building Washington DC 20510(202) 224-6244 Contact: www.heller.senate.gov/public/index.cfm/contact-form',\n",
       " 'Hirono, Mazie K. - (D - HI) Class I 730 Hart Senate Office Building Washington DC 20510(202) 224-6361 Contact: www.hirono.senate.gov/contact',\n",
       " 'Hoeven, John - (R - ND) Class III 338 Russell Senate Office Building Washington DC 20510(202) 224-2551 Contact: www.hoeven.senate.gov/public/index.cfm/email-the-senator',\n",
       " 'Inhofe, James M. - (R - OK) Class II 205 Russell Senate Office Building Washington DC 20510(202) 224-4721 Contact: www.inhofe.senate.gov/contact',\n",
       " 'Isakson, Johnny - (R - GA) Class III 131 Russell Senate Office Building Washington DC 20510(202) 224-3643 Contact: www.isakson.senate.gov/public/index.cfm/email-me',\n",
       " 'Johnson, Ron - (R - WI) Class III 328 Hart Senate Office Building Washington DC 20510(202) 224-5323 Contact: www.ronjohnson.senate.gov/public/index.cfm/email-the-sena...',\n",
       " 'Kaine, Tim - (D - VA) Class I 231 Russell Senate Office Building Washington DC 20510(202) 224-4024 Contact: www.kaine.senate.gov/contact',\n",
       " 'Kennedy, John - (R - LA) Class III 383 Russell Senate Office Building Washington DC 20510(202) 224-4623 Contact: www.kennedy.senate.gov/content/contact-senator',\n",
       " 'King, Angus S., Jr. - (I - ME) Class I 133 Hart Senate Office Building Washington DC 20510(202) 224-5344 Contact: www.king.senate.gov/contact',\n",
       " 'Klobuchar, Amy - (D - MN) Class I 302 Hart Senate Office Building Washington DC 20510(202) 224-3244 Contact: www.klobuchar.senate.gov/public/index.cfm/contact',\n",
       " 'Lankford, James - (R - OK) Class III 316 Hart Senate Office Building Washington DC 20510(202) 224-5754 Contact: www.lankford.senate.gov/contact/email',\n",
       " 'Leahy, Patrick J. - (D - VT) Class III 437 Russell Senate Office Building Washington DC 20510(202) 224-4242 Contact: www.leahy.senate.gov/contact/',\n",
       " 'Lee, Mike - (R - UT) Class III 361A Russell Senate Office Building Washington DC 20510(202) 224-5444 Contact: www.lee.senate.gov/public/index.cfm/contact',\n",
       " 'Manchin, Joe, III - (D - WV) Class I 306 Hart Senate Office Building Washington DC 20510(202) 224-3954 Contact: www.manchin.senate.gov/public/index.cfm/contact-form',\n",
       " 'Markey, Edward J. - (D - MA) Class II 255 Dirksen Senate Office Building Washington DC 20510(202) 224-2742 Contact: www.markey.senate.gov/contact',\n",
       " 'McCain, John - (R - AZ) Class III 218 Russell Senate Office Building Washington DC 20510(202) 224-2235 Contact: www.mccain.senate.gov/public/index.cfm/contact-form',\n",
       " 'McCaskill, Claire - (D - MO) Class I 503 Hart Senate Office Building Washington DC 20510(202) 224-6154 Contact: www.mccaskill.senate.gov/contact',\n",
       " 'McConnell, Mitch - (R - KY) Class II 317 Russell Senate Office Building Washington DC 20510(202) 224-2541 Contact: www.mcconnell.senate.gov/public/index.cfm?p=contact',\n",
       " 'Menendez, Robert - (D - NJ) Class I 528 Hart Senate Office Building Washington DC 20510(202) 224-4744 Contact: www.menendez.senate.gov/contact',\n",
       " 'Merkley, Jeff - (D - OR) Class II 313 Hart Senate Office Building Washington DC 20510(202) 224-3753 Contact: www.merkley.senate.gov/contact/',\n",
       " 'Moran, Jerry - (R - KS) Class III 521 Dirksen Senate Office Building Washington DC 20510(202) 224-6521 Contact: www.moran.senate.gov/public/index.cfm/e-mail-jerry',\n",
       " 'Murkowski, Lisa - (R - AK) Class III 522 Hart Senate Office Building Washington DC 20510(202) 224-6665 Contact: www.murkowski.senate.gov/public/index.cfm/contact',\n",
       " 'Murphy, Christopher - (D - CT) Class I 136 Hart Senate Office Building Washington DC 20510(202) 224-4041 Contact: www.murphy.senate.gov/contact',\n",
       " 'Murray, Patty - (D - WA) Class III 154 Russell Senate Office Building Washington DC 20510(202) 224-2621 Contact: www.murray.senate.gov/public/index.cfm/contactme',\n",
       " 'Nelson, Bill - (D - FL) Class I 716 Hart Senate Office Building Washington DC 20510(202) 224-5274 Contact: www.billnelson.senate.gov/contact-bill',\n",
       " 'Paul, Rand - (R - KY) Class III 167 Russell Senate Office Building Washington DC 20510(202) 224-4343 Contact: www.paul.senate.gov/connect/email-rand',\n",
       " 'Perdue, David - (R - GA) Class II 455 Russell Senate Office Building Washington DC 20510(202) 224-3521 Contact: www.perdue.senate.gov/connect/email',\n",
       " 'Peters, Gary C. - (D - MI) Class II 724 Hart Senate Office Building Washington DC 20510(202) 224-6221 Contact: www.peters.senate.gov/contact/email-gary',\n",
       " 'Portman, Rob - (R - OH) Class III 448 Russell Senate Office Building Washington DC 20510(202) 224-3353 Contact: www.portman.senate.gov/public/index.cfm/contact?p=contact...',\n",
       " 'Reed, Jack - (D - RI) Class II 728 Hart Senate Office Building Washington DC 20510(202) 224-4642 Contact: www.reed.senate.gov/contact/',\n",
       " 'Risch, James E. - (R - ID) Class II 483 Russell Senate Office Building Washington DC 20510(202) 224-2752 Contact: www.risch.senate.gov/public/index.cfm?p=Email',\n",
       " 'Roberts, Pat - (R - KS) Class II 109 Hart Senate Office Building Washington DC 20510(202) 224-4774 Contact: www.roberts.senate.gov/public/?p=EmailPat',\n",
       " 'Rounds, Mike - (R - SD) Class II 502 Hart Senate Office Building Washington DC 20510(202) 224-5842 Contact: www.rounds.senate.gov/contact/email-mike',\n",
       " 'Rubio, Marco - (R - FL) Class III 284 Russell Senate Office Building Washington DC 20510(202) 224-3041 Contact: www.rubio.senate.gov/public/index.cfm/contact',\n",
       " 'Sanders, Bernard - (I - VT) Class I 332 Dirksen Senate Office Building Washington DC 20510(202) 224-5141 Contact: www.sanders.senate.gov/contact/',\n",
       " 'Sasse, Ben - (R - NE) Class II 136 Russell Senate Office Building Washington DC 20510(202) 224-4224 Contact: www.sasse.senate.gov/public/index.cfm/email-ben',\n",
       " 'Schatz, Brian - (D - HI) Class III 722 Hart Senate Office Building Washington DC 20510(202) 224-3934 Contact: www.schatz.senate.gov/contact',\n",
       " 'Schumer, Charles E. - (D - NY) Class III 322 Hart Senate Office Building Washington DC 20510(202) 224-6542 Contact: www.schumer.senate.gov/contact/email-chuck',\n",
       " 'Scott, Tim - (R - SC) Class III 717 Hart Senate Office Building Washington DC 20510(202) 224-6121 Contact: www.scott.senate.gov/contact/email-me',\n",
       " 'Shaheen, Jeanne - (D - NH) Class II 506 Hart Senate Office Building Washington DC 20510(202) 224-2841 Contact: www.shaheen.senate.gov/contact/contact-jeanne',\n",
       " 'Shelby, Richard C. - (R - AL) Class III 304 Russell Senate Office Building Washington DC 20510(202) 224-5744 Contact: www.shelby.senate.gov/public/index.cfm/emailsenatorshelby',\n",
       " 'Stabenow, Debbie - (D - MI) Class I 731 Hart Senate Office Building Washington DC 20510(202) 224-4822 Contact: www.stabenow.senate.gov/contact',\n",
       " 'Strange, Luther - (R - AL) Class II 326 Russell Senate Office Building Washington DC 20510(202) 224-4124 Contact: www.strange.senate.gov/content/contact-senator',\n",
       " 'Sullivan, Dan - (R - AK) Class II 702 Hart Senate Office Building Washington DC 20510(202) 224-3004 Contact: www.sullivan.senate.gov/contact/email',\n",
       " 'Tester, Jon - (D - MT) Class I 311 Hart Senate Office Building Washington DC 20510(202) 224-2644 Contact: www.tester.senate.gov/?p=email_senator',\n",
       " 'Thune, John - (R - SD) Class III 511 Dirksen Senate Office Building Washington DC 20510(202) 224-2321 Contact: www.thune.senate.gov/public/index.cfm/contact',\n",
       " 'Tillis, Thom - (R - NC) Class II 185 Dirksen Senate Office Building Washington DC 20510(202) 224-6342 Contact: www.tillis.senate.gov/public/index.cfm/email-me',\n",
       " 'Toomey, Patrick J. - (R - PA) Class III 248 Russell Senate Office Building Washington DC 20510(202) 224-4254 Contact: www.toomey.senate.gov/?p=contact',\n",
       " 'Udall, Tom - (D - NM) Class II 531 Hart Senate Office Building Washington DC 20510(202) 224-6621 Contact: www.tomudall.senate.gov/?p=contact',\n",
       " 'Van Hollen, Chris - (D - MD) Class III 110 Hart Senate Office Building Washington DC 20510(202) 224-4654 Contact: www.vanhollen.senate.gov/content/contact-senator',\n",
       " 'Warner, Mark R. - (D - VA) Class II 703 Hart Senate Office Building Washington DC 20510(202) 224-2023 Contact: www.warner.senate.gov/public/index.cfm?p=Contact',\n",
       " 'Warren, Elizabeth - (D - MA) Class I 317 Hart Senate Office Building Washington DC 20510(202) 224-4543 Contact: www.warren.senate.gov/?p=email_senator',\n",
       " 'Whitehouse, Sheldon - (D - RI) Class I 530 Hart Senate Office Building Washington DC 20510(202) 224-2921 Contact: www.whitehouse.senate.gov/contact/email-sheldon',\n",
       " 'Wicker, Roger F. - (R - MS) Class I 555 Dirksen Senate Office Building Washington DC 20510(202) 224-6253 Contact: www.wicker.senate.gov/public/index.cfm/contact',\n",
       " 'Wyden, Ron - (D - OR) Class III 221 Dirksen Senate Office Building Washington DC 20510(202) 224-5244 Contact: www.wyden.senate.gov/contact/',\n",
       " 'Young, Todd - (R - IN) Class III 400 Russell Senate Office Building Washington DC 20510(202) 224-5623 Contact: www.young.senate.gov/content/contact-senator']"
      ]
     },
     "execution_count": 5,
     "metadata": {},
     "output_type": "execute_result"
    }
   ],
   "source": [
    "senator_list = senators.splitlines()\n",
    "senator_list"
   ]
  },
  {
   "cell_type": "code",
   "execution_count": 6,
   "metadata": {},
   "outputs": [
    {
     "data": {
      "text/plain": [
       "['Cotton, Tom - (R - AR) Class II 124 Russell Senate Office Building Washington DC 20510(202) 224-2353 Contact: www.cotton.senate.gov/?p=contact',\n",
       " 'Isakson, Johnny - (R - GA) Class III 131 Russell Senate Office Building Washington DC 20510(202) 224-3643 Contact: www.isakson.senate.gov/public/index.cfm/email-me',\n",
       " 'Johnson, Ron - (R - WI) Class III 328 Hart Senate Office Building Washington DC 20510(202) 224-5323 Contact: www.ronjohnson.senate.gov/public/index.cfm/email-the-sena...',\n",
       " 'Nelson, Bill - (D - FL) Class I 716 Hart Senate Office Building Washington DC 20510(202) 224-5274 Contact: www.billnelson.senate.gov/contact-bill']"
      ]
     },
     "execution_count": 6,
     "metadata": {},
     "output_type": "execute_result"
    }
   ],
   "source": [
    "#Here's an example--Getting all senators a with a last name that ends with \"on\"\n",
    "my_regex = r\"^\\w+on\\b\"\n",
    "[line for line in senator_list if re.search(my_regex, line, re.IGNORECASE)]"
   ]
  },
  {
   "cell_type": "code",
   "execution_count": null,
   "metadata": {
    "collapsed": true
   },
   "outputs": [],
   "source": [
    "#1. Get a list of all senators name Thom, Tom, or Thomas\n",
    "my_regex = r\"---\"\n",
    "[line for line in senator_list if re.search(my_regex, line, re.IGNORECASE)]"
   ]
  },
  {
   "cell_type": "code",
   "execution_count": null,
   "metadata": {
    "collapsed": true
   },
   "outputs": [],
   "source": [
    "#2. List all \"class I\" senators\n",
    "my_regex = r\"---\"\n",
    "[line for line in senator_list if re.search(my_regex, line, re.IGNORECASE)]"
   ]
  },
  {
   "cell_type": "code",
   "execution_count": null,
   "metadata": {
    "collapsed": true
   },
   "outputs": [],
   "source": [
    "#3. List all class II and III senators\n",
    "my_regex = r\"---\"\n",
    "[line for line in senator_list if re.search(my_regex, line, re.IGNORECASE)]"
   ]
  },
  {
   "cell_type": "code",
   "execution_count": null,
   "metadata": {
    "collapsed": true
   },
   "outputs": [],
   "source": [
    "#4. List all independent senators\n",
    "my_regex = r\"---\"\n",
    "[line for line in senator_list if re.search(my_regex, line, re.IGNORECASE)]"
   ]
  },
  {
   "cell_type": "code",
   "execution_count": null,
   "metadata": {
    "collapsed": true
   },
   "outputs": [],
   "source": [
    "#5. List all senators whose phone Numbers end with 41\n",
    "my_regex = r\"---\"\n",
    "[line for line in senator_list if re.search(my_regex, line, re.IGNORECASE)]"
   ]
  },
  {
   "cell_type": "code",
   "execution_count": null,
   "metadata": {
    "collapsed": true
   },
   "outputs": [],
   "source": [
    "#6. List All senators from a state that begins with A, B or C\n",
    "my_regex = r\"---\"\n",
    "[line for line in senator_list if re.search(my_regex, line, re.IGNORECASE)]"
   ]
  },
  {
   "cell_type": "markdown",
   "metadata": {},
   "source": [
    "The questions below are on the waste land, go to courseworks and download `wasteland.txt` and then put in the proper path to your file on your computer. Then run the two cells below."
   ]
  },
  {
   "cell_type": "code",
   "execution_count": 8,
   "metadata": {
    "collapsed": true
   },
   "outputs": [],
   "source": [
    "f = open('/Users/Jon/Documents/columbia_syllabus/wasteland.txt', 'r')\n",
    "wasteland = f.read()"
   ]
  },
  {
   "cell_type": "code",
   "execution_count": 9,
   "metadata": {},
   "outputs": [],
   "source": [
    "poemlines = wasteland.split('\\n')\n",
    "poemlines = [line.strip() for line in poemlines]"
   ]
  },
  {
   "cell_type": "code",
   "execution_count": null,
   "metadata": {
    "collapsed": true
   },
   "outputs": [],
   "source": [
    "#7. Lines with the WORD \"king\" in them\n",
    "my_regex = r\"---\"\n",
    "[line for line in poemlines if re.search(my_regex, line,re.IGNORECASE)]"
   ]
  },
  {
   "cell_type": "code",
   "execution_count": null,
   "metadata": {
    "collapsed": true
   },
   "outputs": [],
   "source": [
    "#8. Lines with the words ending in \"king\", But not the word \"king\"\n",
    "my_regex = r\"---\"\n",
    "[line for line in poemlines if re.search(my_regex, line,re.IGNORECASE)]\n"
   ]
  },
  {
   "cell_type": "code",
   "execution_count": null,
   "metadata": {
    "collapsed": true
   },
   "outputs": [],
   "source": [
    "#9. Lines with words containing 3 vowels in a row\n",
    "my_regex = r\"---\"\n",
    "[line for line in poemlines if re.search(my_regex, line,re.IGNORECASE)]"
   ]
  },
  {
   "cell_type": "code",
   "execution_count": null,
   "metadata": {
    "collapsed": true
   },
   "outputs": [],
   "source": [
    "#10. Lines that are in all capitals  from beginning to end\n",
    "my_regex = r\"---\"\n",
    "[line for line in poemlines if re.search(my_regex, line)]"
   ]
  },
  {
   "cell_type": "code",
   "execution_count": null,
   "metadata": {
    "collapsed": true
   },
   "outputs": [],
   "source": [
    "#11. Lines that end with a Capitalized word.\n",
    "my_regex = r\"---\"\n",
    "[line for line in poemlines if re.search(my_regex, line)]"
   ]
  },
  {
   "cell_type": "code",
   "execution_count": null,
   "metadata": {
    "collapsed": true
   },
   "outputs": [],
   "source": [
    "#12. Lines that contain two words with the letters \"ow\" in them\n",
    "my_regex = r\"---\"\n",
    "[line for line in poemlines if re.search(my_regex, line,re.IGNORECASE)]"
   ]
  },
  {
   "cell_type": "code",
   "execution_count": null,
   "metadata": {
    "collapsed": true
   },
   "outputs": [],
   "source": [
    "#13. Lines that begin with \"Da\"\n",
    "my_regex = r\"---\"\n",
    "[line for line in poemlines if re.search(my_regex, line,re.IGNORECASE)]"
   ]
  },
  {
   "cell_type": "code",
   "execution_count": null,
   "metadata": {
    "collapsed": true
   },
   "outputs": [],
   "source": [
    "#14. Lines that end with ? (Remember ? is a special character)\n",
    "my_regex = r\"---\"\n",
    "[line for line in poemlines if re.search(my_regex, line,re.IGNORECASE)]"
   ]
  },
  {
   "cell_type": "code",
   "execution_count": null,
   "metadata": {
    "collapsed": true
   },
   "outputs": [],
   "source": [
    "#15. Lines that are between 8 and 10 characters long.\n",
    "my_regex = r\"---\"\n",
    "[line for line in poemlines if re.search(my_regex, line,re.IGNORECASE)]"
   ]
  },
  {
   "cell_type": "code",
   "execution_count": null,
   "metadata": {
    "collapsed": true
   },
   "outputs": [],
   "source": []
  },
  {
   "cell_type": "code",
   "execution_count": null,
   "metadata": {
    "collapsed": true
   },
   "outputs": [],
   "source": []
  }
 ],
 "metadata": {
  "kernelspec": {
   "display_name": "Python 3",
   "language": "python",
   "name": "python3"
  },
  "language_info": {
   "codemirror_mode": {
    "name": "ipython",
    "version": 3
   },
   "file_extension": ".py",
   "mimetype": "text/x-python",
   "name": "python",
   "nbconvert_exporter": "python",
   "pygments_lexer": "ipython3",
   "version": "3.6.1"
  }
 },
 "nbformat": 4,
 "nbformat_minor": 2
}
