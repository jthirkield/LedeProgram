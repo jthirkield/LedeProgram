{
 "cells": [
  {
   "cell_type": "markdown",
   "metadata": {},
   "source": [
    "## INVESTIGATING UNSTRUCTURED TEXT\n",
    "As we saw last week, even the sometimes messy and unpredictable Markup language of HTML can give us clues to how data may be structured. But language as a system (as we saw in Borges) also comes with its own structures. Python provides numerous methods for navigating through basic linguistic patterns. Let's begin with repetition itself:"
   ]
  },
  {
   "cell_type": "code",
   "execution_count": null,
   "metadata": {
    "collapsed": true
   },
   "outputs": [],
   "source": [
    "speech = '''Tomorrow, and tomorrow, and tomorrow,\n",
    "Creeps in this petty pace from day to day,\n",
    "To the last syllable of recorded time;\n",
    "And all our yesterdays have lighted fools\n",
    "The way to dusty death. Out, out, brief candle!\n",
    "Life's but a walking shadow, a poor player,\n",
    "That struts and frets his hour upon the stage,\n",
    "And then is heard no more. It is a tale\n",
    "Told by an idiot, full of sound and fury,\n",
    "Signifying nothing.'''\n",
    "\n"
   ]
  },
  {
   "cell_type": "markdown",
   "metadata": {},
   "source": [
    "There're various ways to investigate Macbeth's famous, very short, speech. We begin by searching for the obvious, searching through the whole speech."
   ]
  },
  {
   "cell_type": "code",
   "execution_count": null,
   "metadata": {},
   "outputs": [],
   "source": [
    "'tomorrow' in speech"
   ]
  },
  {
   "cell_type": "code",
   "execution_count": null,
   "metadata": {},
   "outputs": [],
   "source": [
    "speech.find('tomorrow')"
   ]
  },
  {
   "cell_type": "code",
   "execution_count": null,
   "metadata": {},
   "outputs": [],
   "source": [
    "speech[14:14+len('tomorrow')]\n",
    "#speech[14:22]\n"
   ]
  },
  {
   "cell_type": "code",
   "execution_count": null,
   "metadata": {},
   "outputs": [],
   "source": [
    "speech.count('tomorrow')"
   ]
  },
  {
   "cell_type": "code",
   "execution_count": null,
   "metadata": {},
   "outputs": [],
   "source": [
    "speech.lower().count('tomorrow')\n",
    "#speech.lower().find('tomorrow')"
   ]
  },
  {
   "cell_type": "code",
   "execution_count": null,
   "metadata": {},
   "outputs": [],
   "source": [
    "speech.upper().count('a')"
   ]
  },
  {
   "cell_type": "code",
   "execution_count": null,
   "metadata": {},
   "outputs": [],
   "source": [
    "speech.lower().count(' a')"
   ]
  },
  {
   "cell_type": "code",
   "execution_count": null,
   "metadata": {},
   "outputs": [],
   "source": [
    "speech.lower().count(' a ')"
   ]
  },
  {
   "cell_type": "markdown",
   "metadata": {},
   "source": [
    "Of course, there is already a structure to the speech that we are ignoring--it has lines. Let's get out those lines and put them into a list."
   ]
  },
  {
   "cell_type": "code",
   "execution_count": null,
   "metadata": {},
   "outputs": [],
   "source": [
    "lines = speech.split('\\n')\n",
    "#lines = tom.splitlines() \n",
    "lines"
   ]
  },
  {
   "cell_type": "code",
   "execution_count": null,
   "metadata": {},
   "outputs": [],
   "source": [
    "firstline = lines[0]\n",
    "firstline"
   ]
  },
  {
   "cell_type": "markdown",
   "metadata": {},
   "source": [
    "Python has a handful of built-in ways to search a line. Here are just a few."
   ]
  },
  {
   "cell_type": "code",
   "execution_count": null,
   "metadata": {},
   "outputs": [],
   "source": [
    "yest = firstline.replace('tomorrow','yesterday',1)\n",
    "yest"
   ]
  },
  {
   "cell_type": "code",
   "execution_count": null,
   "metadata": {},
   "outputs": [],
   "source": [
    "firstline.startswith('tomorrow')"
   ]
  },
  {
   "cell_type": "code",
   "execution_count": null,
   "metadata": {},
   "outputs": [],
   "source": [
    "firstline.endswith('tomorrow')"
   ]
  },
  {
   "cell_type": "markdown",
   "metadata": {},
   "source": [
    "## List comprehensions\n",
    "What if we want to search through every line. The obvious way is using a `for` loop."
   ]
  },
  {
   "cell_type": "code",
   "execution_count": null,
   "metadata": {},
   "outputs": [],
   "source": [
    "for line in lines:\n",
    "    if line.startswith('And'):\n",
    "        print(line)"
   ]
  },
  {
   "cell_type": "markdown",
   "metadata": {},
   "source": [
    "That is a very simple loop, so simple that Python has a solution for a looping through a list using a one-line statement, called a **list comprehension**"
   ]
  },
  {
   "cell_type": "code",
   "execution_count": null,
   "metadata": {},
   "outputs": [],
   "source": [
    "[line for line in lines if line.startswith('And')]"
   ]
  },
  {
   "cell_type": "markdown",
   "metadata": {},
   "source": [
    "Remember this, when we start using more robust ways of searching line by line (sentence by sentence, etc) these will come in handy. But before we jump to those special searching methods, let's have a little detour on sorting."
   ]
  },
  {
   "cell_type": "markdown",
   "metadata": {},
   "source": [
    "## Sorting!\n",
    "Say we want to investigate the lines in the speech, and order them from longest line to shortest line. Well we know how to get the length of each line using loop, but how can we measure them to reorder our list?"
   ]
  },
  {
   "cell_type": "code",
   "execution_count": null,
   "metadata": {},
   "outputs": [],
   "source": [
    "for line in lines:\n",
    "    print(len(line))"
   ]
  },
  {
   "cell_type": "markdown",
   "metadata": {},
   "source": [
    "We could write a function that pairs these numbers with each line, and then sorts through everything--but sort functions are notoriously challenging to write. And Python has a built in sorting function."
   ]
  },
  {
   "cell_type": "code",
   "execution_count": null,
   "metadata": {},
   "outputs": [],
   "source": [
    "sortlines = lines.copy()\n",
    "sortlines.sort()\n",
    "sortlines"
   ]
  },
  {
   "cell_type": "markdown",
   "metadata": {},
   "source": [
    "But not only that, Python has a built in mini-function generator called `lambda` that you can nest inside at sorting function."
   ]
  },
  {
   "cell_type": "code",
   "execution_count": null,
   "metadata": {},
   "outputs": [],
   "source": [
    "sortlines = lines.copy()\n",
    "sortlines.sort(key=lambda x: len(x), reverse=True)\n",
    "#sortlines.sort(key=lambda x: x.split()[-1], reverse=True)\n",
    "sortlines"
   ]
  },
  {
   "cell_type": "markdown",
   "metadata": {},
   "source": [
    "## Regular Expressions\n",
    "The more you work with unstructured text, the greater desire you will have for the power that regular expressions give you. Regular expressions are a mini-language to themselves (often sharing similarities across different programming languages). They allow you to search for a variety of patterns within text. The most obvious patterns you might find our telephone numbers, ZIP Codes, email addresses (social security numbers and credit card numbers for the more malicious)--and many regular expressions have been written to capture these with varying levels accuracy. Today, however, our focus will be on exploring text.\n",
    "\n",
    "First import the built-in regular expression library `re`"
   ]
  },
  {
   "cell_type": "code",
   "execution_count": null,
   "metadata": {
    "collapsed": true
   },
   "outputs": [],
   "source": [
    "import re"
   ]
  },
  {
   "cell_type": "markdown",
   "metadata": {},
   "source": [
    "There are five main regular expression functions that we will work with:\n",
    "\n",
    "**match()** & **search()**: these methods tell you whether or not they found a match, and where that match was located--although match() only searches at the very beginning of the line--so it is rarely useful.\n",
    "\n",
    "**split()** & **sub()**: these two work just like split() & replace(), but they search for patterns and return a list or a substitute string respective.\n",
    "\n",
    "**findall()**: just as the name sounds, this method returns a list of matching patterns that were found throughout the entire string."
   ]
  },
  {
   "cell_type": "code",
   "execution_count": null,
   "metadata": {},
   "outputs": [],
   "source": [
    "\n",
    "#found = re.match(\"morrow\",firstline,re.IGNORECASE)\n",
    "found = re.search(\"morrow\",firstline,re.IGNORECASE)\n",
    "found.group()\n",
    "#found.end()"
   ]
  },
  {
   "cell_type": "code",
   "execution_count": null,
   "metadata": {},
   "outputs": [],
   "source": [
    "newlist = re.split(\"and\",firstline,flags=re.IGNORECASE)\n",
    "newstring = re.sub(\"tomorrow\",\"yesterday\",firstline,flags=re.IGNORECASE)\n",
    "print(newlist,newstring)"
   ]
  },
  {
   "cell_type": "code",
   "execution_count": null,
   "metadata": {},
   "outputs": [],
   "source": [
    "words = re.findall(\"to\",firstline,re.IGNORECASE)\n",
    "words"
   ]
  },
  {
   "cell_type": "markdown",
   "metadata": {},
   "source": [
    "## Special characters\n",
    "While the search methods above are more useful than what's built into Python, it is the pattern seeking commands that--once you get used to them--do the most powerful work.\n",
    "\n",
    "Here's a list  of the most common pattern seeking characters:\n",
    "\n",
    "| special character | what it does |\n",
    "|--------|---------|\n",
    "| `.` | Match any character except newline |\n",
    "| `^` | match the beginning of string |\n",
    "| `$` | match the end of string, including `\\n` |\n",
    "| `*` | match 0 or more repetitions |\n",
    "| `+` | match 1 or more repetitions  |\n",
    "| `?` | match 0 or 1 repetitions  |\n",
    "| `{m}` | m specifies the number of repetitions  |\n",
    "| `{m,n}` | m and n specifies a range of repetitions  |\n",
    "| `{m,}` | m specifies the minimum number of repetitions  |\n"
   ]
  },
  {
   "cell_type": "code",
   "execution_count": null,
   "metadata": {},
   "outputs": [],
   "source": [
    "all_ll = re.findall(\"..ll\",speech)\n",
    "#re.search(\"^Tomorrow\",firstline)\n",
    "#re.search(\"tomorrow,$\",firstline)\n",
    "all_ll\n"
   ]
  },
  {
   "cell_type": "code",
   "execution_count": null,
   "metadata": {},
   "outputs": [],
   "source": [
    "#a list comprehension again!\n",
    "#Note that match() would produce the same thing\n",
    "[line for line in lines if re.search(\"^And\",line)]"
   ]
  },
  {
   "cell_type": "code",
   "execution_count": null,
   "metadata": {},
   "outputs": [],
   "source": [
    "[line for line in lines if re.search(\",$\",line)]"
   ]
  },
  {
   "cell_type": "code",
   "execution_count": null,
   "metadata": {},
   "outputs": [],
   "source": [
    "th_plus = re.findall(\"the*..\",speech)\n",
    "th_plus"
   ]
  },
  {
   "cell_type": "code",
   "execution_count": null,
   "metadata": {},
   "outputs": [],
   "source": [
    "l_plus = re.findall(\"..l+..\",speech)\n",
    "l_plus"
   ]
  },
  {
   "cell_type": "code",
   "execution_count": null,
   "metadata": {},
   "outputs": [],
   "source": [
    "l_plus = re.findall(\".or?\",speech)\n",
    "l_plus"
   ]
  },
  {
   "cell_type": "code",
   "execution_count": null,
   "metadata": {},
   "outputs": [],
   "source": [
    "o_2 = re.findall(\"..o{2}..\",speech)\n",
    "o_2"
   ]
  },
  {
   "cell_type": "markdown",
   "metadata": {},
   "source": [
    "## Sets and Groups\n",
    "**Sets**, which include `[]` in shortcuts like `\\w`, allow you to search for certain types of characters. **Groups**, which are demarcated by `()` allow you to specify important sub-patterns that you can access individually.\n",
    "\n",
    "| enclosures | what it does |\n",
    "|--------|---------|\n",
    "| `[]` | A defined set of characters to search for |\n",
    "| `()` | A group of characters to search for, can be accessed individually in the results. |\n",
    "\n",
    "\n",
    "| Examples of sets | what it does |\n",
    "|--------|---------|\n",
    "| `[aeiou]` | Find any vowel |\n",
    "| `[Tt]` | Find a lowercase or uppercase t |\n",
    "| `[0-9]` | Find any number, there is a shortcut for this |\n",
    "| `[^0-9]` | Find anything that's not number, there is a shortcut for this |\n",
    "| `[13579]` | Find any odd numer |\n",
    "| `[A-Za-z]` | Find any letter, there is a shortcut for this too |\n",
    "| `[+.*]` | Find those actual characters, special characters are canceled in sets (not including shortcuts: see below) |\n",
    "\n",
    "\n",
    "| Shortcut | what it does |\n",
    "|--------|---------|\n",
    "| `\\b` | Word boundary: spaces, commas, end of line, anything that comes at the beginning or end of a word |\n",
    "| `\\B` | Not a word-boundary |\n",
    "| `\\d` | numbers [0-9] |\n",
    "| `\\D` | not numbers |\n",
    "| `\\s` | whitespace characters: space, tab... |\n",
    "| `\\S` | not space |\n",
    "| `\\w` | letters |\n",
    "| `\\W` | not letters |\n"
   ]
  },
  {
   "cell_type": "code",
   "execution_count": null,
   "metadata": {
    "collapsed": true
   },
   "outputs": [],
   "source": []
  },
  {
   "cell_type": "code",
   "execution_count": null,
   "metadata": {},
   "outputs": [],
   "source": [
    "words = re.findall(r\"\\b[CcBb]\\w+\",speech)\n",
    "words"
   ]
  },
  {
   "cell_type": "code",
   "execution_count": null,
   "metadata": {},
   "outputs": [],
   "source": [
    "words = re.findall(r\"[tT]\\w+\",speech)\n",
    "#words = re.findall(r\"([tT]\\w+)\",line)\n",
    "words"
   ]
  },
  {
   "cell_type": "markdown",
   "metadata": {},
   "source": [
    "Looking for phrases"
   ]
  },
  {
   "cell_type": "code",
   "execution_count": null,
   "metadata": {},
   "outputs": [],
   "source": [
    "phrases = re.findall(r\"(?=(\\b\\w{2}\\W+\\w+\\W+\\w+))\",speech)\n",
    "#phrases = re.findall(r\"(\\b\\w{2}) (\\w+) (\\w+)\",speech)\n",
    "phrases"
   ]
  },
  {
   "cell_type": "markdown",
   "metadata": {},
   "source": [
    "Searching a longer poem"
   ]
  },
  {
   "cell_type": "code",
   "execution_count": null,
   "metadata": {
    "collapsed": true
   },
   "outputs": [],
   "source": [
    "f = open('/Users/Jon/Documents/columbia_syllabus/wasteland.txt', 'r')\n",
    "wasteland = f.read()"
   ]
  },
  {
   "cell_type": "code",
   "execution_count": null,
   "metadata": {
    "collapsed": true
   },
   "outputs": [],
   "source": [
    "poemlines = wasteland.split('\\n')"
   ]
  },
  {
   "cell_type": "code",
   "execution_count": null,
   "metadata": {},
   "outputs": [],
   "source": [
    "\n",
    "[line for line in poemlines if re.search(\"win.\", line)]\n"
   ]
  },
  {
   "cell_type": "markdown",
   "metadata": {},
   "source": [
    "Searching whole play"
   ]
  },
  {
   "cell_type": "code",
   "execution_count": null,
   "metadata": {
    "collapsed": true
   },
   "outputs": [],
   "source": [
    "f = open('/Users/Jon/Documents/columbia_syllabus/hamlet.txt', 'r')\n",
    "play = f.read()\n"
   ]
  },
  {
   "cell_type": "code",
   "execution_count": null,
   "metadata": {},
   "outputs": [],
   "source": [
    "type(play)"
   ]
  },
  {
   "cell_type": "code",
   "execution_count": null,
   "metadata": {},
   "outputs": [],
   "source": [
    "play[:500]"
   ]
  },
  {
   "cell_type": "code",
   "execution_count": null,
   "metadata": {},
   "outputs": [],
   "source": [
    "all_chars = re.findall(r\"[\\n]([A-Z]+)[\\n]\",play)\n",
    "all_chars"
   ]
  },
  {
   "cell_type": "code",
   "execution_count": null,
   "metadata": {
    "collapsed": true
   },
   "outputs": [],
   "source": []
  },
  {
   "cell_type": "code",
   "execution_count": null,
   "metadata": {
    "collapsed": true
   },
   "outputs": [],
   "source": []
  }
 ],
 "metadata": {
  "kernelspec": {
   "display_name": "Python 3",
   "language": "python",
   "name": "python3"
  },
  "language_info": {
   "codemirror_mode": {
    "name": "ipython",
    "version": 3
   },
   "file_extension": ".py",
   "mimetype": "text/x-python",
   "name": "python",
   "nbconvert_exporter": "python",
   "pygments_lexer": "ipython3",
   "version": "3.6.1"
  }
 },
 "nbformat": 4,
 "nbformat_minor": 2
}
